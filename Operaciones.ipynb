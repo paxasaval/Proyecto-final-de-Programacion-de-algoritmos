{
 "cells": [
  {
   "cell_type": "code",
   "execution_count": 18,
   "metadata": {},
   "outputs": [
    {
     "data": {
      "text/html": [
       "\n",
       "    <div class=\"bk-root\">\n",
       "        <a href=\"https://bokeh.pydata.org\" target=\"_blank\" class=\"bk-logo bk-logo-small bk-logo-notebook\"></a>\n",
       "        <span id=\"2932\">Loading BokehJS ...</span>\n",
       "    </div>"
      ]
     },
     "metadata": {},
     "output_type": "display_data"
    },
    {
     "data": {
      "application/javascript": [
       "\n",
       "(function(root) {\n",
       "  function now() {\n",
       "    return new Date();\n",
       "  }\n",
       "\n",
       "  var force = true;\n",
       "\n",
       "  if (typeof (root._bokeh_onload_callbacks) === \"undefined\" || force === true) {\n",
       "    root._bokeh_onload_callbacks = [];\n",
       "    root._bokeh_is_loading = undefined;\n",
       "  }\n",
       "\n",
       "  var JS_MIME_TYPE = 'application/javascript';\n",
       "  var HTML_MIME_TYPE = 'text/html';\n",
       "  var EXEC_MIME_TYPE = 'application/vnd.bokehjs_exec.v0+json';\n",
       "  var CLASS_NAME = 'output_bokeh rendered_html';\n",
       "\n",
       "  /**\n",
       "   * Render data to the DOM node\n",
       "   */\n",
       "  function render(props, node) {\n",
       "    var script = document.createElement(\"script\");\n",
       "    node.appendChild(script);\n",
       "  }\n",
       "\n",
       "  /**\n",
       "   * Handle when an output is cleared or removed\n",
       "   */\n",
       "  function handleClearOutput(event, handle) {\n",
       "    var cell = handle.cell;\n",
       "\n",
       "    var id = cell.output_area._bokeh_element_id;\n",
       "    var server_id = cell.output_area._bokeh_server_id;\n",
       "    // Clean up Bokeh references\n",
       "    if (id != null && id in Bokeh.index) {\n",
       "      Bokeh.index[id].model.document.clear();\n",
       "      delete Bokeh.index[id];\n",
       "    }\n",
       "\n",
       "    if (server_id !== undefined) {\n",
       "      // Clean up Bokeh references\n",
       "      var cmd = \"from bokeh.io.state import curstate; print(curstate().uuid_to_server['\" + server_id + \"'].get_sessions()[0].document.roots[0]._id)\";\n",
       "      cell.notebook.kernel.execute(cmd, {\n",
       "        iopub: {\n",
       "          output: function(msg) {\n",
       "            var id = msg.content.text.trim();\n",
       "            if (id in Bokeh.index) {\n",
       "              Bokeh.index[id].model.document.clear();\n",
       "              delete Bokeh.index[id];\n",
       "            }\n",
       "          }\n",
       "        }\n",
       "      });\n",
       "      // Destroy server and session\n",
       "      var cmd = \"import bokeh.io.notebook as ion; ion.destroy_server('\" + server_id + \"')\";\n",
       "      cell.notebook.kernel.execute(cmd);\n",
       "    }\n",
       "  }\n",
       "\n",
       "  /**\n",
       "   * Handle when a new output is added\n",
       "   */\n",
       "  function handleAddOutput(event, handle) {\n",
       "    var output_area = handle.output_area;\n",
       "    var output = handle.output;\n",
       "\n",
       "    // limit handleAddOutput to display_data with EXEC_MIME_TYPE content only\n",
       "    if ((output.output_type != \"display_data\") || (!output.data.hasOwnProperty(EXEC_MIME_TYPE))) {\n",
       "      return\n",
       "    }\n",
       "\n",
       "    var toinsert = output_area.element.find(\".\" + CLASS_NAME.split(' ')[0]);\n",
       "\n",
       "    if (output.metadata[EXEC_MIME_TYPE][\"id\"] !== undefined) {\n",
       "      toinsert[toinsert.length - 1].firstChild.textContent = output.data[JS_MIME_TYPE];\n",
       "      // store reference to embed id on output_area\n",
       "      output_area._bokeh_element_id = output.metadata[EXEC_MIME_TYPE][\"id\"];\n",
       "    }\n",
       "    if (output.metadata[EXEC_MIME_TYPE][\"server_id\"] !== undefined) {\n",
       "      var bk_div = document.createElement(\"div\");\n",
       "      bk_div.innerHTML = output.data[HTML_MIME_TYPE];\n",
       "      var script_attrs = bk_div.children[0].attributes;\n",
       "      for (var i = 0; i < script_attrs.length; i++) {\n",
       "        toinsert[toinsert.length - 1].firstChild.setAttribute(script_attrs[i].name, script_attrs[i].value);\n",
       "      }\n",
       "      // store reference to server id on output_area\n",
       "      output_area._bokeh_server_id = output.metadata[EXEC_MIME_TYPE][\"server_id\"];\n",
       "    }\n",
       "  }\n",
       "\n",
       "  function register_renderer(events, OutputArea) {\n",
       "\n",
       "    function append_mime(data, metadata, element) {\n",
       "      // create a DOM node to render to\n",
       "      var toinsert = this.create_output_subarea(\n",
       "        metadata,\n",
       "        CLASS_NAME,\n",
       "        EXEC_MIME_TYPE\n",
       "      );\n",
       "      this.keyboard_manager.register_events(toinsert);\n",
       "      // Render to node\n",
       "      var props = {data: data, metadata: metadata[EXEC_MIME_TYPE]};\n",
       "      render(props, toinsert[toinsert.length - 1]);\n",
       "      element.append(toinsert);\n",
       "      return toinsert\n",
       "    }\n",
       "\n",
       "    /* Handle when an output is cleared or removed */\n",
       "    events.on('clear_output.CodeCell', handleClearOutput);\n",
       "    events.on('delete.Cell', handleClearOutput);\n",
       "\n",
       "    /* Handle when a new output is added */\n",
       "    events.on('output_added.OutputArea', handleAddOutput);\n",
       "\n",
       "    /**\n",
       "     * Register the mime type and append_mime function with output_area\n",
       "     */\n",
       "    OutputArea.prototype.register_mime_type(EXEC_MIME_TYPE, append_mime, {\n",
       "      /* Is output safe? */\n",
       "      safe: true,\n",
       "      /* Index of renderer in `output_area.display_order` */\n",
       "      index: 0\n",
       "    });\n",
       "  }\n",
       "\n",
       "  // register the mime type if in Jupyter Notebook environment and previously unregistered\n",
       "  if (root.Jupyter !== undefined) {\n",
       "    var events = require('base/js/events');\n",
       "    var OutputArea = require('notebook/js/outputarea').OutputArea;\n",
       "\n",
       "    if (OutputArea.prototype.mime_types().indexOf(EXEC_MIME_TYPE) == -1) {\n",
       "      register_renderer(events, OutputArea);\n",
       "    }\n",
       "  }\n",
       "\n",
       "  \n",
       "  if (typeof (root._bokeh_timeout) === \"undefined\" || force === true) {\n",
       "    root._bokeh_timeout = Date.now() + 5000;\n",
       "    root._bokeh_failed_load = false;\n",
       "  }\n",
       "\n",
       "  var NB_LOAD_WARNING = {'data': {'text/html':\n",
       "     \"<div style='background-color: #fdd'>\\n\"+\n",
       "     \"<p>\\n\"+\n",
       "     \"BokehJS does not appear to have successfully loaded. If loading BokehJS from CDN, this \\n\"+\n",
       "     \"may be due to a slow or bad network connection. Possible fixes:\\n\"+\n",
       "     \"</p>\\n\"+\n",
       "     \"<ul>\\n\"+\n",
       "     \"<li>re-rerun `output_notebook()` to attempt to load from CDN again, or</li>\\n\"+\n",
       "     \"<li>use INLINE resources instead, as so:</li>\\n\"+\n",
       "     \"</ul>\\n\"+\n",
       "     \"<code>\\n\"+\n",
       "     \"from bokeh.resources import INLINE\\n\"+\n",
       "     \"output_notebook(resources=INLINE)\\n\"+\n",
       "     \"</code>\\n\"+\n",
       "     \"</div>\"}};\n",
       "\n",
       "  function display_loaded() {\n",
       "    var el = document.getElementById(\"2932\");\n",
       "    if (el != null) {\n",
       "      el.textContent = \"BokehJS is loading...\";\n",
       "    }\n",
       "    if (root.Bokeh !== undefined) {\n",
       "      if (el != null) {\n",
       "        el.textContent = \"BokehJS \" + root.Bokeh.version + \" successfully loaded.\";\n",
       "      }\n",
       "    } else if (Date.now() < root._bokeh_timeout) {\n",
       "      setTimeout(display_loaded, 100)\n",
       "    }\n",
       "  }\n",
       "\n",
       "\n",
       "  function run_callbacks() {\n",
       "    try {\n",
       "      root._bokeh_onload_callbacks.forEach(function(callback) { callback() });\n",
       "    }\n",
       "    finally {\n",
       "      delete root._bokeh_onload_callbacks\n",
       "    }\n",
       "    console.info(\"Bokeh: all callbacks have finished\");\n",
       "  }\n",
       "\n",
       "  function load_libs(js_urls, callback) {\n",
       "    root._bokeh_onload_callbacks.push(callback);\n",
       "    if (root._bokeh_is_loading > 0) {\n",
       "      console.log(\"Bokeh: BokehJS is being loaded, scheduling callback at\", now());\n",
       "      return null;\n",
       "    }\n",
       "    if (js_urls == null || js_urls.length === 0) {\n",
       "      run_callbacks();\n",
       "      return null;\n",
       "    }\n",
       "    console.log(\"Bokeh: BokehJS not loaded, scheduling load and callback at\", now());\n",
       "    root._bokeh_is_loading = js_urls.length;\n",
       "    for (var i = 0; i < js_urls.length; i++) {\n",
       "      var url = js_urls[i];\n",
       "      var s = document.createElement('script');\n",
       "      s.src = url;\n",
       "      s.async = false;\n",
       "      s.onreadystatechange = s.onload = function() {\n",
       "        root._bokeh_is_loading--;\n",
       "        if (root._bokeh_is_loading === 0) {\n",
       "          console.log(\"Bokeh: all BokehJS libraries loaded\");\n",
       "          run_callbacks()\n",
       "        }\n",
       "      };\n",
       "      s.onerror = function() {\n",
       "        console.warn(\"failed to load library \" + url);\n",
       "      };\n",
       "      console.log(\"Bokeh: injecting script tag for BokehJS library: \", url);\n",
       "      document.getElementsByTagName(\"head\")[0].appendChild(s);\n",
       "    }\n",
       "  };var element = document.getElementById(\"2932\");\n",
       "  if (element == null) {\n",
       "    console.log(\"Bokeh: ERROR: autoload.js configured with elementid '2932' but no matching script tag was found. \")\n",
       "    return false;\n",
       "  }\n",
       "\n",
       "  var js_urls = [\"https://cdn.pydata.org/bokeh/release/bokeh-1.0.4.min.js\", \"https://cdn.pydata.org/bokeh/release/bokeh-widgets-1.0.4.min.js\", \"https://cdn.pydata.org/bokeh/release/bokeh-tables-1.0.4.min.js\", \"https://cdn.pydata.org/bokeh/release/bokeh-gl-1.0.4.min.js\"];\n",
       "\n",
       "  var inline_js = [\n",
       "    function(Bokeh) {\n",
       "      Bokeh.set_log_level(\"info\");\n",
       "    },\n",
       "    \n",
       "    function(Bokeh) {\n",
       "      \n",
       "    },\n",
       "    function(Bokeh) {\n",
       "      console.log(\"Bokeh: injecting CSS: https://cdn.pydata.org/bokeh/release/bokeh-1.0.4.min.css\");\n",
       "      Bokeh.embed.inject_css(\"https://cdn.pydata.org/bokeh/release/bokeh-1.0.4.min.css\");\n",
       "      console.log(\"Bokeh: injecting CSS: https://cdn.pydata.org/bokeh/release/bokeh-widgets-1.0.4.min.css\");\n",
       "      Bokeh.embed.inject_css(\"https://cdn.pydata.org/bokeh/release/bokeh-widgets-1.0.4.min.css\");\n",
       "      console.log(\"Bokeh: injecting CSS: https://cdn.pydata.org/bokeh/release/bokeh-tables-1.0.4.min.css\");\n",
       "      Bokeh.embed.inject_css(\"https://cdn.pydata.org/bokeh/release/bokeh-tables-1.0.4.min.css\");\n",
       "    }\n",
       "  ];\n",
       "\n",
       "  function run_inline_js() {\n",
       "    \n",
       "    if ((root.Bokeh !== undefined) || (force === true)) {\n",
       "      for (var i = 0; i < inline_js.length; i++) {\n",
       "        inline_js[i].call(root, root.Bokeh);\n",
       "      }if (force === true) {\n",
       "        display_loaded();\n",
       "      }} else if (Date.now() < root._bokeh_timeout) {\n",
       "      setTimeout(run_inline_js, 100);\n",
       "    } else if (!root._bokeh_failed_load) {\n",
       "      console.log(\"Bokeh: BokehJS failed to load within specified timeout.\");\n",
       "      root._bokeh_failed_load = true;\n",
       "    } else if (force !== true) {\n",
       "      var cell = $(document.getElementById(\"2932\")).parents('.cell').data().cell;\n",
       "      cell.output_area.append_execute_result(NB_LOAD_WARNING)\n",
       "    }\n",
       "\n",
       "  }\n",
       "\n",
       "  if (root._bokeh_is_loading === 0) {\n",
       "    console.log(\"Bokeh: BokehJS loaded, going straight to plotting\");\n",
       "    run_inline_js();\n",
       "  } else {\n",
       "    load_libs(js_urls, function() {\n",
       "      console.log(\"Bokeh: BokehJS plotting callback run at\", now());\n",
       "      run_inline_js();\n",
       "    });\n",
       "  }\n",
       "}(window));"
      ],
      "application/vnd.bokehjs_load.v0+json": "\n(function(root) {\n  function now() {\n    return new Date();\n  }\n\n  var force = true;\n\n  if (typeof (root._bokeh_onload_callbacks) === \"undefined\" || force === true) {\n    root._bokeh_onload_callbacks = [];\n    root._bokeh_is_loading = undefined;\n  }\n\n  \n\n  \n  if (typeof (root._bokeh_timeout) === \"undefined\" || force === true) {\n    root._bokeh_timeout = Date.now() + 5000;\n    root._bokeh_failed_load = false;\n  }\n\n  var NB_LOAD_WARNING = {'data': {'text/html':\n     \"<div style='background-color: #fdd'>\\n\"+\n     \"<p>\\n\"+\n     \"BokehJS does not appear to have successfully loaded. If loading BokehJS from CDN, this \\n\"+\n     \"may be due to a slow or bad network connection. Possible fixes:\\n\"+\n     \"</p>\\n\"+\n     \"<ul>\\n\"+\n     \"<li>re-rerun `output_notebook()` to attempt to load from CDN again, or</li>\\n\"+\n     \"<li>use INLINE resources instead, as so:</li>\\n\"+\n     \"</ul>\\n\"+\n     \"<code>\\n\"+\n     \"from bokeh.resources import INLINE\\n\"+\n     \"output_notebook(resources=INLINE)\\n\"+\n     \"</code>\\n\"+\n     \"</div>\"}};\n\n  function display_loaded() {\n    var el = document.getElementById(\"2932\");\n    if (el != null) {\n      el.textContent = \"BokehJS is loading...\";\n    }\n    if (root.Bokeh !== undefined) {\n      if (el != null) {\n        el.textContent = \"BokehJS \" + root.Bokeh.version + \" successfully loaded.\";\n      }\n    } else if (Date.now() < root._bokeh_timeout) {\n      setTimeout(display_loaded, 100)\n    }\n  }\n\n\n  function run_callbacks() {\n    try {\n      root._bokeh_onload_callbacks.forEach(function(callback) { callback() });\n    }\n    finally {\n      delete root._bokeh_onload_callbacks\n    }\n    console.info(\"Bokeh: all callbacks have finished\");\n  }\n\n  function load_libs(js_urls, callback) {\n    root._bokeh_onload_callbacks.push(callback);\n    if (root._bokeh_is_loading > 0) {\n      console.log(\"Bokeh: BokehJS is being loaded, scheduling callback at\", now());\n      return null;\n    }\n    if (js_urls == null || js_urls.length === 0) {\n      run_callbacks();\n      return null;\n    }\n    console.log(\"Bokeh: BokehJS not loaded, scheduling load and callback at\", now());\n    root._bokeh_is_loading = js_urls.length;\n    for (var i = 0; i < js_urls.length; i++) {\n      var url = js_urls[i];\n      var s = document.createElement('script');\n      s.src = url;\n      s.async = false;\n      s.onreadystatechange = s.onload = function() {\n        root._bokeh_is_loading--;\n        if (root._bokeh_is_loading === 0) {\n          console.log(\"Bokeh: all BokehJS libraries loaded\");\n          run_callbacks()\n        }\n      };\n      s.onerror = function() {\n        console.warn(\"failed to load library \" + url);\n      };\n      console.log(\"Bokeh: injecting script tag for BokehJS library: \", url);\n      document.getElementsByTagName(\"head\")[0].appendChild(s);\n    }\n  };var element = document.getElementById(\"2932\");\n  if (element == null) {\n    console.log(\"Bokeh: ERROR: autoload.js configured with elementid '2932' but no matching script tag was found. \")\n    return false;\n  }\n\n  var js_urls = [\"https://cdn.pydata.org/bokeh/release/bokeh-1.0.4.min.js\", \"https://cdn.pydata.org/bokeh/release/bokeh-widgets-1.0.4.min.js\", \"https://cdn.pydata.org/bokeh/release/bokeh-tables-1.0.4.min.js\", \"https://cdn.pydata.org/bokeh/release/bokeh-gl-1.0.4.min.js\"];\n\n  var inline_js = [\n    function(Bokeh) {\n      Bokeh.set_log_level(\"info\");\n    },\n    \n    function(Bokeh) {\n      \n    },\n    function(Bokeh) {\n      console.log(\"Bokeh: injecting CSS: https://cdn.pydata.org/bokeh/release/bokeh-1.0.4.min.css\");\n      Bokeh.embed.inject_css(\"https://cdn.pydata.org/bokeh/release/bokeh-1.0.4.min.css\");\n      console.log(\"Bokeh: injecting CSS: https://cdn.pydata.org/bokeh/release/bokeh-widgets-1.0.4.min.css\");\n      Bokeh.embed.inject_css(\"https://cdn.pydata.org/bokeh/release/bokeh-widgets-1.0.4.min.css\");\n      console.log(\"Bokeh: injecting CSS: https://cdn.pydata.org/bokeh/release/bokeh-tables-1.0.4.min.css\");\n      Bokeh.embed.inject_css(\"https://cdn.pydata.org/bokeh/release/bokeh-tables-1.0.4.min.css\");\n    }\n  ];\n\n  function run_inline_js() {\n    \n    if ((root.Bokeh !== undefined) || (force === true)) {\n      for (var i = 0; i < inline_js.length; i++) {\n        inline_js[i].call(root, root.Bokeh);\n      }if (force === true) {\n        display_loaded();\n      }} else if (Date.now() < root._bokeh_timeout) {\n      setTimeout(run_inline_js, 100);\n    } else if (!root._bokeh_failed_load) {\n      console.log(\"Bokeh: BokehJS failed to load within specified timeout.\");\n      root._bokeh_failed_load = true;\n    } else if (force !== true) {\n      var cell = $(document.getElementById(\"2932\")).parents('.cell').data().cell;\n      cell.output_area.append_execute_result(NB_LOAD_WARNING)\n    }\n\n  }\n\n  if (root._bokeh_is_loading === 0) {\n    console.log(\"Bokeh: BokehJS loaded, going straight to plotting\");\n    run_inline_js();\n  } else {\n    load_libs(js_urls, function() {\n      console.log(\"Bokeh: BokehJS plotting callback run at\", now());\n      run_inline_js();\n    });\n  }\n}(window));"
     },
     "metadata": {},
     "output_type": "display_data"
    }
   ],
   "source": [
    "# Importamos la libreria pandas, numpy y bokeh(herramientas usadas)\n",
    "\n",
    "import pandas as pd\n",
    "import numpy as np\n",
    "from bokeh.plotting import figure\n",
    "from bokeh.io import output_notebook, show\n",
    "from bokeh.models import ColumnDataSource, HoverTool\n",
    "from IPython.display import display\n",
    "\n",
    "# Leemos el nuestra base de datos (.csv)\n",
    "datos=pd.read_csv('datos1.csv', encoding = \"ISO-8859-1\")\n",
    "\n",
    "\n",
    "#Creamos un nunevo DataFrame(tabla de trabajo)\n",
    "nuevo=pd.DataFrame(datos)\n",
    "nuevo['fecha']=nuevo['fecha'].astype('datetime64[ns]') # Transformamos el tipo de valores de la columna fecha a un tipo DataTime(fecha)\n",
    "nuevo=nuevo.replace(np.nan, \"s.d\") # Remplazamos los valores vacios por un nuevo caracter(para el caso s.d= Sin Determinar)\n",
    "source=ColumnDataSource(nuevo)\n",
    "\n",
    "#print(nuevo.info()) # Imprimimos la informacion de nuestra base de datos para corroborar nuestros cambias\n",
    "#display(nuevo)\n",
    "output_notebook()"
   ]
  },
  {
   "cell_type": "code",
   "execution_count": 21,
   "metadata": {},
   "outputs": [
    {
     "data": {
      "text/html": [
       "\n",
       "\n",
       "\n",
       "\n",
       "\n",
       "\n",
       "  <div class=\"bk-root\" id=\"1716f552-0507-47f7-98f3-b2ce203c57e4\" data-root-id=\"3275\"></div>\n"
      ]
     },
     "metadata": {},
     "output_type": "display_data"
    },
    {
     "data": {
      "application/javascript": [
       "(function(root) {\n",
       "  function embed_document(root) {\n",
       "    \n",
       "  var docs_json = {\"85ab65ba-7540-4054-a8ce-ea38f4c23386\":{\"roots\":{\"references\":[{\"attributes\":{\"below\":[{\"id\":\"3285\",\"type\":\"DatetimeAxis\"}],\"left\":[{\"id\":\"3290\",\"type\":\"LinearAxis\"}],\"plot_width\":1200,\"renderers\":[{\"id\":\"3285\",\"type\":\"DatetimeAxis\"},{\"id\":\"3289\",\"type\":\"Grid\"},{\"id\":\"3290\",\"type\":\"LinearAxis\"},{\"id\":\"3294\",\"type\":\"Grid\"},{\"id\":\"3303\",\"type\":\"BoxAnnotation\"},{\"id\":\"3315\",\"type\":\"GlyphRenderer\"}],\"title\":{\"id\":\"3274\",\"type\":\"Title\"},\"toolbar\":{\"id\":\"3301\",\"type\":\"Toolbar\"},\"x_range\":{\"id\":\"3277\",\"type\":\"DataRange1d\"},\"x_scale\":{\"id\":\"3281\",\"type\":\"LinearScale\"},\"y_range\":{\"id\":\"3279\",\"type\":\"DataRange1d\"},\"y_scale\":{\"id\":\"3283\",\"type\":\"LinearScale\"}},\"id\":\"3275\",\"subtype\":\"Figure\",\"type\":\"Plot\"},{\"attributes\":{\"callback\":null},\"id\":\"3279\",\"type\":\"DataRange1d\"},{\"attributes\":{\"months\":[0,6]},\"id\":\"3475\",\"type\":\"MonthsTicker\"},{\"attributes\":{},\"id\":\"3115\",\"type\":\"UnionRenderers\"},{\"attributes\":{},\"id\":\"3283\",\"type\":\"LinearScale\"},{\"attributes\":{\"num_minor_ticks\":5,\"tickers\":[{\"id\":\"3465\",\"type\":\"AdaptiveTicker\"},{\"id\":\"3466\",\"type\":\"AdaptiveTicker\"},{\"id\":\"3467\",\"type\":\"AdaptiveTicker\"},{\"id\":\"3468\",\"type\":\"DaysTicker\"},{\"id\":\"3469\",\"type\":\"DaysTicker\"},{\"id\":\"3470\",\"type\":\"DaysTicker\"},{\"id\":\"3471\",\"type\":\"DaysTicker\"},{\"id\":\"3472\",\"type\":\"MonthsTicker\"},{\"id\":\"3473\",\"type\":\"MonthsTicker\"},{\"id\":\"3474\",\"type\":\"MonthsTicker\"},{\"id\":\"3475\",\"type\":\"MonthsTicker\"},{\"id\":\"3476\",\"type\":\"YearsTicker\"}]},\"id\":\"3286\",\"type\":\"DatetimeTicker\"},{\"attributes\":{\"axis_label\":\"Fecha\",\"formatter\":{\"id\":\"3310\",\"type\":\"DatetimeTickFormatter\"},\"plot\":{\"id\":\"3275\",\"subtype\":\"Figure\",\"type\":\"Plot\"},\"ticker\":{\"id\":\"3286\",\"type\":\"DatetimeTicker\"}},\"id\":\"3285\",\"type\":\"DatetimeAxis\"},{\"attributes\":{},\"id\":\"3476\",\"type\":\"YearsTicker\"},{\"attributes\":{\"plot\":{\"id\":\"3275\",\"subtype\":\"Figure\",\"type\":\"Plot\"},\"ticker\":{\"id\":\"3286\",\"type\":\"DatetimeTicker\"}},\"id\":\"3289\",\"type\":\"Grid\"},{\"attributes\":{\"axis_label\":\"Magnitud\",\"formatter\":{\"id\":\"3463\",\"type\":\"BasicTickFormatter\"},\"plot\":{\"id\":\"3275\",\"subtype\":\"Figure\",\"type\":\"Plot\"},\"ticker\":{\"id\":\"3291\",\"type\":\"BasicTicker\"}},\"id\":\"3290\",\"type\":\"LinearAxis\"},{\"attributes\":{\"months\":[\"%B/%Y\"]},\"id\":\"3310\",\"type\":\"DatetimeTickFormatter\"},{\"attributes\":{\"dimension\":1,\"plot\":{\"id\":\"3275\",\"subtype\":\"Figure\",\"type\":\"Plot\"},\"ticker\":{\"id\":\"3291\",\"type\":\"BasicTicker\"}},\"id\":\"3294\",\"type\":\"Grid\"},{\"attributes\":{},\"id\":\"3291\",\"type\":\"BasicTicker\"},{\"attributes\":{\"base\":60,\"mantissas\":[1,2,5,10,15,20,30],\"max_interval\":1800000.0,\"min_interval\":1000.0,\"num_minor_ticks\":0},\"id\":\"3466\",\"type\":\"AdaptiveTicker\"},{\"attributes\":{\"active_drag\":\"auto\",\"active_inspect\":\"auto\",\"active_multi\":null,\"active_scroll\":\"auto\",\"active_tap\":\"auto\",\"tools\":[{\"id\":\"3295\",\"type\":\"PanTool\"},{\"id\":\"3296\",\"type\":\"WheelZoomTool\"},{\"id\":\"3297\",\"type\":\"BoxZoomTool\"},{\"id\":\"3298\",\"type\":\"SaveTool\"},{\"id\":\"3299\",\"type\":\"ResetTool\"},{\"id\":\"3300\",\"type\":\"HelpTool\"},{\"id\":\"3317\",\"type\":\"HoverTool\"}]},\"id\":\"3301\",\"type\":\"Toolbar\"},{\"attributes\":{},\"id\":\"3295\",\"type\":\"PanTool\"},{\"attributes\":{\"months\":[0,2,4,6,8,10]},\"id\":\"3473\",\"type\":\"MonthsTicker\"},{\"attributes\":{},\"id\":\"3296\",\"type\":\"WheelZoomTool\"},{\"attributes\":{\"overlay\":{\"id\":\"3303\",\"type\":\"BoxAnnotation\"}},\"id\":\"3297\",\"type\":\"BoxZoomTool\"},{\"attributes\":{},\"id\":\"3116\",\"type\":\"Selection\"},{\"attributes\":{},\"id\":\"3298\",\"type\":\"SaveTool\"},{\"attributes\":{},\"id\":\"3299\",\"type\":\"ResetTool\"},{\"attributes\":{\"callback\":null,\"tooltips\":[[\"fecha\",\"@fecha\"]]},\"id\":\"3317\",\"type\":\"HoverTool\"},{\"attributes\":{},\"id\":\"3300\",\"type\":\"HelpTool\"},{\"attributes\":{\"data_source\":{\"id\":\"2931\",\"type\":\"ColumnDataSource\"},\"glyph\":{\"id\":\"3313\",\"type\":\"Circle\"},\"hover_glyph\":null,\"muted_glyph\":null,\"nonselection_glyph\":{\"id\":\"3314\",\"type\":\"Circle\"},\"selection_glyph\":null,\"view\":{\"id\":\"3316\",\"type\":\"CDSView\"}},\"id\":\"3315\",\"type\":\"GlyphRenderer\"},{\"attributes\":{\"days\":[1,2,3,4,5,6,7,8,9,10,11,12,13,14,15,16,17,18,19,20,21,22,23,24,25,26,27,28,29,30,31]},\"id\":\"3468\",\"type\":\"DaysTicker\"},{\"attributes\":{\"bottom_units\":\"screen\",\"fill_alpha\":{\"value\":0.5},\"fill_color\":{\"value\":\"lightgrey\"},\"left_units\":\"screen\",\"level\":\"overlay\",\"line_alpha\":{\"value\":1.0},\"line_color\":{\"value\":\"black\"},\"line_dash\":[4,4],\"line_width\":{\"value\":2},\"plot\":null,\"render_mode\":\"css\",\"right_units\":\"screen\",\"top_units\":\"screen\"},\"id\":\"3303\",\"type\":\"BoxAnnotation\"},{\"attributes\":{\"mantissas\":[1,2,5],\"max_interval\":500.0,\"num_minor_ticks\":0},\"id\":\"3465\",\"type\":\"AdaptiveTicker\"},{\"attributes\":{},\"id\":\"3463\",\"type\":\"BasicTickFormatter\"},{\"attributes\":{\"fill_alpha\":{\"value\":0.1},\"fill_color\":{\"value\":\"#1f77b4\"},\"line_alpha\":{\"value\":0.1},\"line_color\":{\"value\":\"#1f77b4\"},\"x\":{\"field\":\"fecha\"},\"y\":{\"field\":\"magnitud\"}},\"id\":\"3314\",\"type\":\"Circle\"},{\"attributes\":{\"source\":{\"id\":\"2931\",\"type\":\"ColumnDataSource\"}},\"id\":\"3316\",\"type\":\"CDSView\"},{\"attributes\":{\"fill_color\":{\"value\":\"#1f77b4\"},\"line_color\":{\"value\":\"#1f77b4\"},\"x\":{\"field\":\"fecha\"},\"y\":{\"field\":\"magnitud\"}},\"id\":\"3313\",\"type\":\"Circle\"},{\"attributes\":{\"base\":24,\"mantissas\":[1,2,4,6,8,12],\"max_interval\":43200000.0,\"min_interval\":3600000.0,\"num_minor_ticks\":0},\"id\":\"3467\",\"type\":\"AdaptiveTicker\"},{\"attributes\":{\"callback\":null,\"data\":{\"Tiempo\":[\"6/1/2012 12:20\",\"10/1/2012 18:07\",\"10/1/2012 20:54\",\"15/01/2012 8:22:50\",\"7/2/2012 4:55\",\"8/2/2012 10:54\",\"9/2/2012 8:02\",\"20/02/2012 12:44:47\",\"1/3/2012 3:09\",\"7/3/2012 2:59\",\"28/03/2012 16:47:29\",\"29/03/2012 11:04:03\",\"1/4/2012 15:41\",\"18/04/2012 18:34:18\",\"30/04/2012 17:22:34\",\"13/05/2012 14:28:21\",\"14/05/2012 21:39:45\",\"20/05/2012 8:47:07\",\"8/6/2012 20:22\",\"18/06/2012 13:34:46\",\"22/06/2012 3:22:14\",\"3/7/2012 6:13\",\"3/7/2012 21:58\",\"7/7/2012 10:08\",\"10/7/2012 15:21\",\"15/07/2012 6:51:23\",\"22/07/2012 1:27:46\",\"24/07/2012 1:33:00\",\"30/07/2012 5:19:44\",\"9/8/2012 10:52\",\"13/08/2012 4:49:07\",\"13/08/2012 6:02:45\",\"17/08/2012 1:24:10\",\"24/08/2012 16:08:29\",\"1/9/2012 9:42\",\"2/9/2012 19:41\",\"4/9/2012 18:13\",\"17/01/2013 13:12:41\",\"21/01/2013 11:10:18\",\"6/2/2013 8:04\",\"11/2/2013 10:23\",\"12/2/2013 4:03\",\"9/3/2013 0:55\",\"11/3/2013 17:10\",\"10/4/2013 0:52\",\"10/4/2013 10:21\",\"7/5/2013 20:23\",\"8/5/2013 8:03\",\"12/5/2013 13:14\",\"14/05/2013 6:10:26\",\"29/05/2013 5:46:30\",\"12/6/2013 19:58\",\"13/06/2013 18:08:37\",\"15/06/2013 14:43:32\",\"20/06/2013 8:49:22\",\"1/7/2013 6:01\",\"5/7/2013 18:04\",\"8/7/2013 0:17\",\"12/7/2013 12:37\",\"27/07/2013 21:42:40\",\"2/8/2013 21:29\",\"25/08/2013 20:42:07\",\"28/08/2013 17:45:34\",\"17/09/2013 23:03:53\",\"18/09/2013 11:51:49\",\"24/09/2013 18:33:39\",\"3/10/2013 7:59\",\"6/10/2013 17:58\",\"11/10/2013 17:39\",\"15/10/2013 3:00:27\",\"16/10/2013 10:24:44\",\"31/10/2013 6:05:08\",\"9/11/2013 17:29\",\"20/11/2013 2:11:50\",\"21/11/2013 3:41:05\",\"25/11/2013 19:42:58\",\"30/11/2013 16:38:53\",\"30/11/2013 19:31:06\",\"16/12/2013 0:44:49\",\"2/11/2013 20:02\",\"16/11/2013 7:42:01\",\"17/12/2013 11:56:15\",\"30/01/2013 8:08:12\",\"5/3/2013 22:59\",\"26/03/2013 2:58:56\",\"30/03/2013 10:34:50\",\"5/4/2013 2:37\",\"5/4/2013 7:22\",\"14/04/2013 6:16:26\",\"23/04/2013 11:39:09\",\"24/05/2013 5:42:04\",\"28/05/2013 14:33:39\",\"10/7/2013 3:12\",\"19/07/2013 15:03:25\",\"22/07/2013 21:37:11\",\"22/08/2013 2:09:16\",\"28/08/2013 17:00:57\",\"4/9/2013 3:08\",\"14/09/2013 17:00:08\",\"7/10/2013 16:41\",\"20/01/2013 6:56:25\",\"3/3/2013 6:39\",\"5/4/2013 2:19\",\"18/04/2013 5:10:32\",\"27/04/2013 11:18:40\",\"29/04/2013 2:32:50\",\"17/06/2013 16:00:44\",\"18/06/2013 6:43:06\",\"19/06/2013 3:10:33\",\"24/06/2013 11:52:04\",\"9/7/2013 2:59\",\"21/07/2013 9:43:59\",\"11/8/2013 22:50\",\"30/08/2013 17:47:45\",\"10/9/2013 22:48\",\"16/10/2013 8:42:15\",\"18/10/2013 3:16:56\",\"28/11/2013 6:21:03\",\"14/12/2013 4:28:51\",\"15/12/2013 19:20:42\",\"20/12/2013 10:37:37\",\"27/08/2013 12:22:27\",\"6/9/2013 16:24\",\"23/09/2013 7:55:52\",\"16/10/2013 7:00:16\",\"27/10/2013 11:04:58\",\"6/11/2013 20:34\",\"8/11/2013 10:17\",\"5/12/2013 19:42\",\"12/5/2013 19:06\",\"14/05/2013 13:16:35\",\"16/05/2013 5:58:53\",\"17/05/2013 7:46:57\",\"13/06/2013 20:40:08\",\"23/06/2013 20:14:11\",\"11/7/2013 23:08\",\"2/8/2013 9:11\",\"11/8/2013 12:54\",\"20/02/2013 3:17:26\",\"23/02/2013 13:17:52\",\"24/02/2013 8:59:59\",\"27/02/2013 15:56:09\",\"15/03/2013 12:04:26\"],\"ciudad\":[\"s.d\",\"Ca\\u00a4itas\",\"s.d\",\"s.d\",\"s.d\",\"s.d\",\"s.d\",\"s.d\",\"s.d\",\"s.d\",\"s.d\",\"s.d\",\"s.d\",\"Flavio Alfaro\",\"s.d\",\"s.d\",\"Valencia\",\"s.d\",\"s.d\",\"s.d\",\"s.d\",\"s.d\",\"Manta\",\"s.d\",\"s.d\",\"Palora\",\"s.d\",\"s.d\",\"s.d\",\"s.d\",\"s.d\",\"s.d\",\"s.d\",\"s.d\",\"s.d\",\"Jauneche\",\"s.d\",\"Santa Rosa\",\"s.d\",\"s.d\",\"s.d\",\"s.d\",\"Salinas\",\"s.d\",\"Delia\",\"Guayaquil\",\"s.d\",\"s.d\",\"s.d\",\"s.d\",\"s.d\",\"Salinas\",\"s.d\",\"s.d\",\"s.d\",\"s.d\",\"s.d\",\"s.d\",\"s.d\",\"28 de mayo\",\"s.d\",\"s.d\",\"s.d\",\"s.d\",\"s.d\",\"s.d\",\"s.d\",\"V\\u00a1nces\",\"s.d\",\"s.d\",\"s.d\",\"s.d\",\"s.d\",\"s.d\",\"s.d\",\"s.d\",\"s.d\",\"s.d\",\"s.d\",\"s.d\",\"s.d\",\"s.d\",\"s.d\",\"s.d\",\"s.d\",\"s.d\",\"s.d\",\"s.d\",\"s.d\",\"s.d\",\"s.d\",\"s.d\",\"s.d\",\"s.d\",\"s.d\",\"s.d\",\"s.d\",\"s.d\",\"s.d\",\"s.d\",\"El Real\",\"Manta\",\"s.d\",\"s.d\",\"San Fernando\",\"s.d\",\"Manantiales\",\"s.d\",\"GUAP\\u00b5N\",\"s.d\",\"s.d\",\"s.d\",\"s.d\",\"s.d\",\"s.d\",\"s.d\",\"s.d\",\"s.d\",\"s.d\",\"s.d\",\"s.d\",\"s.d\",\"s.d\",\"Palora\",\"s.d\",\"s.d\",\"s.d\",\"s.d\",\"s.d\",\"s.d\",\"Puyo\",\"Pi\\u00a4as\",\"s.d\",\"s.d\",\"s.d\",\"s.d\",\"Sim\\u00a2n Bol\\u00a1var\",\"s.d\",\"s.d\",\"s.d\",\"s.d\",\"s.d\",\"s.d\"],\"depth_value\":{\"__ndarray__\":\"Z7RVSWSnKUCK6q2BrWITQPka3ZyllxRAAAAAAAAAKEAAAAAAAAAoQDNdmQF4XRNADamieJXBOUAAAAAAAAAoQAAAAAAAAChAAAAAAAAALECCpBUAX/UiQMjQsYNKKkVAAAAAAAAALEBKKH0h5Jw4QAAAAAAAAChAAAAAAAAAKEDCogFAvg5XQAAAAAAAAChAAAAAAAAAKEBJjRpd75gUQAAAAAAAAChAMvFYfb/6HUAS9YJPc+IqQAAAAAAAAChAaw97oYC3SEBhN2xblFJmQAAAAAAAAChAAAAAAAAAKEAAAAAAAAAkQAAAAAAAAChAAAAAAAAAKEAAAAAAAAAkQLTREMCTPwFAAAAAAAAAHEDx8yGgqS4jQKvEAoCfHVFAAAAAAAAAKEAAAAAAAAAkQAAAAAAAACRAAAAAAAAAJECpN/6fHtFWQAAAAAAAAChA23sjgLxjJEBAv+/fvF4qQAAAAAAAwFNAVmIBwG+gPUBIDwkAik1GQAAAAAAAADlA6KMIgFyjPkAvZQkAyAAyQAAAAAAAABRAiObw/5kLWUAAAAAAAIBBQLaK9l8EE0lAMq8CAPBgNkC39AWAbG00QG0V7b8IhSBAAAAAAAAAJEAAAAAAAAAkQGl4DsDh4VpAHbX8n0cQRUBIDwkACl0kQNxMAUDAfVBAAAAAAAAAOEAAAAAAAAA0QAAAAAAAACRAAAAAAAAAFEALBfA/x9E5QFUQ6r9aWxJAPHX231Qka0B2Zqtgjl35Pw7/RMB8zRZAAAAAAAAAEECwiOW/1XwQQP8sr7+Z9hpAAAAAAACAQ0CLhhCATbo1QJtP4/8KiBlAAAAAAAAAJEAC4Onf/1NmQAAAAAAAABRAcbH9v0UGF0AAAAAAAAAkQH9uBaCTK0hAAAAAAAAAKEAu+/nf32U1QAAAAAAAABxAAAAAAAAAJEBAqwZAYIRNQN6yAeDxMTxAEEvav3inDEAAAAAAAAAkQAAAAAAAACRAUq74n19GREAAAAAAAAAkQAAAAAAAACRADiWkf5MHFECukAPAQjRCQIr1/B/WM1VARHP4/8z5O0AAAAAAAAAkQJqS7t+j5SVAAAAAAAAAHEAAAAAAAAAQQNfz+x9csEJAG9EDQNETVEDsgiRgMj0rQHju+z+gYFNAQWj7X4e/UEBJYu7/iMUlQAAAAAAAAChA+Bn2/5qBBEAAAAAAAAAkQAAAAAAAACRA8OAGADeGQkAAAAAAAAAkQGcSDiDwqhJAku/vv9cnO0CEXfufz+NWQEdqDAB2oCVAAAAAAAAAJEAAAAAAAAAkQJnV+b+8gEZA1Gb3PxtKYkAAAAAAAAAkQGfn+l9qZFZAAAAAAAAAJECtaf9/c1hPQBLvCMCi3kVAAAAAAAAAPkA+SRUg5WlmQAAAAAAAAChAAAAAAAAAFECEMujfiVNcQAAAAAAAACRAAAAAAAAAJEBktfl/1eNDQNCL6t+7PT1Al7IEAORRRkAAAAAAAAAoQAAAAAAAAChAtl/jnz4EXEAAAAAAAAAkQA==\",\"dtype\":\"float64\",\"shape\":[143]},\"direccion\":[\"s.d\",\"s.d\",\"s.d\",\"s.d\",\"s.d\",\"s.d\",\"s.d\",\"s.d\",\"s.d\",\"s.d\",\"s.d\",\"s.d\",\"s.d\",\"s.d\",\"s.d\",\"s.d\",\"s.d\",\"s.d\",\"s.d\",\"s.d\",\"s.d\",\"s.d\",\"s.d\",\"s.d\",\"s.d\",\"s.d\",\"s.d\",\"s.d\",\"s.d\",\"s.d\",\"s.d\",\"s.d\",\"s.d\",\"s.d\",\"s.d\",\"s.d\",\"s.d\",\"s.d\",\"s.d\",\"s.d\",\"s.d\",\"s.d\",\"s.d\",\"s.d\",\"s.d\",\"s.d\",\"s.d\",\"s.d\",\"s.d\",\"s.d\",\"s.d\",\"s.d\",\"s.d\",\"s.d\",\"s.d\",\"s.d\",\"s.d\",\"s.d\",\"s.d\",\"s.d\",\"s.d\",\"s.d\",\"s.d\",\"s.d\",\"s.d\",\"s.d\",\"s.d\",\"s.d\",\"s.d\",\"s.d\",\"s.d\",\"s.d\",\"s.d\",\"s.d\",\"s.d\",\"s.d\",\"s.d\",\"s.d\",\"s.d\",\"s.d\",\"s.d\",\"s.d\",\"s.d\",\"s.d\",\"s.d\",\"s.d\",\"s.d\",\"s.d\",\"s.d\",\"s.d\",\"s.d\",\"s.d\",\"s.d\",\"s.d\",\"s.d\",\"s.d\",\"s.d\",\"s.d\",\"s.d\",\"s.d\",\"s.d\",\"s.d\",\"s.d\",\"s.d\",\"s.d\",\"s.d\",\"s.d\",\"s.d\",\"s.d\",\"s.d\",\"s.d\",\"s.d\",\"s.d\",\"s.d\",\"s.d\",\"s.d\",\"s.d\",\"s.d\",\"s.d\",\"s.d\",\"s.d\",\"s.d\",\"s.d\",\"s.d\",\"s.d\",\"s.d\",\"s.d\",\"s.d\",\"s.d\",\"s.d\",\"s.d\",\"s.d\",\"s.d\",\"s.d\",\"s.d\",\"s.d\",\"s.d\",\"s.d\",\"s.d\",\"s.d\",\"s.d\",\"s.d\",\"s.d\"],\"duracion\":[455264,70425,297652,145672,573280,948848,370276,981010,760745,574973,258515,613406,926611,229478,783270,436880,75774,646686,574207,359507,349550,125540,878536,286115,884757,341469,367560,862150,115016,576789,505007,320985,706212,208556,673465,412180,495493,202676,228231,737137,805757,515408,45849,152341,800211,315427,296519,837507,92516,270572,725975,298655,263438,432945,247746,602817,28712,748576,791422,736423,221761,224793,380396,567806,268963,342168,404179,966728,622195,796531,499099,934495,340813,422105,37189,22676,226240,698887,59546,607496,947047,578632,746025,139105,574769,323010,643011,14360,659600,409998,100554,380012,926264,21149,126324,435926,106945,910650,981613,652303,303108,808007,68480,182159,607593,275816,725796,277444,42828,548609,730460,356460,126329,331695,58082,315966,695905,255387,82746,739685,596353,903505,655107,848872,863518,641765,746280,956024,988808,255985,50587,933291,597638,974434,10570,465333,69542,368160,162863,828135,95832,26098,462476],\"fecha\":{\"__ndarray__\":\"AADYzn96c0IAAFon2KFzQgAApLXhoXNCAAA5YwdOc0IAAIqqYIRzQgAAlIdvjnNCAABMAmCYc0IAgGGvrFlzQgAADqkYSnNCAAASbayEc0IAgE5Ho2VzQgCASwbiZXNCAABuFpZKc0IAAMG8a2xzQgAA+WZEcHNCAIC4mWl0c0IAgM6u1HRzQgCAb9uWdnNCAADkntmPc0IAAM/X/H9zQgAAJ2IjgXNCAABeoLxec0IAACSz8l5zQgAAQJAOhnNCAAA2Cr2jc0IAgB9+lohzQgAA5cHEinNCAAAO2mmLc0IAANg1ZY1zQgAACB9YmnNCAIDbBeWRc0IAgHg86ZFzQgAAqeIik3NCAIDERJaVc0IAAGSIHUxzQgAADiE6VnNCAAD+8IRpc0IAgBI9isRzQgAAWdPMxXNCAABYoT7wc0IAADplhSF0QgAAUpMXK3RCAADqCxUOdEIAAOQU7yF0QgAAODIPGHRCAAAuwS8YdEIAAEoICPtzQgAAsgLYBHRCAADcSy4sdEIAAIWUGupzQgAALyzt7nNCAACUz5csdEIAgEiZ6/NzQgAAoqiE9HNCAABlYQz2c0IAABaQOcFzQgAA6KAC6HNCAAAGJGIFdEIAAF750Cx0QgAAyFUhAnRCAADWYbvLc0IAgJFlcwt0QgAAo3xgDHRCAIB6puISdEIAgICXDhN0QgCAO/gTFXRCAAAa9TTVc0IAAITM8/JzQgAA8oUxJHRCAIAP66AbdEIAAN68DBx0QgAAYtjRIHRCAAB2GuEQdEIAAOdxNCd0QgCABvOLJ3RCAAAdlAwpdEIAgFQInip0QgAACeOnKnRCAIC+zI0vdEIAAKyYrcxzQgCAkr/9JXRCAIDxnQYwdEIAAJ77p8hzQgAAMuvJ5nNCAACYJUrac0IAANHSrdtzQgAAjmTW5nNCAABcs+bmc0IAAOn/cuBzQgCA9Apr43NCAAB+7lDtc0IAgFvwuO5zQgAAQGYOGXRCAIBkT3f/c0IAgLUIhQB0QgAAzoY8CnRCAIAS710MdEIAAOg6zN5zQgAA3KTWEXRCAAAWUZf8c0IAgJrma8VzQgAA+pjv0nNCAADiXNXmc0IAAJTRuOFzQgAA6HWz5HNCAADFKjrlc0IAAP7eLfVzQgAASVxg9XNCAICCmKb1c0IAAKpsYPdzQgAAUrtlD3RCAICx0wkAdEIAAByGniN0QgCAHmgFDXRCAABQfPYZdEIAgKXfBhx0QgAAxA2ZHHRCAICJ4tUpdEIAgPvS9S50QgAA8UB7L3RCAIBWT/kwdEIAgLuZ+wt0QgAA0AWc8nNCAAD0E50UdEIAAMAJARx0QgAAeWmZH3RCAABsH0/zc0IAABYQzgZ0QgAANDmk6XNCAAAccEIsdEIAgPP2MupzQgCA1La+6nNCAICWSxfrc0IAAMRE9PNzQgCAI8Iq93NCAAAIKE0jdEIAAEonkctzQgAApGt8I3RCAAAXsVnPc0IAAMA9c9BzQgCA6eG20HNCAIBa48XRc0IAABH93tZzQg==\",\"dtype\":\"float64\",\"shape\":[143]},\"id\":[1,2,3,4,5,6,7,8,9,10,11,12,13,14,15,16,17,18,20,21,22,23,24,25,26,27,28,29,30,31,32,33,34,35,36,37,38,39,40,41,42,43,44,45,46,47,49,50,51,52,53,54,55,56,57,58,59,60,61,62,63,64,65,66,67,68,69,70,71,72,73,74,75,76,77,78,79,80,81,85,86,87,88,90,91,92,93,94,95,96,97,98,99,100,101,102,103,104,105,106,108,109,110,111,112,113,114,115,116,117,118,119,120,121,122,123,124,126,128,129,130,131,132,133,135,136,137,138,139,140,141,142,143,144,145,146,147,148,149,150,151,152,153],\"index\":[0,1,2,3,4,5,6,7,8,9,10,11,12,13,14,15,16,17,18,19,20,21,22,23,24,25,26,27,28,29,30,31,32,33,34,35,36,37,38,39,40,41,42,43,44,45,46,47,48,49,50,51,52,53,54,55,56,57,58,59,60,61,62,63,64,65,66,67,68,69,70,71,72,73,74,75,76,77,78,79,80,81,82,83,84,85,86,87,88,89,90,91,92,93,94,95,96,97,98,99,100,101,102,103,104,105,106,107,108,109,110,111,112,113,114,115,116,117,118,119,120,121,122,123,124,125,126,127,128,129,130,131,132,133,134,135,136,137,138,139,140,141,142],\"latitud\":{\"__ndarray__\":\"R8bNHbsz6b90moGheabqv8N49ips5bs/uZy3ViC/+78kgzf/CvTtv5RR4d/S9+M/oq3vaIgv9L83XHkDq+7cP3YNRGD2PPG/9v71wH1z8b+QsBzf5kb0vzeBM0KJAOe/syHFIZcP7r9SxH0/kJfcv3SZmgRv6P+/0jqqmiCK8b9ETMtATH/uv91KZUCsbc+/PRjCe1ipBcDHzV/X5Qrxv638rt9+huI/VUfxnsHO4b/kb5QfZWLtvwy8ScJ0AALACzrGul2UAsCqlJ7pJUb7v3dkUX2M3vm/euDG2p191b8BfceVHx3/v1SUS+MX3v6/9dFvgBX39b9Wj6gOwYq9P18YXZwAXMw/kssDgWNJ4L8b519gkNP3v00pEsCLpvO/Yxsjn3hK2j/Ewt7+O8bxv7D30V+eJPm/nmeivhuh5D8eHMs/IwYDwDDhZcA4LP2/NqCU/38aA8AgK9dfny4CwPkDcWBqsgHAqSMVAMJTAsC1jJJfWMECwFMN0r5/dOG/7TzY/4y8C8BO5JNfUOgAwDLxWH2/YuU/3aPMQESO9r9NwkMgsAUIwH6vnf+JlwLA8E1XoKunDcBixsoeVznqvy3yRkFLMvK/JtTCG4ib1T+sL7cgAI0NwFsjo39ZHA3AmX1gvw55/78IjnD/NlgCwJvOqb+5KgTA+oFpIK/iA8D56S4/Jkjlv6Au1mCvyve/+EdKQG0Q6T/EmHC/rjz6v7eq0x6C3Pu//79eH6Vb979uAsI9hbLpPyzhniH7xOa/xMt4ADD7CsDTagbAkSP4v5/ynrk9966/i4PP/0A7CsA84NP/5msFwFbIKt8SlPy/wuQ+IG1/AcDinRHfaPv0vzca4WkJ5Me/ATvt36uEBMDyooahm17avz0weH9ZTem/+ubEP+goAcDkkQ3eNrfnvxUIVGJL7e6/4Sv0oCRt8L+XjKVATSr/v65qpACsGQLASBlxAWgU+78wCJN/udj3vy+7L4BTLAjA159IIPMzA8CwoYJg4Sb6v1JGXAAaJQXAXb/DYScE6D/J9ingAXICwNvP1n+l1AHAtBNOoMKQ+r+BVHGA7PcDwBDnIyF4ue6/a4ca4N3F77+m5psC0wjnP++i2J/+ygjAfMrWn2nOCsCtcCYBxTP0v5S8vv8k4A7AKjZJoH+aBcAqzDmAl7QMwOCvl+Cz+QLAlPST3vXx879fzFwBAVL7vyTftgB+Bw7A7uqXgEa2A8AkccHfULQFwJZJw9/lsAXAeYDdn0GBDMAxX16AfWwDwDYKpB9o6ArABSx/3zuZB8BF8CLApyH8v0cqQqDpwwDAZ78oIHH4+7+VzgugrVUFwM4w98Hgd+2/wHpYf7Yb77/vuDTA/fcAwGk20d8y7AHADah5v7gJDMB9WkV/aCb4vyrGt39+eg3Ax69I4bTv+79ELnqfkXUDwIA/419XRQbA09KiX9feAsB478k/CtEAwMMOhODI9gzA2MTZ359T4L+3BnyfJnoGwGb0o+GUGe8/cQmXwHNwDMDTAmogTGD3vw==\",\"dtype\":\"float64\",\"shape\":[143]},\"longitud\":{\"__ndarray__\":\"++dpwCDnU8AQdR+A1BxUwIGQLGACW1PAqKePwB94U8BVO/1/4N9TwGgDsAER1FPAR8uBHmoxVMDthJfg1FZTwMx/SL99lVPAaf0tAfiVU8Bjdv0fc89TwNwPeGAA9FPASddMvtmRU8Dh8e1dg/NTwN4ehIB8cFPA2/rpP2uSU8DJuPt/SddTwHhIMUCiYVPAGt6swfuJU8DAPc+fNrRTwJMdG4F4rFPAf4EgQIauU8AxKT4+ISlUwLn+XZ85kFPA61T5npH5U8AQkC+hgntTwJgUH5+Qa1PA75BigERjU8B9PzVeujFUwDBK0F/oWVPA/XL7H78hVMAUEv5/OxBUwB21/J+H5FPAe3sAIOEzVMC84/t/KFVTwNxMAUCA6lPAO5H9f55cU8BTVwQgajVUwH6G/b8mSFTA3EwBQIBVU8CZGAWglb5TwPID/L/PVlPAu6T/HwZEVMBkXgUAYBNUwLLa/L/q81PA0kMCgAL7U8Ar8Pw/2vRTwOIj/x9pU1PApMYAYOd9U8DCogFAfhNUwBqq//8BylPAnYkC4IzAU8C+r/y/i3pTwIETAqBn8FPAWpQCoIQFVMDyxP9fbShUwLXNAUAdbFPAHXYAQCUAVMDMbASgGfZTwA0U/F8DwVPA55T8X+ADVMAopgNAMiZUwK6QA8BCw1PARgD9301LU8CZlv1fWilUwLp9+9+2K1TAun3737Z7U8AzFQOgYfZTwJ8u/9/gGFTALn0BIBtiU8AufQEg23tTwA0U/F+DsFPAWW3+X3WlU8CTgAMgjx5UwJyh+v+fXlPARZr8P1wSVMAqivyfKE9TwLo+/3/UZFPAJPL6H2JeU8Ctaf9/s3dTwKbtBKC2TFPAVwf+v0NuU8BPZP+f9w5UwLr/AiBy9lPAXsYDgJlSU8DBPAGgTOJTwFrT/v/mQFTA0d0B4JA5VMBDNPyf6gRUwK8O/H/HAVTAoFUDILCTU8AnvvtfRR9UwHpU/N8Rf1PAhYT/357zU8B51gMgTTpUwBfe/r/ecVPAzKsAALzmU8AH/gEguN5TwOLkAsDGxFPAk4ADIA/3U8DU6P5/ljhUwOi7AKBvLVTAWW3+XzU8VMAH/gEg+K1TwB9CAYDI01PA8yoAAF+4U8DYWfy/jTBUwPWQAKCQxlPA6kgFgLC2U8CcIwJA2/5TwAFmAKBxclPAWW3+X/WPU8AZg/u/siJUwPNp/F+B/FPAHtwA4FbxU8B2CgPgKfZTwFT8ACA+9FPAmZb9X9pqU8DH1AIg06dTwKYsAQDZ/VPAOa0EIGhjU8BUvQTAmxtUwLdy/j9xCFTAYZIEwPyGU8BzF/5fN/VTwJmW/V+a1FPAyHn/HydBVMCTv/9/cfNTwFJv/D899lPA4uQCwIZ/U8DpYP2fg39TwGHRACDf7VPAxEf+P1KuU8Al2gIAj3FTwHXj/p/aflPAhur/fxDIU8BQyv8/KQ9UwFsS+1+J/FPAdH3+/2j6U8DqhwHgEthTwMVuAoDhvVPA1Cf737jCU8BA6gKgQklUwA==\",\"dtype\":\"float64\",\"shape\":[143]},\"magnitud\":{\"__ndarray__\":\"Z+CRwgY1D0A45cBhWEwTQMik0MMaOA1AoC2MmekTDUC1UHRVh7kOQGPVIMzt/hZAT05Z8h3hD0CXu+AdKtcMQKuOwS+a+g1AWQeblUgNDUDsBI/KqJ0OQOAKcmHuZA1AHVyVn68cEEAPiGsQQTAMQMTuO4bHjhJAl3vcEhRKDUDR2G7tCoYNQMGQ1a2euxBABzjOt0/4EUAwAENFi3oUQFi1/1yPHQ5AlAczt4ylDUC/O0OC8yMQQJEVsqmpGw1A4As48A8QEkD9u+O5Y6YPQJSKIZRSCw1AStro91gdEEAQ8otcgVIVQJZTTO8sSxFA2l+P7L6BEUBKUHBvhmgQQFyZCemdeA5ACX+OqLPbEkBA83uTjTwMQBqOhAnlrQ9ADywFrG6ADECgT+RJ0hETQBT9yhhZkQxAnrPDZwTWEEB8lXzsLjAMQPZZCu1BJQ1AvfMwWYHmD0ACXQN0whANQL90pERcthNAmAQcAHmYDUAXI7fLI8wPQLfOAXrIYQ1AnrkDTEsyE0ATIHUBUIkPQPIyN51sDBBAA3jqFT+DEkAxIWrLTi0TQGnPG9337g9AzkzV4vi+DEBWtHvqPzwRQHhTHbRP/g1AF0a8bY2ND0BETqHrqYYQQMrUTfd0tAxAGKfOYcbVEED8QVUzCBMQQCZ4O6nMSA1AaHtwTleNE0BA872vX44RQG/QA8TJSg5AebmhjGVQEEBiGTRXeq8QQGwgfnpDeBJAey4yhfcqDECC7tzFRY8SQD0jlVJlKg9AVNAn0RYwDEC8sPM+pwsMQIxqzzR6aAxADBP8JZjQFEAEuDA9J6YUQEBRVXgCDw1ApsQBNhiJDEDNcGZo+lwOQDKRkFBMiQ5AF0HnXvXiDEBo3ybtVwMNQL4raWIN+Q1AuaExrEUMEECNWy/6yAUOQPJZngd3Nw1APu9jWAdAEEAUziwRwWsPQEHK/GFTwA9ADnw11c3kE0BhwuyOWtsOQNvk6NjewgxAOEpenWO0EUDCv+cLStYPQNt6uKoNegxAHzcVDFthDUBcbrQMBmkNQIJ2RfgwHhJAF40QeSZPDEByaR3RFPQMQHkSQziHvwxArif8Ss4mEkBeTuh5YDUOQPwhkRGrshBATuh5YJW1FEAFIQ8z6nARQDOXCuAcIBJAeDod6YjjDUAZwISfciMPQIbOpZecGw1A+e2QB8c5DEB/B3GrQSwNQNyjs6OjGhBAzE3MYZSTDEBwqwdpGQsOQH7kc3oguhBAocuKl11WDEDw9XuDq4MMQJdMBGDyhQ5AbNaVpnMjD0AaRf+Ze98MQKAHDMzp4hFAL4LOvep5EUDOXksCsyYNQEG4Agr17AxATzezClnxEEB7WeqLSlMMQPlUZxjrNRJAn0ujjxp3DUB0pKeGBagPQFTSNyf+qQ1ATjp4wwkaEEBtKt4KWQQQQIqocKF+KQ5Ax1L739cBEUBiZ23HkikNQPOvQE9eDw5AnitjpmGmDUByVsAUUG4PQFm1c7OiuhJAK0y+XR+DFEBR9CPyG/oRQA==\",\"dtype\":\"float64\",\"shape\":[143]},\"pais\":[\"Ecuador\",\"Ecuador\",\"Ecuador\",\"Ecuador\",\"Ecuador\",\"Ecuador\",\"Ecuador\",\"Colombia\",\"Ecuador\",\"Ecuador\",\"Ecuador\",\"Ecuador\",\"Ecuador\",\"Ecuador\",\"Ecuador\",\"Ecuador\",\"Ecuador\",\"Ecuador\",\"Ecuador\",\"Ecuador\",\"Ecuador\",\"Ecuador\",\"Ecuador\",\"Ecuador\",\"Ecuador\",\"Ecuador\",\"Ecuador\",\"Ecuador\",\"Ecuador\",\"Ecuador\",\"Ecuador\",\"Ecuador\",\"Ecuador\",\"Ecuador\",\"Ecuador\",\"Ecuador\",\"Ecuador\",\"Ecuador\",\"Ecuador\",\"Colombia\",\"Ecuador\",\"Ecuador\",\"Ecuador\",\"Ecuador\",\"Ecuador\",\"Ecuador\",\"Ecuador\",\"Ecuador\",\"Peru\",\"Ecuador\",\"Ecuador\",\"Ecuador\",\"Ecuador\",\"Ecuador\",\"Ecuador\",\"Ecuador\",\"Ecuador\",\"Ecuador\",\"Ecuador\",\"Ecuador\",\"Ecuador\",\"Ecuador\",\"Ecuador\",\"Ecuador\",\"Ecuador\",\"Ecuador\",\"Ecuador\",\"Ecuador\",\"Ecuador\",\"Ecuador\",\"Ecuador\",\"Ecuador\",\"Ecuador\",\"Ecuador\",\"Ecuador\",\"Ecuador\",\"Ecuador\",\"Ecuador\",\"Ecuador\",\"Ecuador\",\"Ecuador\",\"Ecuador\",\"Ecuador\",\"Ecuador\",\"Ecuador\",\"Ecuador\",\"Ecuador\",\"Ecuador\",\"Ecuador\",\"Ecuador\",\"Ecuador\",\"Ecuador\",\"Ecuador\",\"Ecuador\",\"Ecuador\",\"Ecuador\",\"Ecuador\",\"Ecuador\",\"Ecuador\",\"Ecuador\",\"Ecuador\",\"Ecuador\",\"Ecuador\",\"Ecuador\",\"Ecuador\",\"Ecuador\",\"Ecuador\",\"Ecuador\",\"Ecuador\",\"Ecuador\",\"Ecuador\",\"Ecuador\",\"Ecuador\",\"Ecuador\",\"Ecuador\",\"Ecuador\",\"Ecuador\",\"Peru\",\"Ecuador\",\"Ecuador\",\"Peru\",\"Ecuador\",\"Ecuador\",\"Ecuador\",\"Ecuador\",\"Ecuador\",\"Ecuador\",\"Ecuador\",\"Ecuador\",\"Peru\",\"Ecuador\",\"Ecuador\",\"Ecuador\",\"Ecuador\",\"Ecuador\",\"Ecuador\",\"Ecuador\",\"Ecuador\",\"Ecuador\",\"Ecuador\",\"Ecuador\",\"Ecuador\",\"Ecuador\"],\"pprovincia\":[\"s.d\",\"Manab\\u00a1\",\"Provincia de Sucumb\\u00a1os\",\"Provincia de Pastaza\",\"Los R\\u00a1os\",\"Provincia de Esmeraldas\",\"Manab\\u00a1\",\"Narino\",\"Tungurahua\",\"Tungurahua\",\"Los R\\u00a1os\",\"Manab\\u00a1 Province\",\"Provincia de Napo\",\"Manab\\u00a1\",\"Provincia de Morona Santiago\",\"Provincia de Napo\",\"Los R\\u00a1os\",\"Provincia de Napo\",\"Provincia de Morona Santiago\",\"Provincia de Cotopaxi\",\"Esmeraldas Province\",\"Pichincha\",\"Manab\\u00a1\",\"Provincia de Morona Santiago\",\"Guayas\",\"Provincia de Morona Santiago\",\"Provincia de Pastaza\",\"Provincia de Napo\",\"Provincia de Santa Elena\",\"Pastaza Province\",\"Manab\\u00a1\",\"s.d\",\"Provincia de Esmeraldas\",\"s.d\",\"Pastaza Province\",\"Los R\\u00a1os\",\"Provincia de Sucumb\\u00a1os\",\"Manab\\u00a1\",\"s.d\",\"Narino\",\"Provincia de Chimborazo\",\"Pastaza Province\",\"s.d\",\"Provincia de Santa Elena\",\"Guayas\",\"Guayas\",\"Guayas\",\"Provincia de Orellana\",\"s.d\",\"Provincia de Santa Elena\",\"Esmeraldas Province\",\"Provincia de Bol\\u00a1var\",\"Morona-Santiago Province\",\"Guayas\",\"El Oro\",\"s.d\",\"Provincia de Napo\",\"Manab\\u00a1\",\"El Oro\",\"Provincia de Zamora Chinchipe\",\"Guayas\",\"Provincia de Santa Elena\",\"Provincia de Ca\\u00a4ar\",\"Morona-Santiago Province\",\"s.d\",\"Manab\\u00a1\",\"Provincia de Carchi\",\"Los R\\u00a1os\",\"Manab\\u00a1\",\"Pastaza Province\",\"Provincia de Carchi\",\"Provincia de Cotopaxi\",\"Provincia de Morona Santiago\",\"Manab\\u00a1\",\"Provincia de Sucumb\\u00a1os\",\"s.d\",\"Morona-Santiago Province\",\"Pastaza Province\",\"Morona-Santiago Province\",\"Provincia de Pastaza\",\"Orellana Province\",\"Morona-Santiago Province\",\"Manab\\u00a1\",\"Manab\\u00a1\",\"Pastaza Province\",\"Los R\\u00a1os\",\"s.d\",\"Manab\\u00a1\",\"Guayas\",\"Guayas\",\"Morona-Santiago Province\",\"Manab\\u00a1\",\"Morona-Santiago Province\",\"Guayas\",\"Manab\\u00a1\",\"Morona-Santiago Province\",\"Provincia de Esmeraldas\",\"Guayas\",\"Provincia de Chimborazo\",\"Guayas\",\"Provincia de Santa Elena\",\"Manab\\u00a1\",\"Manab\\u00a1\",\"Esmeraldas Province\",\"Azuay\",\"Provincia de Morona Santiago\",\"Manab\\u00a1\",\"s.d\",\"Provincia de Ca\\u00a4ar\",\"El Oro\",\"Morona-Santiago Province\",\"Tungurahua\",\"Manab\\u00a1\",\"El Oro\",\"Guayas\",\"s.d\",\"Guayas\",\"Amazonas\",\"Provincia de Ca\\u00a4ar\",\"El Oro\",\"Loreto\",\"Manab\\u00a1\",\"Guayas\",\"Provincia de Morona Santiago\",\"s.d\",\"Los R\\u00a1os\",\"s.d\",\"Guayas\",\"Guayas\",\"s.d\",\"Provincia de Pastaza\",\"El Oro\",\"Provincia de Chimborazo\",\"Morona-Santiago Province\",\"Morona-Santiago Province\",\"Provincia de Ca\\u00a4ar\",\"Provincia de Santa Elena\",\"El Oro\",\"Manab\\u00a1\",\"Azuay\",\"Provincia de Esmeraldas\",\"Azuay\",\"s.d\"],\"quality_associatedPhaseCount\":[31,64,43,39,35,56,38,40,37,42,42,36,51,39,46,33,44,38,43,63,46,42,40,40,53,73,45,57,55,47,43,45,32,55,34,57,36,39,25,83,57,49,26,24,112,59,30,44,33,40,64,77,73,46,14,61,54,45,26,19,66,47,42,31,29,22,45,52,62,47,46,63,10,22,47,55,44,24,30,45,44,30,40,60,59,60,50,60,43,50,82,46,35,55,26,35,22,43,54,39,45,42,62,63,54,70,39,66,51,29,34,60,52,25,28,46,41,20,38,27,26,35,50,45,49,35,27,30,38,22,61,38,67,58,36,69,50,30,57,52,70,75,57],\"quality_associatedStationCount\":[29,57,34,28,29,39,32,31,32,36,33,32,38,28,31,23,32,27,35,51,38,38,36,30,42,54,31,44,49,41,41,40,30,50,26,49,29,28,18,50,41,34,23,20,85,46,27,41,28,36,55,68,49,36,9,59,44,42,19,12,52,41,38,24,25,20,40,46,56,38,37,59,7,21,38,53,41,21,23,44,34,18,32,49,48,56,43,53,41,45,66,40,28,49,24,29,17,38,49,35,29,39,58,53,48,63,33,52,41,21,27,43,46,21,22,40,35,16,32,23,20,29,48,44,43,29,23,25,38,16,57,27,56,46,30,56,40,22,45,44,56,66,54],\"quality_azimuthalGap\":{\"__ndarray__\":\"5BQdyeW1a0DQmh9/acRVQG+Z02Uxm21Aa5p3nKKHcUCMBAlAUn5hQLkUV5V942xAMuGX+vl/cEC78lmehx5wQCUBamrZ02VAlxx3Sge2ZUBdYAPg55VXQCApIsMqa25ALv8h/fZUZkBCBBxCFf1wQLOwpx1+QnJAd/hrskacZ0CMqQVApmRZQEW7Cik/c2xAOC140ddtcUBYkdEBSURGQPBQFOgTR2ZAykqTUtBZX0D0piIVRqxwQMuEX+rn429AXcR3YlZMcEBxp3Sw/sdsQJjFxObjl29AZEUNpmE4akBkx0YgXrNvQHyb/uzH33BATbwDPOm1bkBJzP0fMRJwQJh35i8+AGpAkHsESB4QcEC+x/Tf/phyQPpn/n85Z1VALqgU4KD3bEB6RQHsTTRxQCAF9GdkWm1Artv7r07dcEAmfRC4JBZlQIr1/B8WXnJA0jsVcI+fbEAsxel/lKRaQKsb9/9UkUdALrz9f30WU0BnaQKgpWdUQGoO/5+5cWtACwURTvAVZUBAkw4gDQ1hQBEn5g/8n2tAit0EAMNwTECnJOtw9FBqQMVuAoAh7UtAgeju36E2ZkB+RAL8Cc5nQK81AMDW+mtAXsYDgBk2YkC8uOi/oitiQDaHEPzUT2VAO0kE9AwAUECCJh1AGglbQCD3CJD81GJATBb3H5lQbkBAsQQIVQZpQEgX9g/9AFxAvG4A7JI2YUDs7QGABCtRQA3V///gxVFA2UcCaO/CaUCBcRUwpsxjQA1XB0Dcj2BAiz/l86VKZkA2SxMArUddQLD30V8eQV9A4wf4f58LZUB8zRcgNkRnQCBCAYBI9GpANksTAC3ZbEBq7/ibtUNmQKaD9X8O421AgBcRIN6mbkBGvfH/9E5uQFE4Fm//VWJAC0j7H2DecEDJuPt/ySxSQM5pFmj3ymxAzA7xD9s+a0CPuBFgIgRoQKGU/3/SUFJA4HIGkKsAZkB0+/a/7TBoQOUeAZLf32lAeLZHbzgLW0Aqt/6n7PxpQCBRDaDEjGpAaIgZ0EE2YkBNy/4vTS5SQOafKvBfnF9AgVL+/0n8UEBl8OZfAWpnQBlE/19QtmpAroIY6Frha0BmtPqP8cllQGSXA5hNfWJAEQoARLCwYUB4cvLHGbJpQGOnDqhtq2NAadHxh5URY0DbZPlf00NiQERz+P+MrXBAcDkDyHVGY0ChuwPAoZxVQJFdDmD27GNAdfv2v21aXUAMg+j/i9VcQPPXGgDgZ1xAaNMRwA1cbkDy9RDo5wRhQKyB95+G8mRAyA/w/75AbUBrp/8PJPtWQM60DlgDI2VAMtMH3AT3ZUDLXCqAcz5bQJi1A2SeHmVAYRD9f0FybUBa3/qPUE5WQMcT/3/1BlBAWIQHcvW+bUC9fQwMj91lQFxN6D81NWBAI2AZwMDfYEAs8uuHmPBoQOK6GLndbWlAMDzlh8BPYEAd7vo3dThTQMK26t9aNGNAjOYSWEqXZEBYMhGAiT5tQJxKBoBqJG5A4K8TqE9XYUD1xw/wv5ptQA==\",\"dtype\":\"float64\",\"shape\":[143]},\"quality_maximumDistance\":{\"__ndarray__\":\"4R9bO/bY/j/UD+oihWBEQGPCHsmbsv4/D4aVZeOMAUAzpw1/NIn9P1Npej8kogNAUkvO5PZGCUB6e2u7ZIcCQBdzxuaZLfg/TGPFugJb8z/NkwjgqC31PxDU3wFUtwBAJE/tZwzO8z9b2fRWE7r+P7Ub2IV6NQZA6cWa285I9j+9na8fgwkAQCb34FqSCPk/lkwEYPKFB0B8Hu3JDXD+PxVMoZhhKPU/n6FuVjNB9j9FCDR9GwcHQJTai2g75vs/F+XjJN6bCUAPhpVl4zwHQEKHr2Xojvw/UWqKW2BK/D+ZJ3xbVRsNQIyxuKQPAgRAvDRu/wQWCEDF2d+fc4MFQLGFpD/JJ/k/1nUDYJfcBEDZedl+SwP3PzrZvGAmKANAvrDKv3WhAEBrH35AmAoJQMpHnF/erQpAP23Y36dcA0BZwbFfXh0HQCIQnr+/VwJAKuKVoJYJDEADOIPgbQUGQGpJ7H8l4TZAVYxv//x0CUDVCk+/dm4JQPzQFiGG5/o/ioofAMQTIUBgF02AxEMGQAHmlF+KOwJAQGnJXzGlBkAbaWegS2MEQOyUmn/sBAlAgmUZoDzFBUAAa90fUsAIQBDeiR+EZABANTs54EaMBEBmU6Z/5lcFQIDWeMCnJwJAvHqR4Hj0B0CfmA4AyaoMQAG6s59aRwZARbBYYBtTCUCCucyfJdYDQFxjRGC0uAhA7Gv6P8kl+D9XjrkAbt0EQOVrhZ/uugpAvzA2AF1cDEAxwNOecdX8P9u6H+Def/s/G1I9gOLj/j/lxOyfhlsIQFUr+uAIpPs/M2spIO2ZIkBXne6fG4QiQMpkHwEvNfs/RpR6PwPUAEDFMXmgoQEOQIfCBMElSP0/rBycgA3tAECYRlngp2ECQM+8f6CaYgBAF7ifAEjFAkBL2Za/SgcNQDViZp/HoAZAo9/Gf+QyCUAxX16AfWwIQJSllN+7uAlApQK8P719/D/yrdU/BDQGQK0YjQCXfQRAMW6THys/DEDRiIDgfY8JQNmXKiAGvQRAd8f3/1D0/T89b3Tfe+kJQBRUO2CqYwdANc+2P7wLBUB705kgj2UPQO8hn1+tRQdAoO1mgOqbDEADSvn/J9EUQEUvHyDKVRBAjRTjX3ihIUCPS8G/rSgIQHW5ud8+uhJA9Yp+nzdmCUCJn9afinQKQMwG24C2Iv8/aNYpwag1+T8F8jaAyEQFQCPItV9Ggg5AkrJm4Fe3A0BM8WVg7BYMQPsQCgBE+AtAdrWqX8jWB0Dq8t7/ZPcGQKO0s78elRBA0Ioc4FE8BEDYmcYf2tEEQFfDTV8ykgxAfjMYwOcZCkA6e6Ff3+8LQK8myyCpy/8/Hxfuv0K8CUCbT+P/CtAHQLLwWODpzQhA4x/wn/LwB0CJId7fRZwLQCE4cP94TApAX8PC/wwNB0DYLun/hxEKQET2pMDA8wJAmQNOAA8GAUB7eL+fVKoJQDs4ln9G7A1ADudMoKlTAUBIZv1///IFQH9VaP+H/ARAJtbzf1hQIUBmGJAgCVEKQA==\",\"dtype\":\"float64\",\"shape\":[143]},\"quality_medianDistance\":{\"__ndarray__\":\"gE0xYvr59D/5gas8gZACQKF4hIn1nPM/KZpiaTsh8z+x28q/VGvyP4pIXufw2vg/Lakk/JwsA0BMPPslPef0P6OpIgXkxdo/rhBWYwkr2z8WM4C/sUruPwD6IkZ0dPg/3qFyXUKP3T+WESisnl35Pzm0bb1Lrvc/LY1G24T93D+Uan6A3inwPwr5+yAmXPA/T7IwnwdiAEDsu8c+bdniPzw2+n9y5+4/MHdWoFAu4D/D76ZbdugBQOVYzSm3I/k/89PJYxd2/z9yWktcIjLzP3T9zGrLyvI/+GgWDb618D/Zt+5BY2EEQAMUNHc+7fQ/c+scoIdUAUAkIsLgFpP/P45Qnj+OUvU/LzxpwKQ5A0D7Dpd/oTXyP6TMgmDAuPQ/dNpLAQYF9T9s/5CfCZwDQD2xsb+qogVAIVROIJH7+j/SXJ8gTiP2PyzJz4BZtfg/kxSBf4T4CEBwHanfAeUAQPFH1Z+SpQBAsZTZ3nZ6/z+gFTnAo1gBQK12wZ5++fI/CiKcYEmbBkDTWJCg1xMAQEOYsj6rjfc/dWns4JrK8j9duJzg1ZECQGUItgAjrvk//sdToGDA9z/6p8jfxQwCQBP2SN6Uzes/Z68lgVnz/T+A5ntfv4wEQFXQH2DOCPM/kZ9LQGVv/j8RDLXgJIECQBV+gCAGO/Q/eNyFIOam+j8NmHYgoaQBQHLdtQBEvAJAJROm3gnM5T+3eSXBArX6Py+1rX866gBA+5yS3v3y8j9TnScB3sDuP4RS7h25Huk/Rv6JX+tR+T9vJmxgJ4wAQKUQCkJgAu4/tx5LQMipCUCBqpcAeKsEQFgb519gYPE/b3Iq31Qg9z82dYE/urDzP0a/jf/IlfQ/UXoyQQUu+j/hQh7BjYT9P/wlmCDZgvg/I4qH/43w9z9Bam7gaW30PwBAyl+MhgRAQmJ5X664A0BM1Yc/1JcAQL/ZQYBnRgBAJzGlgWHx7j9zg4AAQikBQNhcPUBaUAFAk8DNf5sXAUAT1Z0fLdsEQCn6jcBpy/c/VCpVYNAb9T/9eSKhkLH+P7zwlB8C+Po/xsAZgDZH+T/QpIeAx5gIQLahIIDtmwJAbT2//8EtBEAphKMegePvP+VwOaCdggNA9dFvgBUXBUCxG5Uf4bECQBJuz39R8gRAQpSzoMXM+T+ln9OgJmL4P0D+6z/f5PU/m1PJAFDF4j+w3gtAYTABQOi9cyDSbAVAr5TpwAdJ+j/0k0EgXZ0BQIFpKCCzRP4/9PyrvwybAUCUFsuA9QD8P7GFpD/JJwNAFjqnQANN/D9HbH+AGA0AQIovRX+JrAFAsI2ZwITs8z/yK87/SMQCQIHvFWGz8fA/4MA/AAT/BEBT0Ejf/9L+Pytb2l8sAgFAiPrZn/YBBECPTI+/F0PxPw7oGqATfgRAL5HBQMbC8T82DoogrQX+P0R1a4Bvlvw/GQtcgZXR9z9rFRY/OhP/P852XL8m/ABA8YuFAGRB+z8zkONey9H8PwG6s59a1/o/qmFDYHqFBECxXAQApkAGQA==\",\"dtype\":\"float64\",\"shape\":[143]},\"quality_minimumDistance\":{\"__ndarray__\":\"l+nyQSpg5z++1udium3TP1zHPBuHNNQ/m/WUYmhR4z9ZRtGg9IfoP5u8M6D/euo/Mo2JQR6J1D+teUQ7XQzfP/lV0u2Z46o/5cTsn4Yz0D/b3k07JTXVP4HY60BKquQ/Z1LYf3yN0T8GuvYF9MLxPywH/uARr+o/o6J/vDafuj+/e2ib8lPEP7qraL0p9uE/XOUJhJ0C8T88hgmb6FDWP6g/NT2sYNk/M4+ZlwULxT/snuFyYYnyP6TfnQCz8OM/Ex12nRWq1z/RKSOJuX/NP/PCpXxrVNc/GOh/Xl260T+MT+AhtZ7qPzbUQcE54ec/oFwqoYFJ8j+n/mqjdIjYP5c4sCSSi9Y/qHoJgLfh2z8c2c9BG0nlP+XZYSN7ys8//sNtnxv73D8sLiugkqv3P5fpNF78BeQ/6yNLQRIR2j/MZPaB/brSP3uX990Z0uc/PGV3eSE6yz8t7VAkymTaPw2WA6D+8co/7MM4h4RSzj+L/q++qgjUP9lMUz7jRuE/UxNUv5iu+T+ucvQ62t/WP92ogEHzleE/X4rdBABD2T9t6tn/Qhf3P0yKbkHfK88/Xj28IWx85T875yMAanDePxynlQAExcY/5L0HOwdH3D8QBypfp8PlP7iruruM6tg/prWriIHLwT95iyw+qkbQP6ycSd3GTcs/9vhzwGTJ9D+hAEAEC1bSP80QGgPjx9w/J/JmBW2PxD/MZmkCoCXbP23q2f9CJ+E/ZwhLZR+e3T9ZadZCXkmlPydLECLXFdA/A/j6nLNszj+ai67BsZ3kPzN7LL8E1cI/zt+EQgRc5D90uoffqLD0P/jj1b0+yOA/JN4RgEX/7D+vOnoVfMfJP0aPxj5U3NU/QCxAgLFj6j+9izkAyZH4P7qqgSAf+OY/jS/zgCYg7z+shu28x7jTPzGfKOAJA/E/xua6Wx933D/KrPd+F/TEP15Q18FeNMw/wxsE4wFhzD/V6oqdGdLoP3JrsV+gKfY//nK5A20Z1T8md/HhBrrhPwDirl5F9vI/46MHNpXizz/C78/ap4LRP8C2PN79FNM/NGZ1Hz642T8a+bziqUfQPwuroaIkg9E/Hn4n+yFV3z+MzgGb1hrdP23JR957MOQ/EFubQr6W7j/ECrd8JCXXPwJeCx+2GcQ/DBGiQpbB3T8+dptgzdvoP25/02C/bO0/egwkYimWzT81yTQ/o5njP6TVHGK0leM/QfRBIq9/3D8aEt67WcXfPyQG5L/+0+A/ALrcHoxx7T8R5+EEptPcPwSsE59U3uk/BxvH3VrF7j9uFcRA1/7hP7johbfeocc/tN9ewjYc0z/mSrFhVTbgP/4koaE9RuY/CTQ7/zRN8z/Yr4VqlL/EP+e16ToaKMs/Dv52wBIL+T+nEDx8oZmiP5Jrdf95duQ/Djo6EXExuD/8hSaiwmXvP1UqLOGe4fQ/Efmy3dKkxT88WHM+RHzSP5kHdh0m0ec/Q9dT5Vo43T8c4R98SR/XPz+DNACnOec/B9mJ/Sus4D8VRFFeM5LnPw==\",\"dtype\":\"float64\",\"shape\":[143]},\"quality_standardError\":{\"__ndarray__\":\"fZPoXaMC5T+WbIZlfXTzP/FdMcCRgtc/WK0r6rw77D+3qnhlD3vtP0gXvGTzI9o/V3XaQ5C92j8/NcHkBBXuP24JTOmRjeg/hg5P6T8v2z90c9ganfXWP4/U74C62tg/NLvNn18p6j9L5hbCg6nkP+x43Wy9MOY/zgZP18kv4z/G/eR7iD7jP6+bjAm1b+E/PKr12VyQ8z+ZVAKcvXfcP1ChPvKcR+s/ux9cpssH3T+rjOuEPGf2P9ovRPOlnPA/is4RfWeJ4T9zLVqAtrXoP6o61IQnE+o/yDVwzT7L5j8Z7m1EQRr1P5h9BQacp+g/XHfSRp654z+HgTK2pYjrPwXQnLMNFeQ/VkSPEMxO7j/3QKf3v+nfPxqEPRZwyeU/MqX9KE2X6D+cGXkwlDnwP4HEfmhJdO8/apXLDDyz6T/FII9kf+7wP4uLQEhYTOU//e4EmIXY8T8JxMrsHNjhP7ariIFL4/g/k/BSJD475T/V6/VyyHvxP3quSn20k/Q/RXYxD5Eh9T+AR3W2V7HmPw7vvejADOo/nChTFs/q4D/S2tn8ZGHwP4oN7c6g4vA/0+UHjeR77z9EDIUZZLzlPxK38cT/H+Q/02WU27Qh6T8elGp+gF72Pz4ZDEMegO0/6UTl0yH/6D+A0Sfqs4DuPynDAqleCOI/33l3nlfA7j+l0pnF1RLvP3XubkzsffI/O7r4eHTF4D8vg5RMDJHrP1VfZYbw3Ow/75UWgfOa6z9xJgHFI6zlP3ufqkIDseM/Eh4Cga0W6z+qqPIkhhDkP6wmXzveBd0/oH+K/F0M5T+5BYUgi53dP7cejVyaD98/EuWgvkTg5z9TsXPL9TPoP2w2wf2hNeA/vFpR978r1z9CJhk5C7vvP+Rj+7k2Dts/FAlkfocF7T+SduWrywbrP2PnErMDM/U/smDJ8gHj8z+ieoxulAfpP09yC4YIMuw/HJqRxSYn4D+rm6RcjnXkP/kPbfBTb+s/kMQmjSwU6j+d68HFBoLuP/qkh1+5t+8/Eo4PaQrz4j9GRkHP6q3sPwRFhxtLc+I/h5oRc4Ng6j/BN7DJ2CjwPy4L/X73T+w/U46wRV547j9QQn5wHeftP22gCskTsvA/bFETOyJY6D9DQNchq/nuP16UqDAZO+Y/abuVZ1Y96z8xfa8hOG7sPwU1nRnUSew/2xCpiiV80T8joID10SzvP3Nfc7Pkduk/UxWmMVLW3T8zPoLRm1DzP8h2Y+anfe4/OylA0q8G2T+oQ592lYHcPz2eEucTX+Q/w2w8t1TO6z+5+YiQoaDuP8YTpMZC/Og/KSd3K40Q5j/gPpvqA1jxP++AHcVaeOg/K0quBzgJ4T+GjEephCflP/C3RbKq0uc/VO3LgFBq9j+MHZ5vVePqP2UR9UikWfc/fNAWhLDC7j/RmQ9jLdnpP1pF4pKhEvA/82g20d8S9D/f0wdYzBTxP/DthgLwDu4/5DUrsggL6D85yT36sqb7P+KwNPCjSvE/zstZhtWL/D+ClVwoDRPhPw==\",\"dtype\":\"float64\",\"shape\":[143]},\"quality_usedPhaseCount\":[31,58,39,37,31,46,31,40,35,35,34,36,45,38,45,31,40,36,36,61,37,34,40,36,52,72,42,53,52,42,39,41,29,45,34,56,36,32,13,67,54,46,22,22,106,53,29,35,33,35,59,76,33,46,14,53,54,41,19,15,58,41,38,31,28,14,45,46,60,45,39,57,10,21,44,54,40,24,27,44,40,24,38,50,52,60,39,49,42,50,63,36,32,51,20,32,21,42,51,33,34,34,47,57,53,69,29,61,49,28,29,44,43,16,20,39,39,19,35,25,25,27,46,45,44,35,23,28,37,19,61,30,67,57,32,48,46,26,55,40,61,64,38],\"quality_usedStationCount\":[29,54,31,28,25,35,28,31,30,29,26,32,32,28,30,21,32,26,30,51,29,33,36,29,42,54,28,40,46,36,37,36,27,41,26,49,29,25,10,42,40,32,19,19,83,42,26,33,28,31,50,67,24,36,9,51,44,39,13,8,47,37,34,24,24,12,40,40,54,37,33,53,7,20,36,52,37,21,21,43,31,18,31,42,41,56,32,42,40,45,47,30,28,47,18,27,16,37,46,29,25,32,44,49,48,63,26,50,40,21,25,33,39,14,15,35,33,15,31,21,19,22,45,44,40,29,19,24,37,14,57,23,56,45,28,38,37,19,44,34,48,55,36],\"time_uncertainty\":{\"__ndarray__\":\"tUh/1Mv05D/ByOyoQYPMP5rAIRKNp+E/rbse8dD84j8SMcJnLf3ZP9N4EqZiwuQ/G+08Ghw/7D/AnmXME17gP+WV0tCSydA/FNSNA/Gyzj/1RDqw2gTWP4Wcc8fN9uM/Mfl2fayBzj9wSeVYpOrsP9d0FFJEJ+A/k9Ar2CXu1D9epj9evD3hP7kq/UKXCd4/zCwAlUPu4z8NemebuCjEPysKBbaUfdg/QvLGMMS90j8OQopLnwfwP5NiNrf4KuI/OiAqCWCV4D+ImJaBmL7aP/4MTsj3uuA/nI3PQ/GT1j/D3wbnGRzjP19CaLHSLOI/0rPNS83X7j84/IdXBhPkP96F92bliOE/O/UO2FEM6D8VBZca47vnP6kHmgllZdU/I18yI/ZI4D/3tNz8M+HjP2MiKRLheec/Y+ud+tUW2j+LNRrIzGjaP4S7s3bbRd8/baVbnwfR5z9b+dmGWcHeP2o0FNJ1vMI/9Fl1iEUt0j+S+qGI+/7UP3HA16WAU+s/97glKDQ/7j+S4/Mv7uvTP0Gd8uhGGNo/rLJrUjz00z+jqDto2YfdP4diXaKbedI/8laGBpyE5j+WAS1+z3/hP8VQFAkiIt8/9AdWF+hB3D8PgHaPhUvXP384QBeqTuc/u4N1b4d+0j8iKTPvgtLKP+qPF2+3JtY/NiL3+K1r5D8xthDkoCTgPwCh/WGuudQ/C76Cl40Mxj8ZWjpy5s/YPwnu1QHv6Mg/SPiDJi5M4D+RPjHb47/XP8DWfMe2rcw/PYvv1dhv2z9sFpqxiUjRPzT7l//rt84/YqT2phJz2z+0rai5w/P4P1nVuw2kCuo/Nr5haJaA4D+jge2ab8joP9p/MgAzQ+A/5P+nRfEI6T/HMZI9Qg3hP1EZnBQo2to/AcT6ks/j3T+6ri122l7TP3NLqyFxb+E/8Es/2Xtu4D9qTqCA1GPkP4q4EBbbhdM/0UYJVcXv0z+dCTR1qr7VP5u58h/zPeE/EfO0FV520D82QEiaaGXhP8BWz2r9ZOA/P8x3Uz4C1T+4bQgjMHXQPzbgHEM6W9k/IXlCCvk74T+3W3lm1anaP17Y3MmOCuY/LqEnCpmQ5D+sitO9DI7XP/cymxHvit0/pDXljieX1T/2VzRC5NniP79IBaH+K9k/QizV5K0j1T9xw7X70QfYP8vwRLUtj+Q/Zz1C7p6T0D9bI8SNQi/LP9zzuk3R9Nk/0X0xQhXK2T/NdPGvzLjRPzv82p8wzc0/XoIRA3aI8z/INU+/VajaPyqVSz7R0N4/zud5w7+A4T+6lvuqfTbRP/MNGjTTQd8/e5KmBybz4j+Hm0KdqNvQPxbjNvmxcuU/DUrB6Cwy4z+C6OZuGejaP81YNJ2dTNc/WDA71Wsk4z/ggJauYNvePxzMaNyCgtE/ax0LwPUXyj8eNNz8livYP2exuQ/lMN8/vVlB24Nzyz8h9UuCP5XOP4qiML03ZeI/dSxC8zEG2D/AxtxSWsHeP28RlLJ3DNs/EZoTajyH1T838f4NFAfyPw==\",\"dtype\":\"float64\",\"shape\":[143]}},\"selected\":{\"id\":\"3116\",\"type\":\"Selection\"},\"selection_policy\":{\"id\":\"3115\",\"type\":\"UnionRenderers\"}},\"id\":\"2931\",\"type\":\"ColumnDataSource\"},{\"attributes\":{\"days\":[1,4,7,10,13,16,19,22,25,28]},\"id\":\"3469\",\"type\":\"DaysTicker\"},{\"attributes\":{\"months\":[0,1,2,3,4,5,6,7,8,9,10,11]},\"id\":\"3472\",\"type\":\"MonthsTicker\"},{\"attributes\":{\"plot\":null,\"text\":\"Sismos Periodo 2012-2014\",\"text_font_size\":{\"value\":\"15pt\"}},\"id\":\"3274\",\"type\":\"Title\"},{\"attributes\":{\"days\":[1,15]},\"id\":\"3471\",\"type\":\"DaysTicker\"},{\"attributes\":{\"days\":[1,8,15,22]},\"id\":\"3470\",\"type\":\"DaysTicker\"},{\"attributes\":{\"callback\":null},\"id\":\"3277\",\"type\":\"DataRange1d\"},{\"attributes\":{\"months\":[0,4,8]},\"id\":\"3474\",\"type\":\"MonthsTicker\"},{\"attributes\":{},\"id\":\"3281\",\"type\":\"LinearScale\"}],\"root_ids\":[\"3275\"]},\"title\":\"Bokeh Application\",\"version\":\"1.0.4\"}};\n",
       "  var render_items = [{\"docid\":\"85ab65ba-7540-4054-a8ce-ea38f4c23386\",\"roots\":{\"3275\":\"1716f552-0507-47f7-98f3-b2ce203c57e4\"}}];\n",
       "  root.Bokeh.embed.embed_items_notebook(docs_json, render_items);\n",
       "\n",
       "  }\n",
       "  if (root.Bokeh !== undefined) {\n",
       "    embed_document(root);\n",
       "  } else {\n",
       "    var attempts = 0;\n",
       "    var timer = setInterval(function(root) {\n",
       "      if (root.Bokeh !== undefined) {\n",
       "        embed_document(root);\n",
       "        clearInterval(timer);\n",
       "      }\n",
       "      attempts++;\n",
       "      if (attempts > 100) {\n",
       "        console.log(\"Bokeh: ERROR: Unable to run BokehJS code because BokehJS library is missing\");\n",
       "        clearInterval(timer);\n",
       "      }\n",
       "    }, 10, root)\n",
       "  }\n",
       "})(window);"
      ],
      "application/vnd.bokehjs_exec.v0+json": ""
     },
     "metadata": {
      "application/vnd.bokehjs_exec.v0+json": {
       "id": "3275"
      }
     },
     "output_type": "display_data"
    }
   ],
   "source": [
    "\n",
    "# importamos un herramienta de bokeh para manejar formatos del tipo fecha\n",
    "from bokeh.models import DatetimeTickFormatter\n",
    "# Creamos la figura 1(grafico de barras) de lso datos \"fecha\" y \"magnitud\"\n",
    "plot1=figure(plot_width=1200, plot_height=600, x_axis_label='Fecha', x_axis_type='datetime', y_axis_label='Magnitud', title='Sismos Periodo 2012-2014')\n",
    "plot1.title.text_font_size='15pt'\n",
    "plot1.xaxis.formatter = DatetimeTickFormatter(months = ['%B/%Y']) # Formateamos la fecha como nosotros queremos (full month, int year)\n",
    "plot1.circle(source=source, x='fecha', y='magnitud')\n",
    "plot1.add_tools(HoverTool(tooltips=[(\"fecha\",\"@fecha\")]))\n",
    "show(plot1)\n"
   ]
  },
  {
   "cell_type": "code",
   "execution_count": 3,
   "metadata": {},
   "outputs": [],
   "source": [
    "paises, f_pais = np.unique(nuevo['pais'], return_counts=1) # Contamos la frecuencia de las variables existentes en la columna pais y guardamos dichos datos en dos variables"
   ]
  },
  {
   "cell_type": "code",
   "execution_count": 4,
   "metadata": {},
   "outputs": [
    {
     "data": {
      "text/html": [
       "\n",
       "\n",
       "\n",
       "\n",
       "\n",
       "\n",
       "  <div class=\"bk-root\" id=\"cf2f66ee-3aac-4c3b-a760-4cea13956df8\" data-root-id=\"1180\"></div>\n"
      ]
     },
     "metadata": {},
     "output_type": "display_data"
    },
    {
     "data": {
      "application/javascript": [
       "(function(root) {\n",
       "  function embed_document(root) {\n",
       "    \n",
       "  var docs_json = {\"ab326c4d-25ed-4db1-89b7-a09241ce71f4\":{\"roots\":{\"references\":[{\"attributes\":{\"below\":[{\"id\":\"1190\",\"type\":\"CategoricalAxis\"}],\"left\":[{\"id\":\"1194\",\"type\":\"LinearAxis\"}],\"renderers\":[{\"id\":\"1190\",\"type\":\"CategoricalAxis\"},{\"id\":\"1193\",\"type\":\"Grid\"},{\"id\":\"1194\",\"type\":\"LinearAxis\"},{\"id\":\"1198\",\"type\":\"Grid\"},{\"id\":\"1207\",\"type\":\"BoxAnnotation\"},{\"id\":\"1217\",\"type\":\"GlyphRenderer\"}],\"title\":{\"id\":\"1179\",\"type\":\"Title\"},\"toolbar\":{\"id\":\"1205\",\"type\":\"Toolbar\"},\"x_range\":{\"id\":\"1182\",\"type\":\"FactorRange\"},\"x_scale\":{\"id\":\"1186\",\"type\":\"CategoricalScale\"},\"y_range\":{\"id\":\"1184\",\"type\":\"DataRange1d\"},\"y_scale\":{\"id\":\"1188\",\"type\":\"LinearScale\"}},\"id\":\"1180\",\"subtype\":\"Figure\",\"type\":\"Plot\"},{\"attributes\":{\"data_source\":{\"id\":\"1214\",\"type\":\"ColumnDataSource\"},\"glyph\":{\"id\":\"1215\",\"type\":\"VBar\"},\"hover_glyph\":null,\"muted_glyph\":null,\"nonselection_glyph\":{\"id\":\"1216\",\"type\":\"VBar\"},\"selection_glyph\":null,\"view\":{\"id\":\"1218\",\"type\":\"CDSView\"}},\"id\":\"1217\",\"type\":\"GlyphRenderer\"},{\"attributes\":{\"bottom_units\":\"screen\",\"fill_alpha\":{\"value\":0.5},\"fill_color\":{\"value\":\"lightgrey\"},\"left_units\":\"screen\",\"level\":\"overlay\",\"line_alpha\":{\"value\":1.0},\"line_color\":{\"value\":\"black\"},\"line_dash\":[4,4],\"line_width\":{\"value\":2},\"plot\":null,\"render_mode\":\"css\",\"right_units\":\"screen\",\"top_units\":\"screen\"},\"id\":\"1207\",\"type\":\"BoxAnnotation\"},{\"attributes\":{},\"id\":\"1244\",\"type\":\"UnionRenderers\"},{\"attributes\":{\"source\":{\"id\":\"1214\",\"type\":\"ColumnDataSource\"}},\"id\":\"1218\",\"type\":\"CDSView\"},{\"attributes\":{},\"id\":\"1242\",\"type\":\"BasicTickFormatter\"},{\"attributes\":{},\"id\":\"1245\",\"type\":\"Selection\"},{\"attributes\":{},\"id\":\"1191\",\"type\":\"CategoricalTicker\"},{\"attributes\":{},\"id\":\"1188\",\"type\":\"LinearScale\"},{\"attributes\":{},\"id\":\"1186\",\"type\":\"CategoricalScale\"},{\"attributes\":{\"callback\":null,\"factors\":[\"Colombia\",\"Ecuador\",\"Peru\"]},\"id\":\"1182\",\"type\":\"FactorRange\"},{\"attributes\":{\"callback\":null},\"id\":\"1184\",\"type\":\"DataRange1d\"},{\"attributes\":{},\"id\":\"1240\",\"type\":\"CategoricalTickFormatter\"},{\"attributes\":{\"plot\":null,\"text\":\"Sismos Periodo 2012-2016\",\"text_font_size\":{\"value\":\"15pt\"}},\"id\":\"1179\",\"type\":\"Title\"},{\"attributes\":{\"plot\":{\"id\":\"1180\",\"subtype\":\"Figure\",\"type\":\"Plot\"},\"ticker\":{\"id\":\"1191\",\"type\":\"CategoricalTicker\"}},\"id\":\"1193\",\"type\":\"Grid\"},{\"attributes\":{\"formatter\":{\"id\":\"1240\",\"type\":\"CategoricalTickFormatter\"},\"major_label_orientation\":1.2,\"major_label_text_font_size\":{\"value\":\"15pt\"},\"plot\":{\"id\":\"1180\",\"subtype\":\"Figure\",\"type\":\"Plot\"},\"ticker\":{\"id\":\"1191\",\"type\":\"CategoricalTicker\"}},\"id\":\"1190\",\"type\":\"CategoricalAxis\"},{\"attributes\":{\"fill_alpha\":{\"value\":0.1},\"fill_color\":{\"value\":\"#1f77b4\"},\"line_alpha\":{\"value\":0.1},\"line_color\":{\"value\":\"#1f77b4\"},\"top\":{\"field\":\"top\"},\"width\":{\"value\":0.5},\"x\":{\"field\":\"x\"}},\"id\":\"1216\",\"type\":\"VBar\"},{\"attributes\":{\"fill_color\":{\"field\":\"fill_color\"},\"line_color\":{\"field\":\"line_color\"},\"top\":{\"field\":\"top\"},\"width\":{\"value\":0.5},\"x\":{\"field\":\"x\"}},\"id\":\"1215\",\"type\":\"VBar\"},{\"attributes\":{},\"id\":\"1195\",\"type\":\"BasicTicker\"},{\"attributes\":{\"dimension\":1,\"plot\":{\"id\":\"1180\",\"subtype\":\"Figure\",\"type\":\"Plot\"},\"ticker\":{\"id\":\"1195\",\"type\":\"BasicTicker\"}},\"id\":\"1198\",\"type\":\"Grid\"},{\"attributes\":{},\"id\":\"1204\",\"type\":\"HelpTool\"},{\"attributes\":{\"formatter\":{\"id\":\"1242\",\"type\":\"BasicTickFormatter\"},\"plot\":{\"id\":\"1180\",\"subtype\":\"Figure\",\"type\":\"Plot\"},\"ticker\":{\"id\":\"1195\",\"type\":\"BasicTicker\"}},\"id\":\"1194\",\"type\":\"LinearAxis\"},{\"attributes\":{},\"id\":\"1202\",\"type\":\"SaveTool\"},{\"attributes\":{\"overlay\":{\"id\":\"1207\",\"type\":\"BoxAnnotation\"}},\"id\":\"1201\",\"type\":\"BoxZoomTool\"},{\"attributes\":{},\"id\":\"1203\",\"type\":\"ResetTool\"},{\"attributes\":{},\"id\":\"1200\",\"type\":\"WheelZoomTool\"},{\"attributes\":{},\"id\":\"1199\",\"type\":\"PanTool\"},{\"attributes\":{\"active_drag\":\"auto\",\"active_inspect\":\"auto\",\"active_multi\":null,\"active_scroll\":\"auto\",\"active_tap\":\"auto\",\"tools\":[{\"id\":\"1199\",\"type\":\"PanTool\"},{\"id\":\"1200\",\"type\":\"WheelZoomTool\"},{\"id\":\"1201\",\"type\":\"BoxZoomTool\"},{\"id\":\"1202\",\"type\":\"SaveTool\"},{\"id\":\"1203\",\"type\":\"ResetTool\"},{\"id\":\"1204\",\"type\":\"HelpTool\"}]},\"id\":\"1205\",\"type\":\"Toolbar\"},{\"attributes\":{\"callback\":null,\"data\":{\"fill_color\":[\"#FFC0CB\",\"#FFB6C1\",\"#FF69B4\"],\"line_color\":[\"#FFC0CB\",\"#FFB6C1\",\"#FF69B4\"],\"top\":{\"__ndarray__\":\"AgAAAIkAAAAEAAAA\",\"dtype\":\"int32\",\"shape\":[3]},\"x\":[\"Colombia\",\"Ecuador\",\"Peru\"]},\"selected\":{\"id\":\"1245\",\"type\":\"Selection\"},\"selection_policy\":{\"id\":\"1244\",\"type\":\"UnionRenderers\"}},\"id\":\"1214\",\"type\":\"ColumnDataSource\"}],\"root_ids\":[\"1180\"]},\"title\":\"Bokeh Application\",\"version\":\"1.0.4\"}};\n",
       "  var render_items = [{\"docid\":\"ab326c4d-25ed-4db1-89b7-a09241ce71f4\",\"roots\":{\"1180\":\"cf2f66ee-3aac-4c3b-a760-4cea13956df8\"}}];\n",
       "  root.Bokeh.embed.embed_items_notebook(docs_json, render_items);\n",
       "\n",
       "  }\n",
       "  if (root.Bokeh !== undefined) {\n",
       "    embed_document(root);\n",
       "  } else {\n",
       "    var attempts = 0;\n",
       "    var timer = setInterval(function(root) {\n",
       "      if (root.Bokeh !== undefined) {\n",
       "        embed_document(root);\n",
       "        clearInterval(timer);\n",
       "      }\n",
       "      attempts++;\n",
       "      if (attempts > 100) {\n",
       "        console.log(\"Bokeh: ERROR: Unable to run BokehJS code because BokehJS library is missing\");\n",
       "        clearInterval(timer);\n",
       "      }\n",
       "    }, 10, root)\n",
       "  }\n",
       "})(window);"
      ],
      "application/vnd.bokehjs_exec.v0+json": ""
     },
     "metadata": {
      "application/vnd.bokehjs_exec.v0+json": {
       "id": "1180"
      }
     },
     "output_type": "display_data"
    }
   ],
   "source": [
    "# Creamos al figura 2(grafico de barra) de los datos 'pais' y frecuencia('pais')\n",
    "plot2 = figure(x_range=paises, title=\"Sismos Periodo 2012-2016\")\n",
    "plot2.title.text_font_size = \"15pt\"\n",
    "plot2.xaxis.major_label_text_font_size = \"15pt\"\n",
    "plot2.xaxis.major_label_orientation = 1.2\n",
    "plot2.vbar(x=paises, width=0.5, top=f_pais, color=['#FFC0CB','#FFB6C1','#FF69B4'])\n",
    "show(plot2)"
   ]
  },
  {
   "cell_type": "code",
   "execution_count": 5,
   "metadata": {},
   "outputs": [],
   "source": [
    " uniq, cnts = np.unique(nuevo['ciudad'], return_counts=1) # Contamos la freciencia de las variables existentes "
   ]
  },
  {
   "cell_type": "code",
   "execution_count": 6,
   "metadata": {},
   "outputs": [
    {
     "data": {
      "text/html": [
       "\n",
       "\n",
       "\n",
       "\n",
       "\n",
       "\n",
       "  <div class=\"bk-root\" id=\"3b24f86b-b4ac-45d1-8471-577961fe86a5\" data-root-id=\"1295\"></div>\n"
      ]
     },
     "metadata": {},
     "output_type": "display_data"
    },
    {
     "data": {
      "application/javascript": [
       "(function(root) {\n",
       "  function embed_document(root) {\n",
       "    \n",
       "  var docs_json = {\"ebb48f7a-13b2-4db7-8cad-109a72be969e\":{\"roots\":{\"references\":[{\"attributes\":{\"below\":[{\"id\":\"1305\",\"type\":\"CategoricalAxis\"}],\"left\":[{\"id\":\"1309\",\"type\":\"LinearAxis\"}],\"renderers\":[{\"id\":\"1305\",\"type\":\"CategoricalAxis\"},{\"id\":\"1308\",\"type\":\"Grid\"},{\"id\":\"1309\",\"type\":\"LinearAxis\"},{\"id\":\"1313\",\"type\":\"Grid\"},{\"id\":\"1322\",\"type\":\"BoxAnnotation\"},{\"id\":\"1332\",\"type\":\"GlyphRenderer\"}],\"title\":{\"id\":\"1294\",\"type\":\"Title\"},\"toolbar\":{\"id\":\"1320\",\"type\":\"Toolbar\"},\"x_range\":{\"id\":\"1297\",\"type\":\"FactorRange\"},\"x_scale\":{\"id\":\"1301\",\"type\":\"CategoricalScale\"},\"y_range\":{\"id\":\"1299\",\"type\":\"DataRange1d\"},\"y_scale\":{\"id\":\"1303\",\"type\":\"LinearScale\"}},\"id\":\"1295\",\"subtype\":\"Figure\",\"type\":\"Plot\"},{\"attributes\":{},\"id\":\"1363\",\"type\":\"CategoricalTickFormatter\"},{\"attributes\":{\"callback\":null,\"factors\":[\"28 de mayo\",\"Ca\\u00a4itas\",\"Delia\",\"El Real\",\"Flavio Alfaro\",\"GUAP\\u00b5N\",\"Guayaquil\",\"Jauneche\",\"Manantiales\",\"Manta\",\"Palora\",\"Pi\\u00a4as\",\"Puyo\",\"Salinas\",\"San Fernando\",\"Santa Rosa\",\"Sim\\u00a2n Bol\\u00a1var\",\"Valencia\",\"V\\u00a1nces\",\"s.d\"]},\"id\":\"1297\",\"type\":\"FactorRange\"},{\"attributes\":{},\"id\":\"1303\",\"type\":\"LinearScale\"},{\"attributes\":{},\"id\":\"1306\",\"type\":\"CategoricalTicker\"},{\"attributes\":{\"callback\":null},\"id\":\"1299\",\"type\":\"DataRange1d\"},{\"attributes\":{\"formatter\":{\"id\":\"1365\",\"type\":\"BasicTickFormatter\"},\"plot\":{\"id\":\"1295\",\"subtype\":\"Figure\",\"type\":\"Plot\"},\"ticker\":{\"id\":\"1310\",\"type\":\"BasicTicker\"}},\"id\":\"1309\",\"type\":\"LinearAxis\"},{\"attributes\":{\"fill_alpha\":{\"value\":0.1},\"fill_color\":{\"value\":\"#1f77b4\"},\"line_alpha\":{\"value\":0.1},\"line_color\":{\"value\":\"#1f77b4\"},\"top\":{\"field\":\"top\"},\"width\":{\"value\":0.3},\"x\":{\"field\":\"x\"}},\"id\":\"1331\",\"type\":\"VBar\"},{\"attributes\":{\"active_drag\":\"auto\",\"active_inspect\":\"auto\",\"active_multi\":null,\"active_scroll\":\"auto\",\"active_tap\":\"auto\",\"tools\":[{\"id\":\"1314\",\"type\":\"PanTool\"},{\"id\":\"1315\",\"type\":\"WheelZoomTool\"},{\"id\":\"1316\",\"type\":\"BoxZoomTool\"},{\"id\":\"1317\",\"type\":\"SaveTool\"},{\"id\":\"1318\",\"type\":\"ResetTool\"},{\"id\":\"1319\",\"type\":\"HelpTool\"}]},\"id\":\"1320\",\"type\":\"Toolbar\"},{\"attributes\":{},\"id\":\"1301\",\"type\":\"CategoricalScale\"},{\"attributes\":{\"source\":{\"id\":\"1329\",\"type\":\"ColumnDataSource\"}},\"id\":\"1333\",\"type\":\"CDSView\"},{\"attributes\":{\"formatter\":{\"id\":\"1363\",\"type\":\"CategoricalTickFormatter\"},\"major_label_orientation\":1.2,\"major_label_text_font_size\":{\"value\":\"12pt\"},\"plot\":{\"id\":\"1295\",\"subtype\":\"Figure\",\"type\":\"Plot\"},\"ticker\":{\"id\":\"1306\",\"type\":\"CategoricalTicker\"}},\"id\":\"1305\",\"type\":\"CategoricalAxis\"},{\"attributes\":{\"plot\":{\"id\":\"1295\",\"subtype\":\"Figure\",\"type\":\"Plot\"},\"ticker\":{\"id\":\"1306\",\"type\":\"CategoricalTicker\"}},\"id\":\"1308\",\"type\":\"Grid\"},{\"attributes\":{\"callback\":null,\"data\":{\"top\":{\"__ndarray__\":\"AQAAAAEAAAABAAAAAQAAAAEAAAABAAAAAQAAAAEAAAABAAAAAgAAAAIAAAABAAAAAQAAAAIAAAABAAAAAQAAAAEAAAABAAAAAQAAAHkAAAA=\",\"dtype\":\"int32\",\"shape\":[20]},\"x\":[\"28 de mayo\",\"Ca\\u00a4itas\",\"Delia\",\"El Real\",\"Flavio Alfaro\",\"GUAP\\u00b5N\",\"Guayaquil\",\"Jauneche\",\"Manantiales\",\"Manta\",\"Palora\",\"Pi\\u00a4as\",\"Puyo\",\"Salinas\",\"San Fernando\",\"Santa Rosa\",\"Sim\\u00a2n Bol\\u00a1var\",\"Valencia\",\"V\\u00a1nces\",\"s.d\"]},\"selected\":{\"id\":\"1368\",\"type\":\"Selection\"},\"selection_policy\":{\"id\":\"1367\",\"type\":\"UnionRenderers\"}},\"id\":\"1329\",\"type\":\"ColumnDataSource\"},{\"attributes\":{},\"id\":\"1368\",\"type\":\"Selection\"},{\"attributes\":{},\"id\":\"1367\",\"type\":\"UnionRenderers\"},{\"attributes\":{},\"id\":\"1310\",\"type\":\"BasicTicker\"},{\"attributes\":{},\"id\":\"1319\",\"type\":\"HelpTool\"},{\"attributes\":{},\"id\":\"1365\",\"type\":\"BasicTickFormatter\"},{\"attributes\":{\"data_source\":{\"id\":\"1329\",\"type\":\"ColumnDataSource\"},\"glyph\":{\"id\":\"1330\",\"type\":\"VBar\"},\"hover_glyph\":null,\"muted_glyph\":null,\"nonselection_glyph\":{\"id\":\"1331\",\"type\":\"VBar\"},\"selection_glyph\":null,\"view\":{\"id\":\"1333\",\"type\":\"CDSView\"}},\"id\":\"1332\",\"type\":\"GlyphRenderer\"},{\"attributes\":{\"overlay\":{\"id\":\"1322\",\"type\":\"BoxAnnotation\"}},\"id\":\"1316\",\"type\":\"BoxZoomTool\"},{\"attributes\":{},\"id\":\"1315\",\"type\":\"WheelZoomTool\"},{\"attributes\":{\"bottom_units\":\"screen\",\"fill_alpha\":{\"value\":0.5},\"fill_color\":{\"value\":\"lightgrey\"},\"left_units\":\"screen\",\"level\":\"overlay\",\"line_alpha\":{\"value\":1.0},\"line_color\":{\"value\":\"black\"},\"line_dash\":[4,4],\"line_width\":{\"value\":2},\"plot\":null,\"render_mode\":\"css\",\"right_units\":\"screen\",\"top_units\":\"screen\"},\"id\":\"1322\",\"type\":\"BoxAnnotation\"},{\"attributes\":{},\"id\":\"1314\",\"type\":\"PanTool\"},{\"attributes\":{\"dimension\":1,\"plot\":{\"id\":\"1295\",\"subtype\":\"Figure\",\"type\":\"Plot\"},\"ticker\":{\"id\":\"1310\",\"type\":\"BasicTicker\"}},\"id\":\"1313\",\"type\":\"Grid\"},{\"attributes\":{\"plot\":null,\"text\":\"Sismos por Ciudad Periodo 2012-2014\",\"text_font_size\":{\"value\":\"15pt\"}},\"id\":\"1294\",\"type\":\"Title\"},{\"attributes\":{},\"id\":\"1318\",\"type\":\"ResetTool\"},{\"attributes\":{\"fill_color\":{\"value\":\"#1f77b4\"},\"line_color\":{\"value\":\"#1f77b4\"},\"top\":{\"field\":\"top\"},\"width\":{\"value\":0.3},\"x\":{\"field\":\"x\"}},\"id\":\"1330\",\"type\":\"VBar\"},{\"attributes\":{},\"id\":\"1317\",\"type\":\"SaveTool\"}],\"root_ids\":[\"1295\"]},\"title\":\"Bokeh Application\",\"version\":\"1.0.4\"}};\n",
       "  var render_items = [{\"docid\":\"ebb48f7a-13b2-4db7-8cad-109a72be969e\",\"roots\":{\"1295\":\"3b24f86b-b4ac-45d1-8471-577961fe86a5\"}}];\n",
       "  root.Bokeh.embed.embed_items_notebook(docs_json, render_items);\n",
       "\n",
       "  }\n",
       "  if (root.Bokeh !== undefined) {\n",
       "    embed_document(root);\n",
       "  } else {\n",
       "    var attempts = 0;\n",
       "    var timer = setInterval(function(root) {\n",
       "      if (root.Bokeh !== undefined) {\n",
       "        embed_document(root);\n",
       "        clearInterval(timer);\n",
       "      }\n",
       "      attempts++;\n",
       "      if (attempts > 100) {\n",
       "        console.log(\"Bokeh: ERROR: Unable to run BokehJS code because BokehJS library is missing\");\n",
       "        clearInterval(timer);\n",
       "      }\n",
       "    }, 10, root)\n",
       "  }\n",
       "})(window);"
      ],
      "application/vnd.bokehjs_exec.v0+json": ""
     },
     "metadata": {
      "application/vnd.bokehjs_exec.v0+json": {
       "id": "1295"
      }
     },
     "output_type": "display_data"
    }
   ],
   "source": [
    "plot3 = figure(x_range=uniq, title=\"Sismos por Ciudad Periodo 2012-2014\")\n",
    "plot3.title.text_font_size = '15pt'\n",
    "plot3.xaxis.major_label_text_font_size='12pt'\n",
    "plot3.xaxis.major_label_orientation = 1.2\n",
    "plot3.vbar(x=uniq, width=0.3, top=cnts)\n",
    "show(plot3)"
   ]
  },
  {
   "cell_type": "code",
   "execution_count": 7,
   "metadata": {},
   "outputs": [
    {
     "data": {
      "text/plain": [
       "array([ 1,  3,  7,  3, 16,  1,  7, 21,  1, 11,  2,  1,  6,  1,  1,  2,  4,\n",
       "        3,  2,  4,  7,  5,  1,  4,  6,  3,  1,  3, 16])"
      ]
     },
     "execution_count": 7,
     "metadata": {},
     "output_type": "execute_result"
    }
   ],
   "source": [
    "provincia, frecuencia = np.unique(nuevo['pprovincia'], return_counts=1)\n",
    "frecuencia"
   ]
  },
  {
   "cell_type": "code",
   "execution_count": 8,
   "metadata": {},
   "outputs": [
    {
     "data": {
      "text/html": [
       "\n",
       "\n",
       "\n",
       "\n",
       "\n",
       "\n",
       "  <div class=\"bk-root\" id=\"7c457260-a65b-43f8-b49f-5cb0b5505be7\" data-root-id=\"1418\"></div>\n"
      ]
     },
     "metadata": {},
     "output_type": "display_data"
    },
    {
     "data": {
      "application/javascript": [
       "(function(root) {\n",
       "  function embed_document(root) {\n",
       "    \n",
       "  var docs_json = {\"6ff5db43-8bdc-4127-82a8-270f16eb98d6\":{\"roots\":{\"references\":[{\"attributes\":{\"below\":[{\"id\":\"1428\",\"type\":\"CategoricalAxis\"}],\"left\":[{\"id\":\"1432\",\"type\":\"LinearAxis\"}],\"renderers\":[{\"id\":\"1428\",\"type\":\"CategoricalAxis\"},{\"id\":\"1431\",\"type\":\"Grid\"},{\"id\":\"1432\",\"type\":\"LinearAxis\"},{\"id\":\"1436\",\"type\":\"Grid\"},{\"id\":\"1445\",\"type\":\"BoxAnnotation\"},{\"id\":\"1455\",\"type\":\"GlyphRenderer\"}],\"title\":{\"id\":\"1417\",\"type\":\"Title\"},\"toolbar\":{\"id\":\"1443\",\"type\":\"Toolbar\"},\"x_range\":{\"id\":\"1420\",\"type\":\"FactorRange\"},\"x_scale\":{\"id\":\"1424\",\"type\":\"CategoricalScale\"},\"y_range\":{\"id\":\"1422\",\"type\":\"DataRange1d\"},\"y_scale\":{\"id\":\"1426\",\"type\":\"LinearScale\"}},\"id\":\"1418\",\"subtype\":\"Figure\",\"type\":\"Plot\"},{\"attributes\":{\"source\":{\"id\":\"1452\",\"type\":\"ColumnDataSource\"}},\"id\":\"1456\",\"type\":\"CDSView\"},{\"attributes\":{},\"id\":\"1496\",\"type\":\"BasicTickFormatter\"},{\"attributes\":{},\"id\":\"1499\",\"type\":\"Selection\"},{\"attributes\":{\"plot\":null,\"text\":\"Sismos por Provincia Periodo 2012-2014\",\"text_font_size\":{\"value\":\"15pt\"}},\"id\":\"1417\",\"type\":\"Title\"},{\"attributes\":{\"callback\":null,\"factors\":[\"Amazonas\",\"Azuay\",\"El Oro\",\"Esmeraldas Province\",\"Guayas\",\"Loreto\",\"Los R\\u00a1os\",\"Manab\\u00a1\",\"Manab\\u00a1 Province\",\"Morona-Santiago Province\",\"Narino\",\"Orellana Province\",\"Pastaza Province\",\"Pichincha\",\"Provincia de Bol\\u00a1var\",\"Provincia de Carchi\",\"Provincia de Ca\\u00a4ar\",\"Provincia de Chimborazo\",\"Provincia de Cotopaxi\",\"Provincia de Esmeraldas\",\"Provincia de Morona Santiago\",\"Provincia de Napo\",\"Provincia de Orellana\",\"Provincia de Pastaza\",\"Provincia de Santa Elena\",\"Provincia de Sucumb\\u00a1os\",\"Provincia de Zamora Chinchipe\",\"Tungurahua\",\"s.d\"]},\"id\":\"1420\",\"type\":\"FactorRange\"},{\"attributes\":{\"callback\":null},\"id\":\"1422\",\"type\":\"DataRange1d\"},{\"attributes\":{},\"id\":\"1424\",\"type\":\"CategoricalScale\"},{\"attributes\":{},\"id\":\"1426\",\"type\":\"LinearScale\"},{\"attributes\":{},\"id\":\"1429\",\"type\":\"CategoricalTicker\"},{\"attributes\":{\"formatter\":{\"id\":\"1494\",\"type\":\"CategoricalTickFormatter\"},\"major_label_orientation\":1.2,\"major_label_text_font_size\":{\"value\":\"12pt\"},\"plot\":{\"id\":\"1418\",\"subtype\":\"Figure\",\"type\":\"Plot\"},\"ticker\":{\"id\":\"1429\",\"type\":\"CategoricalTicker\"}},\"id\":\"1428\",\"type\":\"CategoricalAxis\"},{\"attributes\":{\"plot\":{\"id\":\"1418\",\"subtype\":\"Figure\",\"type\":\"Plot\"},\"ticker\":{\"id\":\"1429\",\"type\":\"CategoricalTicker\"}},\"id\":\"1431\",\"type\":\"Grid\"},{\"attributes\":{\"formatter\":{\"id\":\"1496\",\"type\":\"BasicTickFormatter\"},\"plot\":{\"id\":\"1418\",\"subtype\":\"Figure\",\"type\":\"Plot\"},\"ticker\":{\"id\":\"1433\",\"type\":\"BasicTicker\"}},\"id\":\"1432\",\"type\":\"LinearAxis\"},{\"attributes\":{\"dimension\":1,\"plot\":{\"id\":\"1418\",\"subtype\":\"Figure\",\"type\":\"Plot\"},\"ticker\":{\"id\":\"1433\",\"type\":\"BasicTicker\"}},\"id\":\"1436\",\"type\":\"Grid\"},{\"attributes\":{},\"id\":\"1433\",\"type\":\"BasicTicker\"},{\"attributes\":{\"fill_color\":{\"value\":\"#1f77b4\"},\"line_color\":{\"value\":\"#1f77b4\"},\"top\":{\"field\":\"top\"},\"width\":{\"value\":0.3},\"x\":{\"field\":\"x\"}},\"id\":\"1453\",\"type\":\"VBar\"},{\"attributes\":{\"callback\":null,\"data\":{\"top\":{\"__ndarray__\":\"AQAAAAMAAAAHAAAAAwAAABAAAAABAAAABwAAABUAAAABAAAACwAAAAIAAAABAAAABgAAAAEAAAABAAAAAgAAAAQAAAADAAAAAgAAAAQAAAAHAAAABQAAAAEAAAAEAAAABgAAAAMAAAABAAAAAwAAABAAAAA=\",\"dtype\":\"int32\",\"shape\":[29]},\"x\":[\"Amazonas\",\"Azuay\",\"El Oro\",\"Esmeraldas Province\",\"Guayas\",\"Loreto\",\"Los R\\u00a1os\",\"Manab\\u00a1\",\"Manab\\u00a1 Province\",\"Morona-Santiago Province\",\"Narino\",\"Orellana Province\",\"Pastaza Province\",\"Pichincha\",\"Provincia de Bol\\u00a1var\",\"Provincia de Carchi\",\"Provincia de Ca\\u00a4ar\",\"Provincia de Chimborazo\",\"Provincia de Cotopaxi\",\"Provincia de Esmeraldas\",\"Provincia de Morona Santiago\",\"Provincia de Napo\",\"Provincia de Orellana\",\"Provincia de Pastaza\",\"Provincia de Santa Elena\",\"Provincia de Sucumb\\u00a1os\",\"Provincia de Zamora Chinchipe\",\"Tungurahua\",\"s.d\"]},\"selected\":{\"id\":\"1499\",\"type\":\"Selection\"},\"selection_policy\":{\"id\":\"1498\",\"type\":\"UnionRenderers\"}},\"id\":\"1452\",\"type\":\"ColumnDataSource\"},{\"attributes\":{\"fill_alpha\":{\"value\":0.1},\"fill_color\":{\"value\":\"#1f77b4\"},\"line_alpha\":{\"value\":0.1},\"line_color\":{\"value\":\"#1f77b4\"},\"top\":{\"field\":\"top\"},\"width\":{\"value\":0.3},\"x\":{\"field\":\"x\"}},\"id\":\"1454\",\"type\":\"VBar\"},{\"attributes\":{\"active_drag\":\"auto\",\"active_inspect\":\"auto\",\"active_multi\":null,\"active_scroll\":\"auto\",\"active_tap\":\"auto\",\"tools\":[{\"id\":\"1437\",\"type\":\"PanTool\"},{\"id\":\"1438\",\"type\":\"WheelZoomTool\"},{\"id\":\"1439\",\"type\":\"BoxZoomTool\"},{\"id\":\"1440\",\"type\":\"SaveTool\"},{\"id\":\"1441\",\"type\":\"ResetTool\"},{\"id\":\"1442\",\"type\":\"HelpTool\"}]},\"id\":\"1443\",\"type\":\"Toolbar\"},{\"attributes\":{},\"id\":\"1437\",\"type\":\"PanTool\"},{\"attributes\":{},\"id\":\"1498\",\"type\":\"UnionRenderers\"},{\"attributes\":{},\"id\":\"1438\",\"type\":\"WheelZoomTool\"},{\"attributes\":{\"overlay\":{\"id\":\"1445\",\"type\":\"BoxAnnotation\"}},\"id\":\"1439\",\"type\":\"BoxZoomTool\"},{\"attributes\":{},\"id\":\"1440\",\"type\":\"SaveTool\"},{\"attributes\":{},\"id\":\"1441\",\"type\":\"ResetTool\"},{\"attributes\":{},\"id\":\"1442\",\"type\":\"HelpTool\"},{\"attributes\":{\"bottom_units\":\"screen\",\"fill_alpha\":{\"value\":0.5},\"fill_color\":{\"value\":\"lightgrey\"},\"left_units\":\"screen\",\"level\":\"overlay\",\"line_alpha\":{\"value\":1.0},\"line_color\":{\"value\":\"black\"},\"line_dash\":[4,4],\"line_width\":{\"value\":2},\"plot\":null,\"render_mode\":\"css\",\"right_units\":\"screen\",\"top_units\":\"screen\"},\"id\":\"1445\",\"type\":\"BoxAnnotation\"},{\"attributes\":{},\"id\":\"1494\",\"type\":\"CategoricalTickFormatter\"},{\"attributes\":{\"data_source\":{\"id\":\"1452\",\"type\":\"ColumnDataSource\"},\"glyph\":{\"id\":\"1453\",\"type\":\"VBar\"},\"hover_glyph\":null,\"muted_glyph\":null,\"nonselection_glyph\":{\"id\":\"1454\",\"type\":\"VBar\"},\"selection_glyph\":null,\"view\":{\"id\":\"1456\",\"type\":\"CDSView\"}},\"id\":\"1455\",\"type\":\"GlyphRenderer\"}],\"root_ids\":[\"1418\"]},\"title\":\"Bokeh Application\",\"version\":\"1.0.4\"}};\n",
       "  var render_items = [{\"docid\":\"6ff5db43-8bdc-4127-82a8-270f16eb98d6\",\"roots\":{\"1418\":\"7c457260-a65b-43f8-b49f-5cb0b5505be7\"}}];\n",
       "  root.Bokeh.embed.embed_items_notebook(docs_json, render_items);\n",
       "\n",
       "  }\n",
       "  if (root.Bokeh !== undefined) {\n",
       "    embed_document(root);\n",
       "  } else {\n",
       "    var attempts = 0;\n",
       "    var timer = setInterval(function(root) {\n",
       "      if (root.Bokeh !== undefined) {\n",
       "        embed_document(root);\n",
       "        clearInterval(timer);\n",
       "      }\n",
       "      attempts++;\n",
       "      if (attempts > 100) {\n",
       "        console.log(\"Bokeh: ERROR: Unable to run BokehJS code because BokehJS library is missing\");\n",
       "        clearInterval(timer);\n",
       "      }\n",
       "    }, 10, root)\n",
       "  }\n",
       "})(window);"
      ],
      "application/vnd.bokehjs_exec.v0+json": ""
     },
     "metadata": {
      "application/vnd.bokehjs_exec.v0+json": {
       "id": "1418"
      }
     },
     "output_type": "display_data"
    }
   ],
   "source": [
    "plot4 = figure(x_range=provincia, title='Sismos por Provincia Periodo 2012-2014')\n",
    "plot4.title.text_font_size = '15pt'\n",
    "plot4.xaxis.major_label_text_font_size = '12pt'\n",
    "plot4.xaxis.major_label_orientation = 1.2\n",
    "plot4.vbar(x=provincia, width=0.3, top=frecuencia)\n",
    "show(plot4)"
   ]
  },
  {
   "cell_type": "code",
   "execution_count": 9,
   "metadata": {},
   "outputs": [
    {
     "data": {
      "text/html": [
       "\n",
       "\n",
       "\n",
       "\n",
       "\n",
       "\n",
       "  <div class=\"bk-root\" id=\"4743dd30-804f-4d6c-98b9-03eba8064217\" data-root-id=\"1549\"></div>\n"
      ]
     },
     "metadata": {},
     "output_type": "display_data"
    },
    {
     "data": {
      "application/javascript": [
       "(function(root) {\n",
       "  function embed_document(root) {\n",
       "    \n",
       "  var docs_json = {\"fab2a336-b4b3-4d9d-915e-24be8d61a848\":{\"roots\":{\"references\":[{\"attributes\":{\"below\":[{\"id\":\"1559\",\"type\":\"DatetimeAxis\"}],\"left\":[{\"id\":\"1564\",\"type\":\"LinearAxis\"}],\"plot_width\":1200,\"renderers\":[{\"id\":\"1559\",\"type\":\"DatetimeAxis\"},{\"id\":\"1563\",\"type\":\"Grid\"},{\"id\":\"1564\",\"type\":\"LinearAxis\"},{\"id\":\"1568\",\"type\":\"Grid\"},{\"id\":\"1577\",\"type\":\"BoxAnnotation\"},{\"id\":\"1589\",\"type\":\"GlyphRenderer\"}],\"title\":{\"id\":\"1548\",\"type\":\"Title\"},\"toolbar\":{\"id\":\"1575\",\"type\":\"Toolbar\"},\"x_range\":{\"id\":\"1551\",\"type\":\"DataRange1d\"},\"x_scale\":{\"id\":\"1555\",\"type\":\"LinearScale\"},\"y_range\":{\"id\":\"1553\",\"type\":\"DataRange1d\"},\"y_scale\":{\"id\":\"1557\",\"type\":\"LinearScale\"}},\"id\":\"1549\",\"subtype\":\"Figure\",\"type\":\"Plot\"},{\"attributes\":{\"days\":[1,15]},\"id\":\"1645\",\"type\":\"DaysTicker\"},{\"attributes\":{},\"id\":\"1652\",\"type\":\"Selection\"},{\"attributes\":{},\"id\":\"1650\",\"type\":\"YearsTicker\"},{\"attributes\":{\"plot\":{\"id\":\"1549\",\"subtype\":\"Figure\",\"type\":\"Plot\"},\"ticker\":{\"id\":\"1560\",\"type\":\"DatetimeTicker\"}},\"id\":\"1563\",\"type\":\"Grid\"},{\"attributes\":{\"months\":[0,6]},\"id\":\"1649\",\"type\":\"MonthsTicker\"},{\"attributes\":{\"axis_label\":\"Fecha\",\"formatter\":{\"id\":\"1584\",\"type\":\"DatetimeTickFormatter\"},\"plot\":{\"id\":\"1549\",\"subtype\":\"Figure\",\"type\":\"Plot\"},\"ticker\":{\"id\":\"1560\",\"type\":\"DatetimeTicker\"}},\"id\":\"1559\",\"type\":\"DatetimeAxis\"},{\"attributes\":{},\"id\":\"1569\",\"type\":\"PanTool\"},{\"attributes\":{\"months\":[0,4,8]},\"id\":\"1648\",\"type\":\"MonthsTicker\"},{\"attributes\":{\"overlay\":{\"id\":\"1577\",\"type\":\"BoxAnnotation\"}},\"id\":\"1571\",\"type\":\"BoxZoomTool\"},{\"attributes\":{},\"id\":\"1570\",\"type\":\"WheelZoomTool\"},{\"attributes\":{\"active_drag\":\"auto\",\"active_inspect\":\"auto\",\"active_multi\":null,\"active_scroll\":\"auto\",\"active_tap\":\"auto\",\"tools\":[{\"id\":\"1569\",\"type\":\"PanTool\"},{\"id\":\"1570\",\"type\":\"WheelZoomTool\"},{\"id\":\"1571\",\"type\":\"BoxZoomTool\"},{\"id\":\"1572\",\"type\":\"SaveTool\"},{\"id\":\"1573\",\"type\":\"ResetTool\"},{\"id\":\"1574\",\"type\":\"HelpTool\"}]},\"id\":\"1575\",\"type\":\"Toolbar\"},{\"attributes\":{},\"id\":\"1637\",\"type\":\"BasicTickFormatter\"},{\"attributes\":{\"data_source\":{\"id\":\"1001\",\"type\":\"ColumnDataSource\"},\"glyph\":{\"id\":\"1587\",\"type\":\"Circle\"},\"hover_glyph\":null,\"muted_glyph\":null,\"nonselection_glyph\":{\"id\":\"1588\",\"type\":\"Circle\"},\"selection_glyph\":null,\"view\":{\"id\":\"1590\",\"type\":\"CDSView\"}},\"id\":\"1589\",\"type\":\"GlyphRenderer\"},{\"attributes\":{},\"id\":\"1574\",\"type\":\"HelpTool\"},{\"attributes\":{\"fill_alpha\":{\"value\":0.1},\"fill_color\":{\"value\":\"#1f77b4\"},\"line_alpha\":{\"value\":0.1},\"line_color\":{\"value\":\"#1f77b4\"},\"x\":{\"field\":\"fecha\"},\"y\":{\"field\":\"duracion\"}},\"id\":\"1588\",\"type\":\"Circle\"},{\"attributes\":{\"dimension\":1,\"plot\":{\"id\":\"1549\",\"subtype\":\"Figure\",\"type\":\"Plot\"},\"ticker\":{\"id\":\"1565\",\"type\":\"BasicTicker\"}},\"id\":\"1568\",\"type\":\"Grid\"},{\"attributes\":{},\"id\":\"1573\",\"type\":\"ResetTool\"},{\"attributes\":{\"months\":[\"%B/%Y\"]},\"id\":\"1584\",\"type\":\"DatetimeTickFormatter\"},{\"attributes\":{},\"id\":\"1572\",\"type\":\"SaveTool\"},{\"attributes\":{\"callback\":null},\"id\":\"1551\",\"type\":\"DataRange1d\"},{\"attributes\":{\"mantissas\":[1,2,5],\"max_interval\":500.0,\"num_minor_ticks\":0},\"id\":\"1639\",\"type\":\"AdaptiveTicker\"},{\"attributes\":{\"callback\":null,\"data\":{\"Tiempo\":[\"6/1/2012 12:20\",\"10/1/2012 18:07\",\"10/1/2012 20:54\",\"15/01/2012 8:22:50\",\"7/2/2012 4:55\",\"8/2/2012 10:54\",\"9/2/2012 8:02\",\"20/02/2012 12:44:47\",\"1/3/2012 3:09\",\"7/3/2012 2:59\",\"28/03/2012 16:47:29\",\"29/03/2012 11:04:03\",\"1/4/2012 15:41\",\"18/04/2012 18:34:18\",\"30/04/2012 17:22:34\",\"13/05/2012 14:28:21\",\"14/05/2012 21:39:45\",\"20/05/2012 8:47:07\",\"8/6/2012 20:22\",\"18/06/2012 13:34:46\",\"22/06/2012 3:22:14\",\"3/7/2012 6:13\",\"3/7/2012 21:58\",\"7/7/2012 10:08\",\"10/7/2012 15:21\",\"15/07/2012 6:51:23\",\"22/07/2012 1:27:46\",\"24/07/2012 1:33:00\",\"30/07/2012 5:19:44\",\"9/8/2012 10:52\",\"13/08/2012 4:49:07\",\"13/08/2012 6:02:45\",\"17/08/2012 1:24:10\",\"24/08/2012 16:08:29\",\"1/9/2012 9:42\",\"2/9/2012 19:41\",\"4/9/2012 18:13\",\"17/01/2013 13:12:41\",\"21/01/2013 11:10:18\",\"6/2/2013 8:04\",\"11/2/2013 10:23\",\"12/2/2013 4:03\",\"9/3/2013 0:55\",\"11/3/2013 17:10\",\"10/4/2013 0:52\",\"10/4/2013 10:21\",\"7/5/2013 20:23\",\"8/5/2013 8:03\",\"12/5/2013 13:14\",\"14/05/2013 6:10:26\",\"29/05/2013 5:46:30\",\"12/6/2013 19:58\",\"13/06/2013 18:08:37\",\"15/06/2013 14:43:32\",\"20/06/2013 8:49:22\",\"1/7/2013 6:01\",\"5/7/2013 18:04\",\"8/7/2013 0:17\",\"12/7/2013 12:37\",\"27/07/2013 21:42:40\",\"2/8/2013 21:29\",\"25/08/2013 20:42:07\",\"28/08/2013 17:45:34\",\"17/09/2013 23:03:53\",\"18/09/2013 11:51:49\",\"24/09/2013 18:33:39\",\"3/10/2013 7:59\",\"6/10/2013 17:58\",\"11/10/2013 17:39\",\"15/10/2013 3:00:27\",\"16/10/2013 10:24:44\",\"31/10/2013 6:05:08\",\"9/11/2013 17:29\",\"20/11/2013 2:11:50\",\"21/11/2013 3:41:05\",\"25/11/2013 19:42:58\",\"30/11/2013 16:38:53\",\"30/11/2013 19:31:06\",\"16/12/2013 0:44:49\",\"2/11/2013 20:02\",\"16/11/2013 7:42:01\",\"17/12/2013 11:56:15\",\"30/01/2013 8:08:12\",\"5/3/2013 22:59\",\"26/03/2013 2:58:56\",\"30/03/2013 10:34:50\",\"5/4/2013 2:37\",\"5/4/2013 7:22\",\"14/04/2013 6:16:26\",\"23/04/2013 11:39:09\",\"24/05/2013 5:42:04\",\"28/05/2013 14:33:39\",\"10/7/2013 3:12\",\"19/07/2013 15:03:25\",\"22/07/2013 21:37:11\",\"22/08/2013 2:09:16\",\"28/08/2013 17:00:57\",\"4/9/2013 3:08\",\"14/09/2013 17:00:08\",\"7/10/2013 16:41\",\"20/01/2013 6:56:25\",\"3/3/2013 6:39\",\"5/4/2013 2:19\",\"18/04/2013 5:10:32\",\"27/04/2013 11:18:40\",\"29/04/2013 2:32:50\",\"17/06/2013 16:00:44\",\"18/06/2013 6:43:06\",\"19/06/2013 3:10:33\",\"24/06/2013 11:52:04\",\"9/7/2013 2:59\",\"21/07/2013 9:43:59\",\"11/8/2013 22:50\",\"30/08/2013 17:47:45\",\"10/9/2013 22:48\",\"16/10/2013 8:42:15\",\"18/10/2013 3:16:56\",\"28/11/2013 6:21:03\",\"14/12/2013 4:28:51\",\"15/12/2013 19:20:42\",\"20/12/2013 10:37:37\",\"27/08/2013 12:22:27\",\"6/9/2013 16:24\",\"23/09/2013 7:55:52\",\"16/10/2013 7:00:16\",\"27/10/2013 11:04:58\",\"6/11/2013 20:34\",\"8/11/2013 10:17\",\"5/12/2013 19:42\",\"12/5/2013 19:06\",\"14/05/2013 13:16:35\",\"16/05/2013 5:58:53\",\"17/05/2013 7:46:57\",\"13/06/2013 20:40:08\",\"23/06/2013 20:14:11\",\"11/7/2013 23:08\",\"2/8/2013 9:11\",\"11/8/2013 12:54\",\"20/02/2013 3:17:26\",\"23/02/2013 13:17:52\",\"24/02/2013 8:59:59\",\"27/02/2013 15:56:09\",\"15/03/2013 12:04:26\"],\"ciudad\":[\"NaN\",\"Ca\\u00a4itas\",\"NaN\",\"NaN\",\"NaN\",\"NaN\",\"NaN\",\"NaN\",\"NaN\",\"NaN\",\"NaN\",\"NaN\",\"NaN\",\"Flavio Alfaro\",\"NaN\",\"NaN\",\"Valencia\",\"NaN\",\"NaN\",\"NaN\",\"NaN\",\"NaN\",\"Manta\",\"NaN\",\"NaN\",\"Palora\",\"NaN\",\"NaN\",\"NaN\",\"NaN\",\"NaN\",\"NaN\",\"NaN\",\"NaN\",\"NaN\",\"Jauneche\",\"NaN\",\"Santa Rosa\",\"NaN\",\"NaN\",\"NaN\",\"NaN\",\"Salinas\",\"NaN\",\"Delia\",\"Guayaquil\",\"NaN\",\"NaN\",\"NaN\",\"NaN\",\"NaN\",\"Salinas\",\"NaN\",\"NaN\",\"NaN\",\"NaN\",\"NaN\",\"NaN\",\"NaN\",\"28 de mayo\",\"NaN\",\"NaN\",\"NaN\",\"NaN\",\"NaN\",\"NaN\",\"NaN\",\"V\\u00a1nces\",\"NaN\",\"NaN\",\"NaN\",\"NaN\",\"NaN\",\"NaN\",\"NaN\",\"NaN\",\"NaN\",\"NaN\",\"NaN\",\"NaN\",\"NaN\",\"NaN\",\"NaN\",\"NaN\",\"NaN\",\"NaN\",\"NaN\",\"NaN\",\"NaN\",\"NaN\",\"NaN\",\"NaN\",\"NaN\",\"NaN\",\"NaN\",\"NaN\",\"NaN\",\"NaN\",\"NaN\",\"NaN\",\"El Real\",\"Manta\",\"NaN\",\"NaN\",\"San Fernando\",\"NaN\",\"Manantiales\",\"NaN\",\"GUAP\\u00b5N\",\"NaN\",\"NaN\",\"NaN\",\"NaN\",\"NaN\",\"NaN\",\"NaN\",\"NaN\",\"NaN\",\"NaN\",\"NaN\",\"NaN\",\"NaN\",\"NaN\",\"Palora\",\"NaN\",\"NaN\",\"NaN\",\"NaN\",\"NaN\",\"NaN\",\"Puyo\",\"Pi\\u00a4as\",\"NaN\",\"NaN\",\"NaN\",\"NaN\",\"Sim\\u00a2n Bol\\u00a1var\",\"NaN\",\"NaN\",\"NaN\",\"NaN\",\"NaN\",\"NaN\"],\"depth_value\":{\"__ndarray__\":\"Z7RVSWSnKUCK6q2BrWITQPka3ZyllxRAAAAAAAAAKEAAAAAAAAAoQDNdmQF4XRNADamieJXBOUAAAAAAAAAoQAAAAAAAAChAAAAAAAAALECCpBUAX/UiQMjQsYNKKkVAAAAAAAAALEBKKH0h5Jw4QAAAAAAAAChAAAAAAAAAKEDCogFAvg5XQAAAAAAAAChAAAAAAAAAKEBJjRpd75gUQAAAAAAAAChAMvFYfb/6HUAS9YJPc+IqQAAAAAAAAChAaw97oYC3SEBhN2xblFJmQAAAAAAAAChAAAAAAAAAKEAAAAAAAAAkQAAAAAAAAChAAAAAAAAAKEAAAAAAAAAkQLTREMCTPwFAAAAAAAAAHEDx8yGgqS4jQKvEAoCfHVFAAAAAAAAAKEAAAAAAAAAkQAAAAAAAACRAAAAAAAAAJECpN/6fHtFWQAAAAAAAAChA23sjgLxjJEBAv+/fvF4qQAAAAAAAwFNAVmIBwG+gPUBIDwkAik1GQAAAAAAAADlA6KMIgFyjPkAvZQkAyAAyQAAAAAAAABRAiObw/5kLWUAAAAAAAIBBQLaK9l8EE0lAMq8CAPBgNkC39AWAbG00QG0V7b8IhSBAAAAAAAAAJEAAAAAAAAAkQGl4DsDh4VpAHbX8n0cQRUBIDwkACl0kQNxMAUDAfVBAAAAAAAAAOEAAAAAAAAA0QAAAAAAAACRAAAAAAAAAFEALBfA/x9E5QFUQ6r9aWxJAPHX231Qka0B2Zqtgjl35Pw7/RMB8zRZAAAAAAAAAEECwiOW/1XwQQP8sr7+Z9hpAAAAAAACAQ0CLhhCATbo1QJtP4/8KiBlAAAAAAAAAJEAC4Onf/1NmQAAAAAAAABRAcbH9v0UGF0AAAAAAAAAkQH9uBaCTK0hAAAAAAAAAKEAu+/nf32U1QAAAAAAAABxAAAAAAAAAJEBAqwZAYIRNQN6yAeDxMTxAEEvav3inDEAAAAAAAAAkQAAAAAAAACRAUq74n19GREAAAAAAAAAkQAAAAAAAACRADiWkf5MHFECukAPAQjRCQIr1/B/WM1VARHP4/8z5O0AAAAAAAAAkQJqS7t+j5SVAAAAAAAAAHEAAAAAAAAAQQNfz+x9csEJAG9EDQNETVEDsgiRgMj0rQHju+z+gYFNAQWj7X4e/UEBJYu7/iMUlQAAAAAAAAChA+Bn2/5qBBEAAAAAAAAAkQAAAAAAAACRA8OAGADeGQkAAAAAAAAAkQGcSDiDwqhJAku/vv9cnO0CEXfufz+NWQEdqDAB2oCVAAAAAAAAAJEAAAAAAAAAkQJnV+b+8gEZA1Gb3PxtKYkAAAAAAAAAkQGfn+l9qZFZAAAAAAAAAJECtaf9/c1hPQBLvCMCi3kVAAAAAAAAAPkA+SRUg5WlmQAAAAAAAAChAAAAAAAAAFECEMujfiVNcQAAAAAAAACRAAAAAAAAAJEBktfl/1eNDQNCL6t+7PT1Al7IEAORRRkAAAAAAAAAoQAAAAAAAAChAtl/jnz4EXEAAAAAAAAAkQA==\",\"dtype\":\"float64\",\"shape\":[143]},\"direccion\":{\"__ndarray__\":\"AAAAAAAA+H8AAAAAAAD4fwAAAAAAAPh/AAAAAAAA+H8AAAAAAAD4fwAAAAAAAPh/AAAAAAAA+H8AAAAAAAD4fwAAAAAAAPh/AAAAAAAA+H8AAAAAAAD4fwAAAAAAAPh/AAAAAAAA+H8AAAAAAAD4fwAAAAAAAPh/AAAAAAAA+H8AAAAAAAD4fwAAAAAAAPh/AAAAAAAA+H8AAAAAAAD4fwAAAAAAAPh/AAAAAAAA+H8AAAAAAAD4fwAAAAAAAPh/AAAAAAAA+H8AAAAAAAD4fwAAAAAAAPh/AAAAAAAA+H8AAAAAAAD4fwAAAAAAAPh/AAAAAAAA+H8AAAAAAAD4fwAAAAAAAPh/AAAAAAAA+H8AAAAAAAD4fwAAAAAAAPh/AAAAAAAA+H8AAAAAAAD4fwAAAAAAAPh/AAAAAAAA+H8AAAAAAAD4fwAAAAAAAPh/AAAAAAAA+H8AAAAAAAD4fwAAAAAAAPh/AAAAAAAA+H8AAAAAAAD4fwAAAAAAAPh/AAAAAAAA+H8AAAAAAAD4fwAAAAAAAPh/AAAAAAAA+H8AAAAAAAD4fwAAAAAAAPh/AAAAAAAA+H8AAAAAAAD4fwAAAAAAAPh/AAAAAAAA+H8AAAAAAAD4fwAAAAAAAPh/AAAAAAAA+H8AAAAAAAD4fwAAAAAAAPh/AAAAAAAA+H8AAAAAAAD4fwAAAAAAAPh/AAAAAAAA+H8AAAAAAAD4fwAAAAAAAPh/AAAAAAAA+H8AAAAAAAD4fwAAAAAAAPh/AAAAAAAA+H8AAAAAAAD4fwAAAAAAAPh/AAAAAAAA+H8AAAAAAAD4fwAAAAAAAPh/AAAAAAAA+H8AAAAAAAD4fwAAAAAAAPh/AAAAAAAA+H8AAAAAAAD4fwAAAAAAAPh/AAAAAAAA+H8AAAAAAAD4fwAAAAAAAPh/AAAAAAAA+H8AAAAAAAD4fwAAAAAAAPh/AAAAAAAA+H8AAAAAAAD4fwAAAAAAAPh/AAAAAAAA+H8AAAAAAAD4fwAAAAAAAPh/AAAAAAAA+H8AAAAAAAD4fwAAAAAAAPh/AAAAAAAA+H8AAAAAAAD4fwAAAAAAAPh/AAAAAAAA+H8AAAAAAAD4fwAAAAAAAPh/AAAAAAAA+H8AAAAAAAD4fwAAAAAAAPh/AAAAAAAA+H8AAAAAAAD4fwAAAAAAAPh/AAAAAAAA+H8AAAAAAAD4fwAAAAAAAPh/AAAAAAAA+H8AAAAAAAD4fwAAAAAAAPh/AAAAAAAA+H8AAAAAAAD4fwAAAAAAAPh/AAAAAAAA+H8AAAAAAAD4fwAAAAAAAPh/AAAAAAAA+H8AAAAAAAD4fwAAAAAAAPh/AAAAAAAA+H8AAAAAAAD4fwAAAAAAAPh/AAAAAAAA+H8AAAAAAAD4fwAAAAAAAPh/AAAAAAAA+H8AAAAAAAD4fwAAAAAAAPh/AAAAAAAA+H8AAAAAAAD4fwAAAAAAAPh/AAAAAAAA+H8AAAAAAAD4fwAAAAAAAPh/AAAAAAAA+H8AAAAAAAD4fw==\",\"dtype\":\"float64\",\"shape\":[143]},\"duracion\":[455264,70425,297652,145672,573280,948848,370276,981010,760745,574973,258515,613406,926611,229478,783270,436880,75774,646686,574207,359507,349550,125540,878536,286115,884757,341469,367560,862150,115016,576789,505007,320985,706212,208556,673465,412180,495493,202676,228231,737137,805757,515408,45849,152341,800211,315427,296519,837507,92516,270572,725975,298655,263438,432945,247746,602817,28712,748576,791422,736423,221761,224793,380396,567806,268963,342168,404179,966728,622195,796531,499099,934495,340813,422105,37189,22676,226240,698887,59546,607496,947047,578632,746025,139105,574769,323010,643011,14360,659600,409998,100554,380012,926264,21149,126324,435926,106945,910650,981613,652303,303108,808007,68480,182159,607593,275816,725796,277444,42828,548609,730460,356460,126329,331695,58082,315966,695905,255387,82746,739685,596353,903505,655107,848872,863518,641765,746280,956024,988808,255985,50587,933291,597638,974434,10570,465333,69542,368160,162863,828135,95832,26098,462476],\"fecha\":[\"6/1/2012 12:20\",\"10/1/2012 18:07\",\"10/1/2012 20:54\",\"15/01/2012 8:22:50\",\"7/2/2012 4:55\",\"8/2/2012 10:54\",\"9/2/2012 8:02\",\"20/02/2012 12:44:47\",\"1/3/2012 3:09\",\"7/3/2012 2:59\",\"28/03/2012 16:47:29\",\"29/03/2012 11:04:03\",\"1/4/2012 15:41\",\"18/04/2012 18:34:18\",\"30/04/2012 17:22:34\",\"13/05/2012 14:28:21\",\"14/05/2012 21:39:45\",\"20/05/2012 8:47:07\",\"8/6/2012 20:22\",\"18/06/2012 13:34:46\",\"22/06/2012 3:22:14\",\"3/7/2012 6:13\",\"3/7/2012 21:58\",\"7/7/2012 10:08\",\"10/7/2012 15:21\",\"15/07/2012 6:51:23\",\"22/07/2012 1:27:46\",\"24/07/2012 1:33:00\",\"30/07/2012 5:19:44\",\"9/8/2012 10:52\",\"13/08/2012 4:49:07\",\"13/08/2012 6:02:45\",\"17/08/2012 1:24:10\",\"24/08/2012 16:08:29\",\"1/9/2012 9:42\",\"2/9/2012 19:41\",\"4/9/2012 18:13\",\"17/01/2013 13:12:41\",\"21/01/2013 11:10:18\",\"6/2/2013 8:04\",\"11/2/2013 10:23\",\"12/2/2013 4:03\",\"9/3/2013 0:55\",\"11/3/2013 17:10\",\"10/4/2013 0:52\",\"10/4/2013 10:21\",\"7/5/2013 20:23\",\"8/5/2013 8:03\",\"12/5/2013 13:14\",\"14/05/2013 6:10:26\",\"29/05/2013 5:46:30\",\"12/6/2013 19:58\",\"13/06/2013 18:08:37\",\"15/06/2013 14:43:32\",\"20/06/2013 8:49:22\",\"1/7/2013 6:01\",\"5/7/2013 18:04\",\"8/7/2013 0:17\",\"12/7/2013 12:37\",\"27/07/2013 21:42:40\",\"2/8/2013 21:29\",\"25/08/2013 20:42:07\",\"28/08/2013 17:45:34\",\"17/09/2013 23:03:53\",\"18/09/2013 11:51:49\",\"24/09/2013 18:33:39\",\"3/10/2013 7:59\",\"6/10/2013 17:58\",\"11/10/2013 17:39\",\"15/10/2013 3:00:27\",\"16/10/2013 10:24:44\",\"31/10/2013 6:05:08\",\"9/11/2013 17:29\",\"20/11/2013 2:11:50\",\"21/11/2013 3:41:05\",\"25/11/2013 19:42:58\",\"30/11/2013 16:38:53\",\"30/11/2013 19:31:06\",\"16/12/2013 0:44:49\",\"2/11/2013 20:02\",\"16/11/2013 7:42:01\",\"17/12/2013 11:56:15\",\"30/01/2013 8:08:12\",\"5/3/2013 22:59\",\"26/03/2013 2:58:56\",\"30/03/2013 10:34:50\",\"5/4/2013 2:37\",\"5/4/2013 7:22\",\"14/04/2013 6:16:26\",\"23/04/2013 11:39:09\",\"24/05/2013 5:42:04\",\"28/05/2013 14:33:39\",\"10/7/2013 3:12\",\"19/07/2013 15:03:25\",\"22/07/2013 21:37:11\",\"22/08/2013 2:09:16\",\"28/08/2013 17:00:57\",\"4/9/2013 3:08\",\"14/09/2013 17:00:08\",\"7/10/2013 16:41\",\"20/01/2013 6:56:25\",\"3/3/2013 6:39\",\"5/4/2013 2:19\",\"18/04/2013 5:10:32\",\"27/04/2013 11:18:40\",\"29/04/2013 2:32:50\",\"17/06/2013 16:00:44\",\"18/06/2013 6:43:06\",\"19/06/2013 3:10:33\",\"24/06/2013 11:52:04\",\"9/7/2013 2:59\",\"21/07/2013 9:43:59\",\"11/8/2013 22:50\",\"30/08/2013 17:47:45\",\"10/9/2013 22:48\",\"16/10/2013 8:42:15\",\"18/10/2013 3:16:56\",\"28/11/2013 6:21:03\",\"14/12/2013 4:28:51\",\"15/12/2013 19:20:42\",\"20/12/2013 10:37:37\",\"27/08/2013 12:22:27\",\"6/9/2013 16:24\",\"23/09/2013 7:55:52\",\"16/10/2013 7:00:16\",\"27/10/2013 11:04:58\",\"6/11/2013 20:34\",\"8/11/2013 10:17\",\"5/12/2013 19:42\",\"12/5/2013 19:06\",\"14/05/2013 13:16:35\",\"16/05/2013 5:58:53\",\"17/05/2013 7:46:57\",\"13/06/2013 20:40:08\",\"23/06/2013 20:14:11\",\"11/7/2013 23:08\",\"2/8/2013 9:11\",\"11/8/2013 12:54\",\"20/02/2013 3:17:26\",\"23/02/2013 13:17:52\",\"24/02/2013 8:59:59\",\"27/02/2013 15:56:09\",\"15/03/2013 12:04:26\"],\"id\":[1,2,3,4,5,6,7,8,9,10,11,12,13,14,15,16,17,18,20,21,22,23,24,25,26,27,28,29,30,31,32,33,34,35,36,37,38,39,40,41,42,43,44,45,46,47,49,50,51,52,53,54,55,56,57,58,59,60,61,62,63,64,65,66,67,68,69,70,71,72,73,74,75,76,77,78,79,80,81,85,86,87,88,90,91,92,93,94,95,96,97,98,99,100,101,102,103,104,105,106,108,109,110,111,112,113,114,115,116,117,118,119,120,121,122,123,124,126,128,129,130,131,132,133,135,136,137,138,139,140,141,142,143,144,145,146,147,148,149,150,151,152,153],\"index\":[0,1,2,3,4,5,6,7,8,9,10,11,12,13,14,15,16,17,18,19,20,21,22,23,24,25,26,27,28,29,30,31,32,33,34,35,36,37,38,39,40,41,42,43,44,45,46,47,48,49,50,51,52,53,54,55,56,57,58,59,60,61,62,63,64,65,66,67,68,69,70,71,72,73,74,75,76,77,78,79,80,81,82,83,84,85,86,87,88,89,90,91,92,93,94,95,96,97,98,99,100,101,102,103,104,105,106,107,108,109,110,111,112,113,114,115,116,117,118,119,120,121,122,123,124,125,126,127,128,129,130,131,132,133,134,135,136,137,138,139,140,141,142],\"latitud\":{\"__ndarray__\":\"R8bNHbsz6b90moGheabqv8N49ips5bs/uZy3ViC/+78kgzf/CvTtv5RR4d/S9+M/oq3vaIgv9L83XHkDq+7cP3YNRGD2PPG/9v71wH1z8b+QsBzf5kb0vzeBM0KJAOe/syHFIZcP7r9SxH0/kJfcv3SZmgRv6P+/0jqqmiCK8b9ETMtATH/uv91KZUCsbc+/PRjCe1ipBcDHzV/X5Qrxv638rt9+huI/VUfxnsHO4b/kb5QfZWLtvwy8ScJ0AALACzrGul2UAsCqlJ7pJUb7v3dkUX2M3vm/euDG2p191b8BfceVHx3/v1SUS+MX3v6/9dFvgBX39b9Wj6gOwYq9P18YXZwAXMw/kssDgWNJ4L8b519gkNP3v00pEsCLpvO/Yxsjn3hK2j/Ewt7+O8bxv7D30V+eJPm/nmeivhuh5D8eHMs/IwYDwDDhZcA4LP2/NqCU/38aA8AgK9dfny4CwPkDcWBqsgHAqSMVAMJTAsC1jJJfWMECwFMN0r5/dOG/7TzY/4y8C8BO5JNfUOgAwDLxWH2/YuU/3aPMQESO9r9NwkMgsAUIwH6vnf+JlwLA8E1XoKunDcBixsoeVznqvy3yRkFLMvK/JtTCG4ib1T+sL7cgAI0NwFsjo39ZHA3AmX1gvw55/78IjnD/NlgCwJvOqb+5KgTA+oFpIK/iA8D56S4/Jkjlv6Au1mCvyve/+EdKQG0Q6T/EmHC/rjz6v7eq0x6C3Pu//79eH6Vb979uAsI9hbLpPyzhniH7xOa/xMt4ADD7CsDTagbAkSP4v5/ynrk9966/i4PP/0A7CsA84NP/5msFwFbIKt8SlPy/wuQ+IG1/AcDinRHfaPv0vzca4WkJ5Me/ATvt36uEBMDyooahm17avz0weH9ZTem/+ubEP+goAcDkkQ3eNrfnvxUIVGJL7e6/4Sv0oCRt8L+XjKVATSr/v65qpACsGQLASBlxAWgU+78wCJN/udj3vy+7L4BTLAjA159IIPMzA8CwoYJg4Sb6v1JGXAAaJQXAXb/DYScE6D/J9ingAXICwNvP1n+l1AHAtBNOoMKQ+r+BVHGA7PcDwBDnIyF4ue6/a4ca4N3F77+m5psC0wjnP++i2J/+ygjAfMrWn2nOCsCtcCYBxTP0v5S8vv8k4A7AKjZJoH+aBcAqzDmAl7QMwOCvl+Cz+QLAlPST3vXx879fzFwBAVL7vyTftgB+Bw7A7uqXgEa2A8AkccHfULQFwJZJw9/lsAXAeYDdn0GBDMAxX16AfWwDwDYKpB9o6ArABSx/3zuZB8BF8CLApyH8v0cqQqDpwwDAZ78oIHH4+7+VzgugrVUFwM4w98Hgd+2/wHpYf7Yb77/vuDTA/fcAwGk20d8y7AHADah5v7gJDMB9WkV/aCb4vyrGt39+eg3Ax69I4bTv+79ELnqfkXUDwIA/419XRQbA09KiX9feAsB478k/CtEAwMMOhODI9gzA2MTZ359T4L+3BnyfJnoGwGb0o+GUGe8/cQmXwHNwDMDTAmogTGD3vw==\",\"dtype\":\"float64\",\"shape\":[143]},\"longitud\":{\"__ndarray__\":\"++dpwCDnU8AQdR+A1BxUwIGQLGACW1PAqKePwB94U8BVO/1/4N9TwGgDsAER1FPAR8uBHmoxVMDthJfg1FZTwMx/SL99lVPAaf0tAfiVU8Bjdv0fc89TwNwPeGAA9FPASddMvtmRU8Dh8e1dg/NTwN4ehIB8cFPA2/rpP2uSU8DJuPt/SddTwHhIMUCiYVPAGt6swfuJU8DAPc+fNrRTwJMdG4F4rFPAf4EgQIauU8AxKT4+ISlUwLn+XZ85kFPA61T5npH5U8AQkC+hgntTwJgUH5+Qa1PA75BigERjU8B9PzVeujFUwDBK0F/oWVPA/XL7H78hVMAUEv5/OxBUwB21/J+H5FPAe3sAIOEzVMC84/t/KFVTwNxMAUCA6lPAO5H9f55cU8BTVwQgajVUwH6G/b8mSFTA3EwBQIBVU8CZGAWglb5TwPID/L/PVlPAu6T/HwZEVMBkXgUAYBNUwLLa/L/q81PA0kMCgAL7U8Ar8Pw/2vRTwOIj/x9pU1PApMYAYOd9U8DCogFAfhNUwBqq//8BylPAnYkC4IzAU8C+r/y/i3pTwIETAqBn8FPAWpQCoIQFVMDyxP9fbShUwLXNAUAdbFPAHXYAQCUAVMDMbASgGfZTwA0U/F8DwVPA55T8X+ADVMAopgNAMiZUwK6QA8BCw1PARgD9301LU8CZlv1fWilUwLp9+9+2K1TAun3737Z7U8AzFQOgYfZTwJ8u/9/gGFTALn0BIBtiU8AufQEg23tTwA0U/F+DsFPAWW3+X3WlU8CTgAMgjx5UwJyh+v+fXlPARZr8P1wSVMAqivyfKE9TwLo+/3/UZFPAJPL6H2JeU8Ctaf9/s3dTwKbtBKC2TFPAVwf+v0NuU8BPZP+f9w5UwLr/AiBy9lPAXsYDgJlSU8DBPAGgTOJTwFrT/v/mQFTA0d0B4JA5VMBDNPyf6gRUwK8O/H/HAVTAoFUDILCTU8AnvvtfRR9UwHpU/N8Rf1PAhYT/357zU8B51gMgTTpUwBfe/r/ecVPAzKsAALzmU8AH/gEguN5TwOLkAsDGxFPAk4ADIA/3U8DU6P5/ljhUwOi7AKBvLVTAWW3+XzU8VMAH/gEg+K1TwB9CAYDI01PA8yoAAF+4U8DYWfy/jTBUwPWQAKCQxlPA6kgFgLC2U8CcIwJA2/5TwAFmAKBxclPAWW3+X/WPU8AZg/u/siJUwPNp/F+B/FPAHtwA4FbxU8B2CgPgKfZTwFT8ACA+9FPAmZb9X9pqU8DH1AIg06dTwKYsAQDZ/VPAOa0EIGhjU8BUvQTAmxtUwLdy/j9xCFTAYZIEwPyGU8BzF/5fN/VTwJmW/V+a1FPAyHn/HydBVMCTv/9/cfNTwFJv/D899lPA4uQCwIZ/U8DpYP2fg39TwGHRACDf7VPAxEf+P1KuU8Al2gIAj3FTwHXj/p/aflPAhur/fxDIU8BQyv8/KQ9UwFsS+1+J/FPAdH3+/2j6U8DqhwHgEthTwMVuAoDhvVPA1Cf737jCU8BA6gKgQklUwA==\",\"dtype\":\"float64\",\"shape\":[143]},\"magnitud\":{\"__ndarray__\":\"Z+CRwgY1D0A45cBhWEwTQMik0MMaOA1AoC2MmekTDUC1UHRVh7kOQGPVIMzt/hZAT05Z8h3hD0CXu+AdKtcMQKuOwS+a+g1AWQeblUgNDUDsBI/KqJ0OQOAKcmHuZA1AHVyVn68cEEAPiGsQQTAMQMTuO4bHjhJAl3vcEhRKDUDR2G7tCoYNQMGQ1a2euxBABzjOt0/4EUAwAENFi3oUQFi1/1yPHQ5AlAczt4ylDUC/O0OC8yMQQJEVsqmpGw1A4As48A8QEkD9u+O5Y6YPQJSKIZRSCw1AStro91gdEEAQ8otcgVIVQJZTTO8sSxFA2l+P7L6BEUBKUHBvhmgQQFyZCemdeA5ACX+OqLPbEkBA83uTjTwMQBqOhAnlrQ9ADywFrG6ADECgT+RJ0hETQBT9yhhZkQxAnrPDZwTWEEB8lXzsLjAMQPZZCu1BJQ1AvfMwWYHmD0ACXQN0whANQL90pERcthNAmAQcAHmYDUAXI7fLI8wPQLfOAXrIYQ1AnrkDTEsyE0ATIHUBUIkPQPIyN51sDBBAA3jqFT+DEkAxIWrLTi0TQGnPG9337g9AzkzV4vi+DEBWtHvqPzwRQHhTHbRP/g1AF0a8bY2ND0BETqHrqYYQQMrUTfd0tAxAGKfOYcbVEED8QVUzCBMQQCZ4O6nMSA1AaHtwTleNE0BA872vX44RQG/QA8TJSg5AebmhjGVQEEBiGTRXeq8QQGwgfnpDeBJAey4yhfcqDECC7tzFRY8SQD0jlVJlKg9AVNAn0RYwDEC8sPM+pwsMQIxqzzR6aAxADBP8JZjQFEAEuDA9J6YUQEBRVXgCDw1ApsQBNhiJDEDNcGZo+lwOQDKRkFBMiQ5AF0HnXvXiDEBo3ybtVwMNQL4raWIN+Q1AuaExrEUMEECNWy/6yAUOQPJZngd3Nw1APu9jWAdAEEAUziwRwWsPQEHK/GFTwA9ADnw11c3kE0BhwuyOWtsOQNvk6NjewgxAOEpenWO0EUDCv+cLStYPQNt6uKoNegxAHzcVDFthDUBcbrQMBmkNQIJ2RfgwHhJAF40QeSZPDEByaR3RFPQMQHkSQziHvwxArif8Ss4mEkBeTuh5YDUOQPwhkRGrshBATuh5YJW1FEAFIQ8z6nARQDOXCuAcIBJAeDod6YjjDUAZwISfciMPQIbOpZecGw1A+e2QB8c5DEB/B3GrQSwNQNyjs6OjGhBAzE3MYZSTDEBwqwdpGQsOQH7kc3oguhBAocuKl11WDEDw9XuDq4MMQJdMBGDyhQ5AbNaVpnMjD0AaRf+Ze98MQKAHDMzp4hFAL4LOvep5EUDOXksCsyYNQEG4Agr17AxATzezClnxEEB7WeqLSlMMQPlUZxjrNRJAn0ujjxp3DUB0pKeGBagPQFTSNyf+qQ1ATjp4wwkaEEBtKt4KWQQQQIqocKF+KQ5Ax1L739cBEUBiZ23HkikNQPOvQE9eDw5AnitjpmGmDUByVsAUUG4PQFm1c7OiuhJAK0y+XR+DFEBR9CPyG/oRQA==\",\"dtype\":\"float64\",\"shape\":[143]},\"pais\":[\"Ecuador\",\"Ecuador\",\"Ecuador\",\"Ecuador\",\"Ecuador\",\"Ecuador\",\"Ecuador\",\"Colombia\",\"Ecuador\",\"Ecuador\",\"Ecuador\",\"Ecuador\",\"Ecuador\",\"Ecuador\",\"Ecuador\",\"Ecuador\",\"Ecuador\",\"Ecuador\",\"Ecuador\",\"Ecuador\",\"Ecuador\",\"Ecuador\",\"Ecuador\",\"Ecuador\",\"Ecuador\",\"Ecuador\",\"Ecuador\",\"Ecuador\",\"Ecuador\",\"Ecuador\",\"Ecuador\",\"Ecuador\",\"Ecuador\",\"Ecuador\",\"Ecuador\",\"Ecuador\",\"Ecuador\",\"Ecuador\",\"Ecuador\",\"Colombia\",\"Ecuador\",\"Ecuador\",\"Ecuador\",\"Ecuador\",\"Ecuador\",\"Ecuador\",\"Ecuador\",\"Ecuador\",\"Peru\",\"Ecuador\",\"Ecuador\",\"Ecuador\",\"Ecuador\",\"Ecuador\",\"Ecuador\",\"Ecuador\",\"Ecuador\",\"Ecuador\",\"Ecuador\",\"Ecuador\",\"Ecuador\",\"Ecuador\",\"Ecuador\",\"Ecuador\",\"Ecuador\",\"Ecuador\",\"Ecuador\",\"Ecuador\",\"Ecuador\",\"Ecuador\",\"Ecuador\",\"Ecuador\",\"Ecuador\",\"Ecuador\",\"Ecuador\",\"Ecuador\",\"Ecuador\",\"Ecuador\",\"Ecuador\",\"Ecuador\",\"Ecuador\",\"Ecuador\",\"Ecuador\",\"Ecuador\",\"Ecuador\",\"Ecuador\",\"Ecuador\",\"Ecuador\",\"Ecuador\",\"Ecuador\",\"Ecuador\",\"Ecuador\",\"Ecuador\",\"Ecuador\",\"Ecuador\",\"Ecuador\",\"Ecuador\",\"Ecuador\",\"Ecuador\",\"Ecuador\",\"Ecuador\",\"Ecuador\",\"Ecuador\",\"Ecuador\",\"Ecuador\",\"Ecuador\",\"Ecuador\",\"Ecuador\",\"Ecuador\",\"Ecuador\",\"Ecuador\",\"Ecuador\",\"Ecuador\",\"Ecuador\",\"Ecuador\",\"Ecuador\",\"Ecuador\",\"Peru\",\"Ecuador\",\"Ecuador\",\"Peru\",\"Ecuador\",\"Ecuador\",\"Ecuador\",\"Ecuador\",\"Ecuador\",\"Ecuador\",\"Ecuador\",\"Ecuador\",\"Peru\",\"Ecuador\",\"Ecuador\",\"Ecuador\",\"Ecuador\",\"Ecuador\",\"Ecuador\",\"Ecuador\",\"Ecuador\",\"Ecuador\",\"Ecuador\",\"Ecuador\",\"Ecuador\",\"Ecuador\"],\"pprovincia\":[\"NaN\",\"Manab\\u00a1\",\"Provincia de Sucumb\\u00a1os\",\"Provincia de Pastaza\",\"Los R\\u00a1os\",\"Provincia de Esmeraldas\",\"Manab\\u00a1\",\"Narino\",\"Tungurahua\",\"Tungurahua\",\"Los R\\u00a1os\",\"Manab\\u00a1 Province\",\"Provincia de Napo\",\"Manab\\u00a1\",\"Provincia de Morona Santiago\",\"Provincia de Napo\",\"Los R\\u00a1os\",\"Provincia de Napo\",\"Provincia de Morona Santiago\",\"Provincia de Cotopaxi\",\"Esmeraldas Province\",\"Pichincha\",\"Manab\\u00a1\",\"Provincia de Morona Santiago\",\"Guayas\",\"Provincia de Morona Santiago\",\"Provincia de Pastaza\",\"Provincia de Napo\",\"Provincia de Santa Elena\",\"Pastaza Province\",\"Manab\\u00a1\",\"NaN\",\"Provincia de Esmeraldas\",\"NaN\",\"Pastaza Province\",\"Los R\\u00a1os\",\"Provincia de Sucumb\\u00a1os\",\"Manab\\u00a1\",\"NaN\",\"Narino\",\"Provincia de Chimborazo\",\"Pastaza Province\",\"NaN\",\"Provincia de Santa Elena\",\"Guayas\",\"Guayas\",\"Guayas\",\"Provincia de Orellana\",\"NaN\",\"Provincia de Santa Elena\",\"Esmeraldas Province\",\"Provincia de Bol\\u00a1var\",\"Morona-Santiago Province\",\"Guayas\",\"El Oro\",\"NaN\",\"Provincia de Napo\",\"Manab\\u00a1\",\"El Oro\",\"Provincia de Zamora Chinchipe\",\"Guayas\",\"Provincia de Santa Elena\",\"Provincia de Ca\\u00a4ar\",\"Morona-Santiago Province\",\"NaN\",\"Manab\\u00a1\",\"Provincia de Carchi\",\"Los R\\u00a1os\",\"Manab\\u00a1\",\"Pastaza Province\",\"Provincia de Carchi\",\"Provincia de Cotopaxi\",\"Provincia de Morona Santiago\",\"Manab\\u00a1\",\"Provincia de Sucumb\\u00a1os\",\"NaN\",\"Morona-Santiago Province\",\"Pastaza Province\",\"Morona-Santiago Province\",\"Provincia de Pastaza\",\"Orellana Province\",\"Morona-Santiago Province\",\"Manab\\u00a1\",\"Manab\\u00a1\",\"Pastaza Province\",\"Los R\\u00a1os\",\"NaN\",\"Manab\\u00a1\",\"Guayas\",\"Guayas\",\"Morona-Santiago Province\",\"Manab\\u00a1\",\"Morona-Santiago Province\",\"Guayas\",\"Manab\\u00a1\",\"Morona-Santiago Province\",\"Provincia de Esmeraldas\",\"Guayas\",\"Provincia de Chimborazo\",\"Guayas\",\"Provincia de Santa Elena\",\"Manab\\u00a1\",\"Manab\\u00a1\",\"Esmeraldas Province\",\"Azuay\",\"Provincia de Morona Santiago\",\"Manab\\u00a1\",\"NaN\",\"Provincia de Ca\\u00a4ar\",\"El Oro\",\"Morona-Santiago Province\",\"Tungurahua\",\"Manab\\u00a1\",\"El Oro\",\"Guayas\",\"NaN\",\"Guayas\",\"Amazonas\",\"Provincia de Ca\\u00a4ar\",\"El Oro\",\"Loreto\",\"Manab\\u00a1\",\"Guayas\",\"Provincia de Morona Santiago\",\"NaN\",\"Los R\\u00a1os\",\"NaN\",\"Guayas\",\"Guayas\",\"NaN\",\"Provincia de Pastaza\",\"El Oro\",\"Provincia de Chimborazo\",\"Morona-Santiago Province\",\"Morona-Santiago Province\",\"Provincia de Ca\\u00a4ar\",\"Provincia de Santa Elena\",\"El Oro\",\"Manab\\u00a1\",\"Azuay\",\"Provincia de Esmeraldas\",\"Azuay\",\"NaN\"],\"quality_associatedPhaseCount\":[31,64,43,39,35,56,38,40,37,42,42,36,51,39,46,33,44,38,43,63,46,42,40,40,53,73,45,57,55,47,43,45,32,55,34,57,36,39,25,83,57,49,26,24,112,59,30,44,33,40,64,77,73,46,14,61,54,45,26,19,66,47,42,31,29,22,45,52,62,47,46,63,10,22,47,55,44,24,30,45,44,30,40,60,59,60,50,60,43,50,82,46,35,55,26,35,22,43,54,39,45,42,62,63,54,70,39,66,51,29,34,60,52,25,28,46,41,20,38,27,26,35,50,45,49,35,27,30,38,22,61,38,67,58,36,69,50,30,57,52,70,75,57],\"quality_associatedStationCount\":[29,57,34,28,29,39,32,31,32,36,33,32,38,28,31,23,32,27,35,51,38,38,36,30,42,54,31,44,49,41,41,40,30,50,26,49,29,28,18,50,41,34,23,20,85,46,27,41,28,36,55,68,49,36,9,59,44,42,19,12,52,41,38,24,25,20,40,46,56,38,37,59,7,21,38,53,41,21,23,44,34,18,32,49,48,56,43,53,41,45,66,40,28,49,24,29,17,38,49,35,29,39,58,53,48,63,33,52,41,21,27,43,46,21,22,40,35,16,32,23,20,29,48,44,43,29,23,25,38,16,57,27,56,46,30,56,40,22,45,44,56,66,54],\"quality_azimuthalGap\":{\"__ndarray__\":\"5BQdyeW1a0DQmh9/acRVQG+Z02Uxm21Aa5p3nKKHcUCMBAlAUn5hQLkUV5V942xAMuGX+vl/cEC78lmehx5wQCUBamrZ02VAlxx3Sge2ZUBdYAPg55VXQCApIsMqa25ALv8h/fZUZkBCBBxCFf1wQLOwpx1+QnJAd/hrskacZ0CMqQVApmRZQEW7Cik/c2xAOC140ddtcUBYkdEBSURGQPBQFOgTR2ZAykqTUtBZX0D0piIVRqxwQMuEX+rn429AXcR3YlZMcEBxp3Sw/sdsQJjFxObjl29AZEUNpmE4akBkx0YgXrNvQHyb/uzH33BATbwDPOm1bkBJzP0fMRJwQJh35i8+AGpAkHsESB4QcEC+x/Tf/phyQPpn/n85Z1VALqgU4KD3bEB6RQHsTTRxQCAF9GdkWm1Artv7r07dcEAmfRC4JBZlQIr1/B8WXnJA0jsVcI+fbEAsxel/lKRaQKsb9/9UkUdALrz9f30WU0BnaQKgpWdUQGoO/5+5cWtACwURTvAVZUBAkw4gDQ1hQBEn5g/8n2tAit0EAMNwTECnJOtw9FBqQMVuAoAh7UtAgeju36E2ZkB+RAL8Cc5nQK81AMDW+mtAXsYDgBk2YkC8uOi/oitiQDaHEPzUT2VAO0kE9AwAUECCJh1AGglbQCD3CJD81GJATBb3H5lQbkBAsQQIVQZpQEgX9g/9AFxAvG4A7JI2YUDs7QGABCtRQA3V///gxVFA2UcCaO/CaUCBcRUwpsxjQA1XB0Dcj2BAiz/l86VKZkA2SxMArUddQLD30V8eQV9A4wf4f58LZUB8zRcgNkRnQCBCAYBI9GpANksTAC3ZbEBq7/ibtUNmQKaD9X8O421AgBcRIN6mbkBGvfH/9E5uQFE4Fm//VWJAC0j7H2DecEDJuPt/ySxSQM5pFmj3ymxAzA7xD9s+a0CPuBFgIgRoQKGU/3/SUFJA4HIGkKsAZkB0+/a/7TBoQOUeAZLf32lAeLZHbzgLW0Aqt/6n7PxpQCBRDaDEjGpAaIgZ0EE2YkBNy/4vTS5SQOafKvBfnF9AgVL+/0n8UEBl8OZfAWpnQBlE/19QtmpAroIY6Frha0BmtPqP8cllQGSXA5hNfWJAEQoARLCwYUB4cvLHGbJpQGOnDqhtq2NAadHxh5URY0DbZPlf00NiQERz+P+MrXBAcDkDyHVGY0ChuwPAoZxVQJFdDmD27GNAdfv2v21aXUAMg+j/i9VcQPPXGgDgZ1xAaNMRwA1cbkDy9RDo5wRhQKyB95+G8mRAyA/w/75AbUBrp/8PJPtWQM60DlgDI2VAMtMH3AT3ZUDLXCqAcz5bQJi1A2SeHmVAYRD9f0FybUBa3/qPUE5WQMcT/3/1BlBAWIQHcvW+bUC9fQwMj91lQFxN6D81NWBAI2AZwMDfYEAs8uuHmPBoQOK6GLndbWlAMDzlh8BPYEAd7vo3dThTQMK26t9aNGNAjOYSWEqXZEBYMhGAiT5tQJxKBoBqJG5A4K8TqE9XYUD1xw/wv5ptQA==\",\"dtype\":\"float64\",\"shape\":[143]},\"quality_maximumDistance\":{\"__ndarray__\":\"4R9bO/bY/j/UD+oihWBEQGPCHsmbsv4/D4aVZeOMAUAzpw1/NIn9P1Npej8kogNAUkvO5PZGCUB6e2u7ZIcCQBdzxuaZLfg/TGPFugJb8z/NkwjgqC31PxDU3wFUtwBAJE/tZwzO8z9b2fRWE7r+P7Ub2IV6NQZA6cWa285I9j+9na8fgwkAQCb34FqSCPk/lkwEYPKFB0B8Hu3JDXD+PxVMoZhhKPU/n6FuVjNB9j9FCDR9GwcHQJTai2g75vs/F+XjJN6bCUAPhpVl4zwHQEKHr2Xojvw/UWqKW2BK/D+ZJ3xbVRsNQIyxuKQPAgRAvDRu/wQWCEDF2d+fc4MFQLGFpD/JJ/k/1nUDYJfcBEDZedl+SwP3PzrZvGAmKANAvrDKv3WhAEBrH35AmAoJQMpHnF/erQpAP23Y36dcA0BZwbFfXh0HQCIQnr+/VwJAKuKVoJYJDEADOIPgbQUGQGpJ7H8l4TZAVYxv//x0CUDVCk+/dm4JQPzQFiGG5/o/ioofAMQTIUBgF02AxEMGQAHmlF+KOwJAQGnJXzGlBkAbaWegS2MEQOyUmn/sBAlAgmUZoDzFBUAAa90fUsAIQBDeiR+EZABANTs54EaMBEBmU6Z/5lcFQIDWeMCnJwJAvHqR4Hj0B0CfmA4AyaoMQAG6s59aRwZARbBYYBtTCUCCucyfJdYDQFxjRGC0uAhA7Gv6P8kl+D9XjrkAbt0EQOVrhZ/uugpAvzA2AF1cDEAxwNOecdX8P9u6H+Def/s/G1I9gOLj/j/lxOyfhlsIQFUr+uAIpPs/M2spIO2ZIkBXne6fG4QiQMpkHwEvNfs/RpR6PwPUAEDFMXmgoQEOQIfCBMElSP0/rBycgA3tAECYRlngp2ECQM+8f6CaYgBAF7ifAEjFAkBL2Za/SgcNQDViZp/HoAZAo9/Gf+QyCUAxX16AfWwIQJSllN+7uAlApQK8P719/D/yrdU/BDQGQK0YjQCXfQRAMW6THys/DEDRiIDgfY8JQNmXKiAGvQRAd8f3/1D0/T89b3Tfe+kJQBRUO2CqYwdANc+2P7wLBUB705kgj2UPQO8hn1+tRQdAoO1mgOqbDEADSvn/J9EUQEUvHyDKVRBAjRTjX3ihIUCPS8G/rSgIQHW5ud8+uhJA9Yp+nzdmCUCJn9afinQKQMwG24C2Iv8/aNYpwag1+T8F8jaAyEQFQCPItV9Ggg5AkrJm4Fe3A0BM8WVg7BYMQPsQCgBE+AtAdrWqX8jWB0Dq8t7/ZPcGQKO0s78elRBA0Ioc4FE8BEDYmcYf2tEEQFfDTV8ykgxAfjMYwOcZCkA6e6Ff3+8LQK8myyCpy/8/Hxfuv0K8CUCbT+P/CtAHQLLwWODpzQhA4x/wn/LwB0CJId7fRZwLQCE4cP94TApAX8PC/wwNB0DYLun/hxEKQET2pMDA8wJAmQNOAA8GAUB7eL+fVKoJQDs4ln9G7A1ADudMoKlTAUBIZv1///IFQH9VaP+H/ARAJtbzf1hQIUBmGJAgCVEKQA==\",\"dtype\":\"float64\",\"shape\":[143]},\"quality_medianDistance\":{\"__ndarray__\":\"gE0xYvr59D/5gas8gZACQKF4hIn1nPM/KZpiaTsh8z+x28q/VGvyP4pIXufw2vg/Lakk/JwsA0BMPPslPef0P6OpIgXkxdo/rhBWYwkr2z8WM4C/sUruPwD6IkZ0dPg/3qFyXUKP3T+WESisnl35Pzm0bb1Lrvc/LY1G24T93D+Uan6A3inwPwr5+yAmXPA/T7IwnwdiAEDsu8c+bdniPzw2+n9y5+4/MHdWoFAu4D/D76ZbdugBQOVYzSm3I/k/89PJYxd2/z9yWktcIjLzP3T9zGrLyvI/+GgWDb618D/Zt+5BY2EEQAMUNHc+7fQ/c+scoIdUAUAkIsLgFpP/P45Qnj+OUvU/LzxpwKQ5A0D7Dpd/oTXyP6TMgmDAuPQ/dNpLAQYF9T9s/5CfCZwDQD2xsb+qogVAIVROIJH7+j/SXJ8gTiP2PyzJz4BZtfg/kxSBf4T4CEBwHanfAeUAQPFH1Z+SpQBAsZTZ3nZ6/z+gFTnAo1gBQK12wZ5++fI/CiKcYEmbBkDTWJCg1xMAQEOYsj6rjfc/dWns4JrK8j9duJzg1ZECQGUItgAjrvk//sdToGDA9z/6p8jfxQwCQBP2SN6Uzes/Z68lgVnz/T+A5ntfv4wEQFXQH2DOCPM/kZ9LQGVv/j8RDLXgJIECQBV+gCAGO/Q/eNyFIOam+j8NmHYgoaQBQHLdtQBEvAJAJROm3gnM5T+3eSXBArX6Py+1rX866gBA+5yS3v3y8j9TnScB3sDuP4RS7h25Huk/Rv6JX+tR+T9vJmxgJ4wAQKUQCkJgAu4/tx5LQMipCUCBqpcAeKsEQFgb519gYPE/b3Iq31Qg9z82dYE/urDzP0a/jf/IlfQ/UXoyQQUu+j/hQh7BjYT9P/wlmCDZgvg/I4qH/43w9z9Bam7gaW30PwBAyl+MhgRAQmJ5X664A0BM1Yc/1JcAQL/ZQYBnRgBAJzGlgWHx7j9zg4AAQikBQNhcPUBaUAFAk8DNf5sXAUAT1Z0fLdsEQCn6jcBpy/c/VCpVYNAb9T/9eSKhkLH+P7zwlB8C+Po/xsAZgDZH+T/QpIeAx5gIQLahIIDtmwJAbT2//8EtBEAphKMegePvP+VwOaCdggNA9dFvgBUXBUCxG5Uf4bECQBJuz39R8gRAQpSzoMXM+T+ln9OgJmL4P0D+6z/f5PU/m1PJAFDF4j+w3gtAYTABQOi9cyDSbAVAr5TpwAdJ+j/0k0EgXZ0BQIFpKCCzRP4/9PyrvwybAUCUFsuA9QD8P7GFpD/JJwNAFjqnQANN/D9HbH+AGA0AQIovRX+JrAFAsI2ZwITs8z/yK87/SMQCQIHvFWGz8fA/4MA/AAT/BEBT0Ejf/9L+Pytb2l8sAgFAiPrZn/YBBECPTI+/F0PxPw7oGqATfgRAL5HBQMbC8T82DoogrQX+P0R1a4Bvlvw/GQtcgZXR9z9rFRY/OhP/P852XL8m/ABA8YuFAGRB+z8zkONey9H8PwG6s59a1/o/qmFDYHqFBECxXAQApkAGQA==\",\"dtype\":\"float64\",\"shape\":[143]},\"quality_minimumDistance\":{\"__ndarray__\":\"l+nyQSpg5z++1udium3TP1zHPBuHNNQ/m/WUYmhR4z9ZRtGg9IfoP5u8M6D/euo/Mo2JQR6J1D+teUQ7XQzfP/lV0u2Z46o/5cTsn4Yz0D/b3k07JTXVP4HY60BKquQ/Z1LYf3yN0T8GuvYF9MLxPywH/uARr+o/o6J/vDafuj+/e2ib8lPEP7qraL0p9uE/XOUJhJ0C8T88hgmb6FDWP6g/NT2sYNk/M4+ZlwULxT/snuFyYYnyP6TfnQCz8OM/Ex12nRWq1z/RKSOJuX/NP/PCpXxrVNc/GOh/Xl260T+MT+AhtZ7qPzbUQcE54ec/oFwqoYFJ8j+n/mqjdIjYP5c4sCSSi9Y/qHoJgLfh2z8c2c9BG0nlP+XZYSN7ys8//sNtnxv73D8sLiugkqv3P5fpNF78BeQ/6yNLQRIR2j/MZPaB/brSP3uX990Z0uc/PGV3eSE6yz8t7VAkymTaPw2WA6D+8co/7MM4h4RSzj+L/q++qgjUP9lMUz7jRuE/UxNUv5iu+T+ucvQ62t/WP92ogEHzleE/X4rdBABD2T9t6tn/Qhf3P0yKbkHfK88/Xj28IWx85T875yMAanDePxynlQAExcY/5L0HOwdH3D8QBypfp8PlP7iruruM6tg/prWriIHLwT95iyw+qkbQP6ycSd3GTcs/9vhzwGTJ9D+hAEAEC1bSP80QGgPjx9w/J/JmBW2PxD/MZmkCoCXbP23q2f9CJ+E/ZwhLZR+e3T9ZadZCXkmlPydLECLXFdA/A/j6nLNszj+ai67BsZ3kPzN7LL8E1cI/zt+EQgRc5D90uoffqLD0P/jj1b0+yOA/JN4RgEX/7D+vOnoVfMfJP0aPxj5U3NU/QCxAgLFj6j+9izkAyZH4P7qqgSAf+OY/jS/zgCYg7z+shu28x7jTPzGfKOAJA/E/xua6Wx933D/KrPd+F/TEP15Q18FeNMw/wxsE4wFhzD/V6oqdGdLoP3JrsV+gKfY//nK5A20Z1T8md/HhBrrhPwDirl5F9vI/46MHNpXizz/C78/ap4LRP8C2PN79FNM/NGZ1Hz642T8a+bziqUfQPwuroaIkg9E/Hn4n+yFV3z+MzgGb1hrdP23JR957MOQ/EFubQr6W7j/ECrd8JCXXPwJeCx+2GcQ/DBGiQpbB3T8+dptgzdvoP25/02C/bO0/egwkYimWzT81yTQ/o5njP6TVHGK0leM/QfRBIq9/3D8aEt67WcXfPyQG5L/+0+A/ALrcHoxx7T8R5+EEptPcPwSsE59U3uk/BxvH3VrF7j9uFcRA1/7hP7johbfeocc/tN9ewjYc0z/mSrFhVTbgP/4koaE9RuY/CTQ7/zRN8z/Yr4VqlL/EP+e16ToaKMs/Dv52wBIL+T+nEDx8oZmiP5Jrdf95duQ/Djo6EXExuD/8hSaiwmXvP1UqLOGe4fQ/Efmy3dKkxT88WHM+RHzSP5kHdh0m0ec/Q9dT5Vo43T8c4R98SR/XPz+DNACnOec/B9mJ/Sus4D8VRFFeM5LnPw==\",\"dtype\":\"float64\",\"shape\":[143]},\"quality_standardError\":{\"__ndarray__\":\"fZPoXaMC5T+WbIZlfXTzP/FdMcCRgtc/WK0r6rw77D+3qnhlD3vtP0gXvGTzI9o/V3XaQ5C92j8/NcHkBBXuP24JTOmRjeg/hg5P6T8v2z90c9ganfXWP4/U74C62tg/NLvNn18p6j9L5hbCg6nkP+x43Wy9MOY/zgZP18kv4z/G/eR7iD7jP6+bjAm1b+E/PKr12VyQ8z+ZVAKcvXfcP1ChPvKcR+s/ux9cpssH3T+rjOuEPGf2P9ovRPOlnPA/is4RfWeJ4T9zLVqAtrXoP6o61IQnE+o/yDVwzT7L5j8Z7m1EQRr1P5h9BQacp+g/XHfSRp654z+HgTK2pYjrPwXQnLMNFeQ/VkSPEMxO7j/3QKf3v+nfPxqEPRZwyeU/MqX9KE2X6D+cGXkwlDnwP4HEfmhJdO8/apXLDDyz6T/FII9kf+7wP4uLQEhYTOU//e4EmIXY8T8JxMrsHNjhP7ariIFL4/g/k/BSJD475T/V6/VyyHvxP3quSn20k/Q/RXYxD5Eh9T+AR3W2V7HmPw7vvejADOo/nChTFs/q4D/S2tn8ZGHwP4oN7c6g4vA/0+UHjeR77z9EDIUZZLzlPxK38cT/H+Q/02WU27Qh6T8elGp+gF72Pz4ZDEMegO0/6UTl0yH/6D+A0Sfqs4DuPynDAqleCOI/33l3nlfA7j+l0pnF1RLvP3XubkzsffI/O7r4eHTF4D8vg5RMDJHrP1VfZYbw3Ow/75UWgfOa6z9xJgHFI6zlP3ufqkIDseM/Eh4Cga0W6z+qqPIkhhDkP6wmXzveBd0/oH+K/F0M5T+5BYUgi53dP7cejVyaD98/EuWgvkTg5z9TsXPL9TPoP2w2wf2hNeA/vFpR978r1z9CJhk5C7vvP+Rj+7k2Dts/FAlkfocF7T+SduWrywbrP2PnErMDM/U/smDJ8gHj8z+ieoxulAfpP09yC4YIMuw/HJqRxSYn4D+rm6RcjnXkP/kPbfBTb+s/kMQmjSwU6j+d68HFBoLuP/qkh1+5t+8/Eo4PaQrz4j9GRkHP6q3sPwRFhxtLc+I/h5oRc4Ng6j/BN7DJ2CjwPy4L/X73T+w/U46wRV547j9QQn5wHeftP22gCskTsvA/bFETOyJY6D9DQNchq/nuP16UqDAZO+Y/abuVZ1Y96z8xfa8hOG7sPwU1nRnUSew/2xCpiiV80T8joID10SzvP3Nfc7Pkduk/UxWmMVLW3T8zPoLRm1DzP8h2Y+anfe4/OylA0q8G2T+oQ592lYHcPz2eEucTX+Q/w2w8t1TO6z+5+YiQoaDuP8YTpMZC/Og/KSd3K40Q5j/gPpvqA1jxP++AHcVaeOg/K0quBzgJ4T+GjEephCflP/C3RbKq0uc/VO3LgFBq9j+MHZ5vVePqP2UR9UikWfc/fNAWhLDC7j/RmQ9jLdnpP1pF4pKhEvA/82g20d8S9D/f0wdYzBTxP/DthgLwDu4/5DUrsggL6D85yT36sqb7P+KwNPCjSvE/zstZhtWL/D+ClVwoDRPhPw==\",\"dtype\":\"float64\",\"shape\":[143]},\"quality_usedPhaseCount\":[31,58,39,37,31,46,31,40,35,35,34,36,45,38,45,31,40,36,36,61,37,34,40,36,52,72,42,53,52,42,39,41,29,45,34,56,36,32,13,67,54,46,22,22,106,53,29,35,33,35,59,76,33,46,14,53,54,41,19,15,58,41,38,31,28,14,45,46,60,45,39,57,10,21,44,54,40,24,27,44,40,24,38,50,52,60,39,49,42,50,63,36,32,51,20,32,21,42,51,33,34,34,47,57,53,69,29,61,49,28,29,44,43,16,20,39,39,19,35,25,25,27,46,45,44,35,23,28,37,19,61,30,67,57,32,48,46,26,55,40,61,64,38],\"quality_usedStationCount\":[29,54,31,28,25,35,28,31,30,29,26,32,32,28,30,21,32,26,30,51,29,33,36,29,42,54,28,40,46,36,37,36,27,41,26,49,29,25,10,42,40,32,19,19,83,42,26,33,28,31,50,67,24,36,9,51,44,39,13,8,47,37,34,24,24,12,40,40,54,37,33,53,7,20,36,52,37,21,21,43,31,18,31,42,41,56,32,42,40,45,47,30,28,47,18,27,16,37,46,29,25,32,44,49,48,63,26,50,40,21,25,33,39,14,15,35,33,15,31,21,19,22,45,44,40,29,19,24,37,14,57,23,56,45,28,38,37,19,44,34,48,55,36],\"time_uncertainty\":{\"__ndarray__\":\"tUh/1Mv05D/ByOyoQYPMP5rAIRKNp+E/rbse8dD84j8SMcJnLf3ZP9N4EqZiwuQ/G+08Ghw/7D/AnmXME17gP+WV0tCSydA/FNSNA/Gyzj/1RDqw2gTWP4Wcc8fN9uM/Mfl2fayBzj9wSeVYpOrsP9d0FFJEJ+A/k9Ar2CXu1D9epj9evD3hP7kq/UKXCd4/zCwAlUPu4z8NemebuCjEPysKBbaUfdg/QvLGMMS90j8OQopLnwfwP5NiNrf4KuI/OiAqCWCV4D+ImJaBmL7aP/4MTsj3uuA/nI3PQ/GT1j/D3wbnGRzjP19CaLHSLOI/0rPNS83X7j84/IdXBhPkP96F92bliOE/O/UO2FEM6D8VBZca47vnP6kHmgllZdU/I18yI/ZI4D/3tNz8M+HjP2MiKRLheec/Y+ud+tUW2j+LNRrIzGjaP4S7s3bbRd8/baVbnwfR5z9b+dmGWcHeP2o0FNJ1vMI/9Fl1iEUt0j+S+qGI+/7UP3HA16WAU+s/97glKDQ/7j+S4/Mv7uvTP0Gd8uhGGNo/rLJrUjz00z+jqDto2YfdP4diXaKbedI/8laGBpyE5j+WAS1+z3/hP8VQFAkiIt8/9AdWF+hB3D8PgHaPhUvXP384QBeqTuc/u4N1b4d+0j8iKTPvgtLKP+qPF2+3JtY/NiL3+K1r5D8xthDkoCTgPwCh/WGuudQ/C76Cl40Mxj8ZWjpy5s/YPwnu1QHv6Mg/SPiDJi5M4D+RPjHb47/XP8DWfMe2rcw/PYvv1dhv2z9sFpqxiUjRPzT7l//rt84/YqT2phJz2z+0rai5w/P4P1nVuw2kCuo/Nr5haJaA4D+jge2ab8joP9p/MgAzQ+A/5P+nRfEI6T/HMZI9Qg3hP1EZnBQo2to/AcT6ks/j3T+6ri122l7TP3NLqyFxb+E/8Es/2Xtu4D9qTqCA1GPkP4q4EBbbhdM/0UYJVcXv0z+dCTR1qr7VP5u58h/zPeE/EfO0FV520D82QEiaaGXhP8BWz2r9ZOA/P8x3Uz4C1T+4bQgjMHXQPzbgHEM6W9k/IXlCCvk74T+3W3lm1anaP17Y3MmOCuY/LqEnCpmQ5D+sitO9DI7XP/cymxHvit0/pDXljieX1T/2VzRC5NniP79IBaH+K9k/QizV5K0j1T9xw7X70QfYP8vwRLUtj+Q/Zz1C7p6T0D9bI8SNQi/LP9zzuk3R9Nk/0X0xQhXK2T/NdPGvzLjRPzv82p8wzc0/XoIRA3aI8z/INU+/VajaPyqVSz7R0N4/zud5w7+A4T+6lvuqfTbRP/MNGjTTQd8/e5KmBybz4j+Hm0KdqNvQPxbjNvmxcuU/DUrB6Cwy4z+C6OZuGejaP81YNJ2dTNc/WDA71Wsk4z/ggJauYNvePxzMaNyCgtE/ax0LwPUXyj8eNNz8livYP2exuQ/lMN8/vVlB24Nzyz8h9UuCP5XOP4qiML03ZeI/dSxC8zEG2D/AxtxSWsHeP28RlLJ3DNs/EZoTajyH1T838f4NFAfyPw==\",\"dtype\":\"float64\",\"shape\":[143]}},\"selected\":{\"id\":\"1652\",\"type\":\"Selection\"},\"selection_policy\":{\"id\":\"1651\",\"type\":\"UnionRenderers\"}},\"id\":\"1001\",\"type\":\"ColumnDataSource\"},{\"attributes\":{\"bottom_units\":\"screen\",\"fill_alpha\":{\"value\":0.5},\"fill_color\":{\"value\":\"lightgrey\"},\"left_units\":\"screen\",\"level\":\"overlay\",\"line_alpha\":{\"value\":1.0},\"line_color\":{\"value\":\"black\"},\"line_dash\":[4,4],\"line_width\":{\"value\":2},\"plot\":null,\"render_mode\":\"css\",\"right_units\":\"screen\",\"top_units\":\"screen\"},\"id\":\"1577\",\"type\":\"BoxAnnotation\"},{\"attributes\":{\"source\":{\"id\":\"1001\",\"type\":\"ColumnDataSource\"}},\"id\":\"1590\",\"type\":\"CDSView\"},{\"attributes\":{},\"id\":\"1557\",\"type\":\"LinearScale\"},{\"attributes\":{},\"id\":\"1565\",\"type\":\"BasicTicker\"},{\"attributes\":{\"base\":60,\"mantissas\":[1,2,5,10,15,20,30],\"max_interval\":1800000.0,\"min_interval\":1000.0,\"num_minor_ticks\":0},\"id\":\"1640\",\"type\":\"AdaptiveTicker\"},{\"attributes\":{\"days\":[1,2,3,4,5,6,7,8,9,10,11,12,13,14,15,16,17,18,19,20,21,22,23,24,25,26,27,28,29,30,31]},\"id\":\"1642\",\"type\":\"DaysTicker\"},{\"attributes\":{\"days\":[1,8,15,22]},\"id\":\"1644\",\"type\":\"DaysTicker\"},{\"attributes\":{\"days\":[1,4,7,10,13,16,19,22,25,28]},\"id\":\"1643\",\"type\":\"DaysTicker\"},{\"attributes\":{\"num_minor_ticks\":5,\"tickers\":[{\"id\":\"1639\",\"type\":\"AdaptiveTicker\"},{\"id\":\"1640\",\"type\":\"AdaptiveTicker\"},{\"id\":\"1641\",\"type\":\"AdaptiveTicker\"},{\"id\":\"1642\",\"type\":\"DaysTicker\"},{\"id\":\"1643\",\"type\":\"DaysTicker\"},{\"id\":\"1644\",\"type\":\"DaysTicker\"},{\"id\":\"1645\",\"type\":\"DaysTicker\"},{\"id\":\"1646\",\"type\":\"MonthsTicker\"},{\"id\":\"1647\",\"type\":\"MonthsTicker\"},{\"id\":\"1648\",\"type\":\"MonthsTicker\"},{\"id\":\"1649\",\"type\":\"MonthsTicker\"},{\"id\":\"1650\",\"type\":\"YearsTicker\"}]},\"id\":\"1560\",\"type\":\"DatetimeTicker\"},{\"attributes\":{\"base\":24,\"mantissas\":[1,2,4,6,8,12],\"max_interval\":43200000.0,\"min_interval\":3600000.0,\"num_minor_ticks\":0},\"id\":\"1641\",\"type\":\"AdaptiveTicker\"},{\"attributes\":{},\"id\":\"1651\",\"type\":\"UnionRenderers\"},{\"attributes\":{\"fill_color\":{\"value\":\"#1f77b4\"},\"line_color\":{\"value\":\"#1f77b4\"},\"x\":{\"field\":\"fecha\"},\"y\":{\"field\":\"duracion\"}},\"id\":\"1587\",\"type\":\"Circle\"},{\"attributes\":{\"months\":[0,2,4,6,8,10]},\"id\":\"1647\",\"type\":\"MonthsTicker\"},{\"attributes\":{\"callback\":null},\"id\":\"1553\",\"type\":\"DataRange1d\"},{\"attributes\":{},\"id\":\"1555\",\"type\":\"LinearScale\"},{\"attributes\":{\"plot\":null,\"text\":\"Duracion de sismos periodo 2012-2014\",\"text_font_size\":{\"value\":\"15pt\"}},\"id\":\"1548\",\"type\":\"Title\"},{\"attributes\":{\"axis_label\":\"Duracion\",\"formatter\":{\"id\":\"1637\",\"type\":\"BasicTickFormatter\"},\"plot\":{\"id\":\"1549\",\"subtype\":\"Figure\",\"type\":\"Plot\"},\"ticker\":{\"id\":\"1565\",\"type\":\"BasicTicker\"}},\"id\":\"1564\",\"type\":\"LinearAxis\"},{\"attributes\":{\"months\":[0,1,2,3,4,5,6,7,8,9,10,11]},\"id\":\"1646\",\"type\":\"MonthsTicker\"}],\"root_ids\":[\"1549\"]},\"title\":\"Bokeh Application\",\"version\":\"1.0.4\"}};\n",
       "  var render_items = [{\"docid\":\"fab2a336-b4b3-4d9d-915e-24be8d61a848\",\"roots\":{\"1549\":\"4743dd30-804f-4d6c-98b9-03eba8064217\"}}];\n",
       "  root.Bokeh.embed.embed_items_notebook(docs_json, render_items);\n",
       "\n",
       "  }\n",
       "  if (root.Bokeh !== undefined) {\n",
       "    embed_document(root);\n",
       "  } else {\n",
       "    var attempts = 0;\n",
       "    var timer = setInterval(function(root) {\n",
       "      if (root.Bokeh !== undefined) {\n",
       "        embed_document(root);\n",
       "        clearInterval(timer);\n",
       "      }\n",
       "      attempts++;\n",
       "      if (attempts > 100) {\n",
       "        console.log(\"Bokeh: ERROR: Unable to run BokehJS code because BokehJS library is missing\");\n",
       "        clearInterval(timer);\n",
       "      }\n",
       "    }, 10, root)\n",
       "  }\n",
       "})(window);"
      ],
      "application/vnd.bokehjs_exec.v0+json": ""
     },
     "metadata": {
      "application/vnd.bokehjs_exec.v0+json": {
       "id": "1549"
      }
     },
     "output_type": "display_data"
    }
   ],
   "source": [
    "plot5 = figure(plot_width=1200, plot_height=600, x_axis_label='Fecha', x_axis_type='datetime', y_axis_label='Duracion', title='Duracion de sismos periodo 2012-2014')\n",
    "plot5.title.text_font_size = '15pt'\n",
    "plot5.xaxis.formatter = DatetimeTickFormatter(months = ['%B/%Y'])\n",
    "plot5.circle(source=source, x='fecha', y='duracion')\n",
    "show(plot5)\n",
    "        \n",
    "                                              "
   ]
  },
  {
   "cell_type": "code",
   "execution_count": 10,
   "metadata": {},
   "outputs": [
    {
     "data": {
      "text/html": [
       "\n",
       "\n",
       "\n",
       "\n",
       "\n",
       "\n",
       "  <div class=\"bk-root\" id=\"56bde4f1-398f-4e32-af42-67a9642f88c4\" data-root-id=\"1767\"></div>\n"
      ]
     },
     "metadata": {},
     "output_type": "display_data"
    },
    {
     "data": {
      "application/javascript": [
       "(function(root) {\n",
       "  function embed_document(root) {\n",
       "    \n",
       "  var docs_json = {\"fe6ca396-38d0-4311-a458-cad734fa8593\":{\"roots\":{\"references\":[{\"attributes\":{\"below\":[{\"id\":\"1776\",\"type\":\"LinearAxis\"}],\"left\":[{\"id\":\"1781\",\"type\":\"LinearAxis\"}],\"plot_width\":1200,\"renderers\":[{\"id\":\"1776\",\"type\":\"LinearAxis\"},{\"id\":\"1780\",\"type\":\"Grid\"},{\"id\":\"1781\",\"type\":\"LinearAxis\"},{\"id\":\"1785\",\"type\":\"Grid\"},{\"id\":\"1794\",\"type\":\"BoxAnnotation\"},{\"id\":\"1805\",\"type\":\"GlyphRenderer\"}],\"title\":{\"id\":\"1801\",\"type\":\"Title\"},\"toolbar\":{\"id\":\"1792\",\"type\":\"Toolbar\"},\"x_range\":{\"id\":\"1768\",\"type\":\"DataRange1d\"},\"x_scale\":{\"id\":\"1772\",\"type\":\"LinearScale\"},\"y_range\":{\"id\":\"1770\",\"type\":\"DataRange1d\"},\"y_scale\":{\"id\":\"1774\",\"type\":\"LinearScale\"}},\"id\":\"1767\",\"subtype\":\"Figure\",\"type\":\"Plot\"},{\"attributes\":{\"dimension\":1,\"plot\":{\"id\":\"1767\",\"subtype\":\"Figure\",\"type\":\"Plot\"},\"ticker\":{\"id\":\"1782\",\"type\":\"BasicTicker\"}},\"id\":\"1785\",\"type\":\"Grid\"},{\"attributes\":{\"fill_alpha\":{\"value\":0.1},\"fill_color\":{\"value\":\"#1f77b4\"},\"line_alpha\":{\"value\":0.1},\"line_color\":{\"value\":\"#1f77b4\"},\"x\":{\"field\":\"x\"},\"y\":{\"field\":\"y\"}},\"id\":\"1804\",\"type\":\"Circle\"},{\"attributes\":{},\"id\":\"1877\",\"type\":\"Selection\"},{\"attributes\":{},\"id\":\"1791\",\"type\":\"HelpTool\"},{\"attributes\":{\"source\":{\"id\":\"1802\",\"type\":\"ColumnDataSource\"}},\"id\":\"1806\",\"type\":\"CDSView\"},{\"attributes\":{},\"id\":\"1872\",\"type\":\"BasicTickFormatter\"},{\"attributes\":{},\"id\":\"1786\",\"type\":\"PanTool\"},{\"attributes\":{\"fill_color\":{\"value\":\"#1f77b4\"},\"line_color\":{\"value\":\"#1f77b4\"},\"x\":{\"field\":\"x\"},\"y\":{\"field\":\"y\"}},\"id\":\"1803\",\"type\":\"Circle\"},{\"attributes\":{\"callback\":null,\"data\":{\"x\":{\"__ndarray__\":\"Z+CRwgY1D0A45cBhWEwTQMik0MMaOA1AoC2MmekTDUC1UHRVh7kOQGPVIMzt/hZAT05Z8h3hD0CXu+AdKtcMQKuOwS+a+g1AWQeblUgNDUDsBI/KqJ0OQOAKcmHuZA1AHVyVn68cEEAPiGsQQTAMQMTuO4bHjhJAl3vcEhRKDUDR2G7tCoYNQMGQ1a2euxBABzjOt0/4EUAwAENFi3oUQFi1/1yPHQ5AlAczt4ylDUC/O0OC8yMQQJEVsqmpGw1A4As48A8QEkD9u+O5Y6YPQJSKIZRSCw1AStro91gdEEAQ8otcgVIVQJZTTO8sSxFA2l+P7L6BEUBKUHBvhmgQQFyZCemdeA5ACX+OqLPbEkBA83uTjTwMQBqOhAnlrQ9ADywFrG6ADECgT+RJ0hETQBT9yhhZkQxAnrPDZwTWEEB8lXzsLjAMQPZZCu1BJQ1AvfMwWYHmD0ACXQN0whANQL90pERcthNAmAQcAHmYDUAXI7fLI8wPQLfOAXrIYQ1AnrkDTEsyE0ATIHUBUIkPQPIyN51sDBBAA3jqFT+DEkAxIWrLTi0TQGnPG9337g9AzkzV4vi+DEBWtHvqPzwRQHhTHbRP/g1AF0a8bY2ND0BETqHrqYYQQMrUTfd0tAxAGKfOYcbVEED8QVUzCBMQQCZ4O6nMSA1AaHtwTleNE0BA872vX44RQG/QA8TJSg5AebmhjGVQEEBiGTRXeq8QQGwgfnpDeBJAey4yhfcqDECC7tzFRY8SQD0jlVJlKg9AVNAn0RYwDEC8sPM+pwsMQIxqzzR6aAxADBP8JZjQFEAEuDA9J6YUQEBRVXgCDw1ApsQBNhiJDEDNcGZo+lwOQDKRkFBMiQ5AF0HnXvXiDEBo3ybtVwMNQL4raWIN+Q1AuaExrEUMEECNWy/6yAUOQPJZngd3Nw1APu9jWAdAEEAUziwRwWsPQEHK/GFTwA9ADnw11c3kE0BhwuyOWtsOQNvk6NjewgxAOEpenWO0EUDCv+cLStYPQNt6uKoNegxAHzcVDFthDUBcbrQMBmkNQIJ2RfgwHhJAF40QeSZPDEByaR3RFPQMQHkSQziHvwxArif8Ss4mEkBeTuh5YDUOQPwhkRGrshBATuh5YJW1FEAFIQ8z6nARQDOXCuAcIBJAeDod6YjjDUAZwISfciMPQIbOpZecGw1A+e2QB8c5DEB/B3GrQSwNQNyjs6OjGhBAzE3MYZSTDEBwqwdpGQsOQH7kc3oguhBAocuKl11WDEDw9XuDq4MMQJdMBGDyhQ5AbNaVpnMjD0AaRf+Ze98MQKAHDMzp4hFAL4LOvep5EUDOXksCsyYNQEG4Agr17AxATzezClnxEEB7WeqLSlMMQPlUZxjrNRJAn0ujjxp3DUB0pKeGBagPQFTSNyf+qQ1ATjp4wwkaEEBtKt4KWQQQQIqocKF+KQ5Ax1L739cBEUBiZ23HkikNQPOvQE9eDw5AnitjpmGmDUByVsAUUG4PQFm1c7OiuhJAK0y+XR+DFEBR9CPyG/oRQA==\",\"dtype\":\"float64\",\"shape\":[143]},\"y\":{\"__ndarray__\":\"Z7RVSWSnKUCK6q2BrWITQPka3ZyllxRAAAAAAAAAKEAAAAAAAAAoQDNdmQF4XRNADamieJXBOUAAAAAAAAAoQAAAAAAAAChAAAAAAAAALECCpBUAX/UiQMjQsYNKKkVAAAAAAAAALEBKKH0h5Jw4QAAAAAAAAChAAAAAAAAAKEDCogFAvg5XQAAAAAAAAChAAAAAAAAAKEBJjRpd75gUQAAAAAAAAChAMvFYfb/6HUAS9YJPc+IqQAAAAAAAAChAaw97oYC3SEBhN2xblFJmQAAAAAAAAChAAAAAAAAAKEAAAAAAAAAkQAAAAAAAAChAAAAAAAAAKEAAAAAAAAAkQLTREMCTPwFAAAAAAAAAHEDx8yGgqS4jQKvEAoCfHVFAAAAAAAAAKEAAAAAAAAAkQAAAAAAAACRAAAAAAAAAJECpN/6fHtFWQAAAAAAAAChA23sjgLxjJEBAv+/fvF4qQAAAAAAAwFNAVmIBwG+gPUBIDwkAik1GQAAAAAAAADlA6KMIgFyjPkAvZQkAyAAyQAAAAAAAABRAiObw/5kLWUAAAAAAAIBBQLaK9l8EE0lAMq8CAPBgNkC39AWAbG00QG0V7b8IhSBAAAAAAAAAJEAAAAAAAAAkQGl4DsDh4VpAHbX8n0cQRUBIDwkACl0kQNxMAUDAfVBAAAAAAAAAOEAAAAAAAAA0QAAAAAAAACRAAAAAAAAAFEALBfA/x9E5QFUQ6r9aWxJAPHX231Qka0B2Zqtgjl35Pw7/RMB8zRZAAAAAAAAAEECwiOW/1XwQQP8sr7+Z9hpAAAAAAACAQ0CLhhCATbo1QJtP4/8KiBlAAAAAAAAAJEAC4Onf/1NmQAAAAAAAABRAcbH9v0UGF0AAAAAAAAAkQH9uBaCTK0hAAAAAAAAAKEAu+/nf32U1QAAAAAAAABxAAAAAAAAAJEBAqwZAYIRNQN6yAeDxMTxAEEvav3inDEAAAAAAAAAkQAAAAAAAACRAUq74n19GREAAAAAAAAAkQAAAAAAAACRADiWkf5MHFECukAPAQjRCQIr1/B/WM1VARHP4/8z5O0AAAAAAAAAkQJqS7t+j5SVAAAAAAAAAHEAAAAAAAAAQQNfz+x9csEJAG9EDQNETVEDsgiRgMj0rQHju+z+gYFNAQWj7X4e/UEBJYu7/iMUlQAAAAAAAAChA+Bn2/5qBBEAAAAAAAAAkQAAAAAAAACRA8OAGADeGQkAAAAAAAAAkQGcSDiDwqhJAku/vv9cnO0CEXfufz+NWQEdqDAB2oCVAAAAAAAAAJEAAAAAAAAAkQJnV+b+8gEZA1Gb3PxtKYkAAAAAAAAAkQGfn+l9qZFZAAAAAAAAAJECtaf9/c1hPQBLvCMCi3kVAAAAAAAAAPkA+SRUg5WlmQAAAAAAAAChAAAAAAAAAFECEMujfiVNcQAAAAAAAACRAAAAAAAAAJEBktfl/1eNDQNCL6t+7PT1Al7IEAORRRkAAAAAAAAAoQAAAAAAAAChAtl/jnz4EXEAAAAAAAAAkQA==\",\"dtype\":\"float64\",\"shape\":[143]}},\"selected\":{\"id\":\"1877\",\"type\":\"Selection\"},\"selection_policy\":{\"id\":\"1876\",\"type\":\"UnionRenderers\"}},\"id\":\"1802\",\"type\":\"ColumnDataSource\"},{\"attributes\":{\"bottom_units\":\"screen\",\"fill_alpha\":{\"value\":0.5},\"fill_color\":{\"value\":\"lightgrey\"},\"left_units\":\"screen\",\"level\":\"overlay\",\"line_alpha\":{\"value\":1.0},\"line_color\":{\"value\":\"black\"},\"line_dash\":[4,4],\"line_width\":{\"value\":2},\"plot\":null,\"render_mode\":\"css\",\"right_units\":\"screen\",\"top_units\":\"screen\"},\"id\":\"1794\",\"type\":\"BoxAnnotation\"},{\"attributes\":{},\"id\":\"1782\",\"type\":\"BasicTicker\"},{\"attributes\":{\"axis_label\":\"Magnitud\",\"formatter\":{\"id\":\"1872\",\"type\":\"BasicTickFormatter\"},\"plot\":{\"id\":\"1767\",\"subtype\":\"Figure\",\"type\":\"Plot\"},\"ticker\":{\"id\":\"1777\",\"type\":\"BasicTicker\"}},\"id\":\"1776\",\"type\":\"LinearAxis\"},{\"attributes\":{\"callback\":null},\"id\":\"1768\",\"type\":\"DataRange1d\"},{\"attributes\":{\"overlay\":{\"id\":\"1794\",\"type\":\"BoxAnnotation\"}},\"id\":\"1788\",\"type\":\"BoxZoomTool\"},{\"attributes\":{},\"id\":\"1772\",\"type\":\"LinearScale\"},{\"attributes\":{\"active_drag\":\"auto\",\"active_inspect\":\"auto\",\"active_multi\":null,\"active_scroll\":\"auto\",\"active_tap\":\"auto\",\"tools\":[{\"id\":\"1786\",\"type\":\"PanTool\"},{\"id\":\"1787\",\"type\":\"WheelZoomTool\"},{\"id\":\"1788\",\"type\":\"BoxZoomTool\"},{\"id\":\"1789\",\"type\":\"SaveTool\"},{\"id\":\"1790\",\"type\":\"ResetTool\"},{\"id\":\"1791\",\"type\":\"HelpTool\"}]},\"id\":\"1792\",\"type\":\"Toolbar\"},{\"attributes\":{},\"id\":\"1789\",\"type\":\"SaveTool\"},{\"attributes\":{\"data_source\":{\"id\":\"1802\",\"type\":\"ColumnDataSource\"},\"glyph\":{\"id\":\"1803\",\"type\":\"Circle\"},\"hover_glyph\":null,\"muted_glyph\":null,\"nonselection_glyph\":{\"id\":\"1804\",\"type\":\"Circle\"},\"selection_glyph\":null,\"view\":{\"id\":\"1806\",\"type\":\"CDSView\"}},\"id\":\"1805\",\"type\":\"GlyphRenderer\"},{\"attributes\":{},\"id\":\"1774\",\"type\":\"LinearScale\"},{\"attributes\":{\"callback\":null},\"id\":\"1770\",\"type\":\"DataRange1d\"},{\"attributes\":{},\"id\":\"1787\",\"type\":\"WheelZoomTool\"},{\"attributes\":{},\"id\":\"1874\",\"type\":\"BasicTickFormatter\"},{\"attributes\":{},\"id\":\"1777\",\"type\":\"BasicTicker\"},{\"attributes\":{\"plot\":{\"id\":\"1767\",\"subtype\":\"Figure\",\"type\":\"Plot\"},\"ticker\":{\"id\":\"1777\",\"type\":\"BasicTicker\"}},\"id\":\"1780\",\"type\":\"Grid\"},{\"attributes\":{\"plot\":null,\"text\":\"\",\"text_font_size\":{\"value\":\"15pt\"}},\"id\":\"1801\",\"type\":\"Title\"},{\"attributes\":{},\"id\":\"1790\",\"type\":\"ResetTool\"},{\"attributes\":{},\"id\":\"1876\",\"type\":\"UnionRenderers\"},{\"attributes\":{\"axis_label\":\"Profundidad\",\"formatter\":{\"id\":\"1874\",\"type\":\"BasicTickFormatter\"},\"plot\":{\"id\":\"1767\",\"subtype\":\"Figure\",\"type\":\"Plot\"},\"ticker\":{\"id\":\"1782\",\"type\":\"BasicTicker\"}},\"id\":\"1781\",\"type\":\"LinearAxis\"}],\"root_ids\":[\"1767\"]},\"title\":\"Bokeh Application\",\"version\":\"1.0.4\"}};\n",
       "  var render_items = [{\"docid\":\"fe6ca396-38d0-4311-a458-cad734fa8593\",\"roots\":{\"1767\":\"56bde4f1-398f-4e32-af42-67a9642f88c4\"}}];\n",
       "  root.Bokeh.embed.embed_items_notebook(docs_json, render_items);\n",
       "\n",
       "  }\n",
       "  if (root.Bokeh !== undefined) {\n",
       "    embed_document(root);\n",
       "  } else {\n",
       "    var attempts = 0;\n",
       "    var timer = setInterval(function(root) {\n",
       "      if (root.Bokeh !== undefined) {\n",
       "        embed_document(root);\n",
       "        clearInterval(timer);\n",
       "      }\n",
       "      attempts++;\n",
       "      if (attempts > 100) {\n",
       "        console.log(\"Bokeh: ERROR: Unable to run BokehJS code because BokehJS library is missing\");\n",
       "        clearInterval(timer);\n",
       "      }\n",
       "    }, 10, root)\n",
       "  }\n",
       "})(window);"
      ],
      "application/vnd.bokehjs_exec.v0+json": ""
     },
     "metadata": {
      "application/vnd.bokehjs_exec.v0+json": {
       "id": "1767"
      }
     },
     "output_type": "display_data"
    }
   ],
   "source": [
    "plot6 = figure(plot_width=1200, plot_height=600, x_axis_label='Magnitud', y_axis_label='Profundidad')\n",
    "plot6.title.text_font_size = '15pt'\n",
    "plot6.circle(nuevo['magnitud'], nuevo['depth_value'])\n",
    "show(plot6)"
   ]
  },
  {
   "cell_type": "code",
   "execution_count": 11,
   "metadata": {},
   "outputs": [
    {
     "data": {
      "text/html": [
       "\n",
       "\n",
       "\n",
       "\n",
       "\n",
       "\n",
       "  <div class=\"bk-root\" id=\"056a2f68-4307-4f29-9c7e-e5865a1ce6cd\" data-root-id=\"1933\"></div>\n"
      ]
     },
     "metadata": {},
     "output_type": "display_data"
    },
    {
     "data": {
      "application/javascript": [
       "(function(root) {\n",
       "  function embed_document(root) {\n",
       "    \n",
       "  var docs_json = {\"948c48f6-a27f-4934-8e67-59da06d267ad\":{\"roots\":{\"references\":[{\"attributes\":{\"below\":[{\"id\":\"1943\",\"type\":\"LinearAxis\"}],\"left\":[{\"id\":\"1948\",\"type\":\"LinearAxis\"}],\"plot_width\":1200,\"renderers\":[{\"id\":\"1943\",\"type\":\"LinearAxis\"},{\"id\":\"1947\",\"type\":\"Grid\"},{\"id\":\"1948\",\"type\":\"LinearAxis\"},{\"id\":\"1952\",\"type\":\"Grid\"},{\"id\":\"1961\",\"type\":\"BoxAnnotation\"},{\"id\":\"1971\",\"type\":\"GlyphRenderer\"}],\"title\":{\"id\":\"1932\",\"type\":\"Title\"},\"toolbar\":{\"id\":\"1959\",\"type\":\"Toolbar\"},\"x_range\":{\"id\":\"1935\",\"type\":\"DataRange1d\"},\"x_scale\":{\"id\":\"1939\",\"type\":\"LinearScale\"},\"y_range\":{\"id\":\"1937\",\"type\":\"DataRange1d\"},\"y_scale\":{\"id\":\"1941\",\"type\":\"LinearScale\"}},\"id\":\"1933\",\"subtype\":\"Figure\",\"type\":\"Plot\"},{\"attributes\":{\"plot\":{\"id\":\"1933\",\"subtype\":\"Figure\",\"type\":\"Plot\"},\"ticker\":{\"id\":\"1944\",\"type\":\"BasicTicker\"}},\"id\":\"1947\",\"type\":\"Grid\"},{\"attributes\":{},\"id\":\"2048\",\"type\":\"BasicTickFormatter\"},{\"attributes\":{\"callback\":null,\"data\":{\"x\":{\"__ndarray__\":\"Z+CRwgY1D0A45cBhWEwTQMik0MMaOA1AoC2MmekTDUC1UHRVh7kOQGPVIMzt/hZAT05Z8h3hD0CXu+AdKtcMQKuOwS+a+g1AWQeblUgNDUDsBI/KqJ0OQOAKcmHuZA1AHVyVn68cEEAPiGsQQTAMQMTuO4bHjhJAl3vcEhRKDUDR2G7tCoYNQMGQ1a2euxBABzjOt0/4EUAwAENFi3oUQFi1/1yPHQ5AlAczt4ylDUC/O0OC8yMQQJEVsqmpGw1A4As48A8QEkD9u+O5Y6YPQJSKIZRSCw1AStro91gdEEAQ8otcgVIVQJZTTO8sSxFA2l+P7L6BEUBKUHBvhmgQQFyZCemdeA5ACX+OqLPbEkBA83uTjTwMQBqOhAnlrQ9ADywFrG6ADECgT+RJ0hETQBT9yhhZkQxAnrPDZwTWEEB8lXzsLjAMQPZZCu1BJQ1AvfMwWYHmD0ACXQN0whANQL90pERcthNAmAQcAHmYDUAXI7fLI8wPQLfOAXrIYQ1AnrkDTEsyE0ATIHUBUIkPQPIyN51sDBBAA3jqFT+DEkAxIWrLTi0TQGnPG9337g9AzkzV4vi+DEBWtHvqPzwRQHhTHbRP/g1AF0a8bY2ND0BETqHrqYYQQMrUTfd0tAxAGKfOYcbVEED8QVUzCBMQQCZ4O6nMSA1AaHtwTleNE0BA872vX44RQG/QA8TJSg5AebmhjGVQEEBiGTRXeq8QQGwgfnpDeBJAey4yhfcqDECC7tzFRY8SQD0jlVJlKg9AVNAn0RYwDEC8sPM+pwsMQIxqzzR6aAxADBP8JZjQFEAEuDA9J6YUQEBRVXgCDw1ApsQBNhiJDEDNcGZo+lwOQDKRkFBMiQ5AF0HnXvXiDEBo3ybtVwMNQL4raWIN+Q1AuaExrEUMEECNWy/6yAUOQPJZngd3Nw1APu9jWAdAEEAUziwRwWsPQEHK/GFTwA9ADnw11c3kE0BhwuyOWtsOQNvk6NjewgxAOEpenWO0EUDCv+cLStYPQNt6uKoNegxAHzcVDFthDUBcbrQMBmkNQIJ2RfgwHhJAF40QeSZPDEByaR3RFPQMQHkSQziHvwxArif8Ss4mEkBeTuh5YDUOQPwhkRGrshBATuh5YJW1FEAFIQ8z6nARQDOXCuAcIBJAeDod6YjjDUAZwISfciMPQIbOpZecGw1A+e2QB8c5DEB/B3GrQSwNQNyjs6OjGhBAzE3MYZSTDEBwqwdpGQsOQH7kc3oguhBAocuKl11WDEDw9XuDq4MMQJdMBGDyhQ5AbNaVpnMjD0AaRf+Ze98MQKAHDMzp4hFAL4LOvep5EUDOXksCsyYNQEG4Agr17AxATzezClnxEEB7WeqLSlMMQPlUZxjrNRJAn0ujjxp3DUB0pKeGBagPQFTSNyf+qQ1ATjp4wwkaEEBtKt4KWQQQQIqocKF+KQ5Ax1L739cBEUBiZ23HkikNQPOvQE9eDw5AnitjpmGmDUByVsAUUG4PQFm1c7OiuhJAK0y+XR+DFEBR9CPyG/oRQA==\",\"dtype\":\"float64\",\"shape\":[143]},\"y\":[31,64,43,39,35,56,38,40,37,42,42,36,51,39,46,33,44,38,43,63,46,42,40,40,53,73,45,57,55,47,43,45,32,55,34,57,36,39,25,83,57,49,26,24,112,59,30,44,33,40,64,77,73,46,14,61,54,45,26,19,66,47,42,31,29,22,45,52,62,47,46,63,10,22,47,55,44,24,30,45,44,30,40,60,59,60,50,60,43,50,82,46,35,55,26,35,22,43,54,39,45,42,62,63,54,70,39,66,51,29,34,60,52,25,28,46,41,20,38,27,26,35,50,45,49,35,27,30,38,22,61,38,67,58,36,69,50,30,57,52,70,75,57]},\"selected\":{\"id\":\"2051\",\"type\":\"Selection\"},\"selection_policy\":{\"id\":\"2050\",\"type\":\"UnionRenderers\"}},\"id\":\"1968\",\"type\":\"ColumnDataSource\"},{\"attributes\":{},\"id\":\"2050\",\"type\":\"UnionRenderers\"},{\"attributes\":{\"callback\":null},\"id\":\"1935\",\"type\":\"DataRange1d\"},{\"attributes\":{\"plot\":null,\"text\":\"Magnitud vs recuento de fases asociado a la calidad\",\"text_font_size\":{\"value\":\"15pt\"}},\"id\":\"1932\",\"type\":\"Title\"},{\"attributes\":{},\"id\":\"1939\",\"type\":\"LinearScale\"},{\"attributes\":{},\"id\":\"1949\",\"type\":\"BasicTicker\"},{\"attributes\":{},\"id\":\"2051\",\"type\":\"Selection\"},{\"attributes\":{\"dimension\":1,\"plot\":{\"id\":\"1933\",\"subtype\":\"Figure\",\"type\":\"Plot\"},\"ticker\":{\"id\":\"1949\",\"type\":\"BasicTicker\"}},\"id\":\"1952\",\"type\":\"Grid\"},{\"attributes\":{\"callback\":null},\"id\":\"1937\",\"type\":\"DataRange1d\"},{\"attributes\":{\"fill_alpha\":{\"value\":0.1},\"fill_color\":{\"value\":\"#1f77b4\"},\"line_alpha\":{\"value\":0.1},\"line_color\":{\"value\":\"#1f77b4\"},\"x\":{\"field\":\"x\"},\"y\":{\"field\":\"y\"}},\"id\":\"1970\",\"type\":\"Circle\"},{\"attributes\":{},\"id\":\"1944\",\"type\":\"BasicTicker\"},{\"attributes\":{},\"id\":\"2046\",\"type\":\"BasicTickFormatter\"},{\"attributes\":{\"data_source\":{\"id\":\"1968\",\"type\":\"ColumnDataSource\"},\"glyph\":{\"id\":\"1969\",\"type\":\"Circle\"},\"hover_glyph\":null,\"muted_glyph\":null,\"nonselection_glyph\":{\"id\":\"1970\",\"type\":\"Circle\"},\"selection_glyph\":null,\"view\":{\"id\":\"1972\",\"type\":\"CDSView\"}},\"id\":\"1971\",\"type\":\"GlyphRenderer\"},{\"attributes\":{\"source\":{\"id\":\"1968\",\"type\":\"ColumnDataSource\"}},\"id\":\"1972\",\"type\":\"CDSView\"},{\"attributes\":{\"axis_label\":\"recuento de fases asociado a la calidad\",\"formatter\":{\"id\":\"2048\",\"type\":\"BasicTickFormatter\"},\"plot\":{\"id\":\"1933\",\"subtype\":\"Figure\",\"type\":\"Plot\"},\"ticker\":{\"id\":\"1949\",\"type\":\"BasicTicker\"}},\"id\":\"1948\",\"type\":\"LinearAxis\"},{\"attributes\":{\"axis_label\":\"Magnitud\",\"formatter\":{\"id\":\"2046\",\"type\":\"BasicTickFormatter\"},\"plot\":{\"id\":\"1933\",\"subtype\":\"Figure\",\"type\":\"Plot\"},\"ticker\":{\"id\":\"1944\",\"type\":\"BasicTicker\"}},\"id\":\"1943\",\"type\":\"LinearAxis\"},{\"attributes\":{},\"id\":\"1941\",\"type\":\"LinearScale\"},{\"attributes\":{\"overlay\":{\"id\":\"1961\",\"type\":\"BoxAnnotation\"}},\"id\":\"1955\",\"type\":\"BoxZoomTool\"},{\"attributes\":{},\"id\":\"1956\",\"type\":\"SaveTool\"},{\"attributes\":{},\"id\":\"1954\",\"type\":\"WheelZoomTool\"},{\"attributes\":{\"bottom_units\":\"screen\",\"fill_alpha\":{\"value\":0.5},\"fill_color\":{\"value\":\"lightgrey\"},\"left_units\":\"screen\",\"level\":\"overlay\",\"line_alpha\":{\"value\":1.0},\"line_color\":{\"value\":\"black\"},\"line_dash\":[4,4],\"line_width\":{\"value\":2},\"plot\":null,\"render_mode\":\"css\",\"right_units\":\"screen\",\"top_units\":\"screen\"},\"id\":\"1961\",\"type\":\"BoxAnnotation\"},{\"attributes\":{},\"id\":\"1957\",\"type\":\"ResetTool\"},{\"attributes\":{},\"id\":\"1953\",\"type\":\"PanTool\"},{\"attributes\":{\"active_drag\":\"auto\",\"active_inspect\":\"auto\",\"active_multi\":null,\"active_scroll\":\"auto\",\"active_tap\":\"auto\",\"tools\":[{\"id\":\"1953\",\"type\":\"PanTool\"},{\"id\":\"1954\",\"type\":\"WheelZoomTool\"},{\"id\":\"1955\",\"type\":\"BoxZoomTool\"},{\"id\":\"1956\",\"type\":\"SaveTool\"},{\"id\":\"1957\",\"type\":\"ResetTool\"},{\"id\":\"1958\",\"type\":\"HelpTool\"}]},\"id\":\"1959\",\"type\":\"Toolbar\"},{\"attributes\":{},\"id\":\"1958\",\"type\":\"HelpTool\"},{\"attributes\":{\"fill_color\":{\"value\":\"#1f77b4\"},\"line_color\":{\"value\":\"#1f77b4\"},\"x\":{\"field\":\"x\"},\"y\":{\"field\":\"y\"}},\"id\":\"1969\",\"type\":\"Circle\"}],\"root_ids\":[\"1933\"]},\"title\":\"Bokeh Application\",\"version\":\"1.0.4\"}};\n",
       "  var render_items = [{\"docid\":\"948c48f6-a27f-4934-8e67-59da06d267ad\",\"roots\":{\"1933\":\"056a2f68-4307-4f29-9c7e-e5865a1ce6cd\"}}];\n",
       "  root.Bokeh.embed.embed_items_notebook(docs_json, render_items);\n",
       "\n",
       "  }\n",
       "  if (root.Bokeh !== undefined) {\n",
       "    embed_document(root);\n",
       "  } else {\n",
       "    var attempts = 0;\n",
       "    var timer = setInterval(function(root) {\n",
       "      if (root.Bokeh !== undefined) {\n",
       "        embed_document(root);\n",
       "        clearInterval(timer);\n",
       "      }\n",
       "      attempts++;\n",
       "      if (attempts > 100) {\n",
       "        console.log(\"Bokeh: ERROR: Unable to run BokehJS code because BokehJS library is missing\");\n",
       "        clearInterval(timer);\n",
       "      }\n",
       "    }, 10, root)\n",
       "  }\n",
       "})(window);"
      ],
      "application/vnd.bokehjs_exec.v0+json": ""
     },
     "metadata": {
      "application/vnd.bokehjs_exec.v0+json": {
       "id": "1933"
      }
     },
     "output_type": "display_data"
    }
   ],
   "source": [
    "plot7 = figure(plot_width=1200, plot_height=600, x_axis_label='Magnitud', y_axis_label='recuento de fases asociado a la calidad', title='Magnitud vs recuento de fases asociado a la calidad')\n",
    "plot7.title.text_font_size = '15pt'\n",
    "plot7.circle(nuevo['magnitud'], nuevo['quality_associatedPhaseCount'])\n",
    "show(plot7)"
   ]
  },
  {
   "cell_type": "code",
   "execution_count": 12,
   "metadata": {},
   "outputs": [
    {
     "data": {
      "text/html": [
       "\n",
       "\n",
       "\n",
       "\n",
       "\n",
       "\n",
       "  <div class=\"bk-root\" id=\"6e4a5772-a259-4b03-926f-3be8375146ba\" data-root-id=\"2101\"></div>\n"
      ]
     },
     "metadata": {},
     "output_type": "display_data"
    },
    {
     "data": {
      "application/javascript": [
       "(function(root) {\n",
       "  function embed_document(root) {\n",
       "    \n",
       "  var docs_json = {\"3c01aaf4-cb87-4de2-84e0-76e9451dae50\":{\"roots\":{\"references\":[{\"attributes\":{\"below\":[{\"id\":\"2111\",\"type\":\"LinearAxis\"}],\"left\":[{\"id\":\"2116\",\"type\":\"LinearAxis\"}],\"plot_width\":1200,\"renderers\":[{\"id\":\"2111\",\"type\":\"LinearAxis\"},{\"id\":\"2115\",\"type\":\"Grid\"},{\"id\":\"2116\",\"type\":\"LinearAxis\"},{\"id\":\"2120\",\"type\":\"Grid\"},{\"id\":\"2129\",\"type\":\"BoxAnnotation\"},{\"id\":\"2139\",\"type\":\"GlyphRenderer\"}],\"title\":{\"id\":\"2100\",\"type\":\"Title\"},\"toolbar\":{\"id\":\"2127\",\"type\":\"Toolbar\"},\"x_range\":{\"id\":\"2103\",\"type\":\"DataRange1d\"},\"x_scale\":{\"id\":\"2107\",\"type\":\"LinearScale\"},\"y_range\":{\"id\":\"2105\",\"type\":\"DataRange1d\"},\"y_scale\":{\"id\":\"2109\",\"type\":\"LinearScale\"}},\"id\":\"2101\",\"subtype\":\"Figure\",\"type\":\"Plot\"},{\"attributes\":{\"fill_alpha\":{\"value\":0.1},\"fill_color\":{\"value\":\"#1f77b4\"},\"line_alpha\":{\"value\":0.1},\"line_color\":{\"value\":\"#1f77b4\"},\"x\":{\"field\":\"x\"},\"y\":{\"field\":\"y\"}},\"id\":\"2138\",\"type\":\"Circle\"},{\"attributes\":{},\"id\":\"2107\",\"type\":\"LinearScale\"},{\"attributes\":{\"callback\":null,\"data\":{\"x\":{\"__ndarray__\":\"Z+CRwgY1D0A45cBhWEwTQMik0MMaOA1AoC2MmekTDUC1UHRVh7kOQGPVIMzt/hZAT05Z8h3hD0CXu+AdKtcMQKuOwS+a+g1AWQeblUgNDUDsBI/KqJ0OQOAKcmHuZA1AHVyVn68cEEAPiGsQQTAMQMTuO4bHjhJAl3vcEhRKDUDR2G7tCoYNQMGQ1a2euxBABzjOt0/4EUAwAENFi3oUQFi1/1yPHQ5AlAczt4ylDUC/O0OC8yMQQJEVsqmpGw1A4As48A8QEkD9u+O5Y6YPQJSKIZRSCw1AStro91gdEEAQ8otcgVIVQJZTTO8sSxFA2l+P7L6BEUBKUHBvhmgQQFyZCemdeA5ACX+OqLPbEkBA83uTjTwMQBqOhAnlrQ9ADywFrG6ADECgT+RJ0hETQBT9yhhZkQxAnrPDZwTWEEB8lXzsLjAMQPZZCu1BJQ1AvfMwWYHmD0ACXQN0whANQL90pERcthNAmAQcAHmYDUAXI7fLI8wPQLfOAXrIYQ1AnrkDTEsyE0ATIHUBUIkPQPIyN51sDBBAA3jqFT+DEkAxIWrLTi0TQGnPG9337g9AzkzV4vi+DEBWtHvqPzwRQHhTHbRP/g1AF0a8bY2ND0BETqHrqYYQQMrUTfd0tAxAGKfOYcbVEED8QVUzCBMQQCZ4O6nMSA1AaHtwTleNE0BA872vX44RQG/QA8TJSg5AebmhjGVQEEBiGTRXeq8QQGwgfnpDeBJAey4yhfcqDECC7tzFRY8SQD0jlVJlKg9AVNAn0RYwDEC8sPM+pwsMQIxqzzR6aAxADBP8JZjQFEAEuDA9J6YUQEBRVXgCDw1ApsQBNhiJDEDNcGZo+lwOQDKRkFBMiQ5AF0HnXvXiDEBo3ybtVwMNQL4raWIN+Q1AuaExrEUMEECNWy/6yAUOQPJZngd3Nw1APu9jWAdAEEAUziwRwWsPQEHK/GFTwA9ADnw11c3kE0BhwuyOWtsOQNvk6NjewgxAOEpenWO0EUDCv+cLStYPQNt6uKoNegxAHzcVDFthDUBcbrQMBmkNQIJ2RfgwHhJAF40QeSZPDEByaR3RFPQMQHkSQziHvwxArif8Ss4mEkBeTuh5YDUOQPwhkRGrshBATuh5YJW1FEAFIQ8z6nARQDOXCuAcIBJAeDod6YjjDUAZwISfciMPQIbOpZecGw1A+e2QB8c5DEB/B3GrQSwNQNyjs6OjGhBAzE3MYZSTDEBwqwdpGQsOQH7kc3oguhBAocuKl11WDEDw9XuDq4MMQJdMBGDyhQ5AbNaVpnMjD0AaRf+Ze98MQKAHDMzp4hFAL4LOvep5EUDOXksCsyYNQEG4Agr17AxATzezClnxEEB7WeqLSlMMQPlUZxjrNRJAn0ujjxp3DUB0pKeGBagPQFTSNyf+qQ1ATjp4wwkaEEBtKt4KWQQQQIqocKF+KQ5Ax1L739cBEUBiZ23HkikNQPOvQE9eDw5AnitjpmGmDUByVsAUUG4PQFm1c7OiuhJAK0y+XR+DFEBR9CPyG/oRQA==\",\"dtype\":\"float64\",\"shape\":[143]},\"y\":[31,58,39,37,31,46,31,40,35,35,34,36,45,38,45,31,40,36,36,61,37,34,40,36,52,72,42,53,52,42,39,41,29,45,34,56,36,32,13,67,54,46,22,22,106,53,29,35,33,35,59,76,33,46,14,53,54,41,19,15,58,41,38,31,28,14,45,46,60,45,39,57,10,21,44,54,40,24,27,44,40,24,38,50,52,60,39,49,42,50,63,36,32,51,20,32,21,42,51,33,34,34,47,57,53,69,29,61,49,28,29,44,43,16,20,39,39,19,35,25,25,27,46,45,44,35,23,28,37,19,61,30,67,57,32,48,46,26,55,40,61,64,38]},\"selected\":{\"id\":\"2227\",\"type\":\"Selection\"},\"selection_policy\":{\"id\":\"2226\",\"type\":\"UnionRenderers\"}},\"id\":\"2136\",\"type\":\"ColumnDataSource\"},{\"attributes\":{\"data_source\":{\"id\":\"2136\",\"type\":\"ColumnDataSource\"},\"glyph\":{\"id\":\"2137\",\"type\":\"Circle\"},\"hover_glyph\":null,\"muted_glyph\":null,\"nonselection_glyph\":{\"id\":\"2138\",\"type\":\"Circle\"},\"selection_glyph\":null,\"view\":{\"id\":\"2140\",\"type\":\"CDSView\"}},\"id\":\"2139\",\"type\":\"GlyphRenderer\"},{\"attributes\":{\"source\":{\"id\":\"2136\",\"type\":\"ColumnDataSource\"}},\"id\":\"2140\",\"type\":\"CDSView\"},{\"attributes\":{\"active_drag\":\"auto\",\"active_inspect\":\"auto\",\"active_multi\":null,\"active_scroll\":\"auto\",\"active_tap\":\"auto\",\"tools\":[{\"id\":\"2121\",\"type\":\"PanTool\"},{\"id\":\"2122\",\"type\":\"WheelZoomTool\"},{\"id\":\"2123\",\"type\":\"BoxZoomTool\"},{\"id\":\"2124\",\"type\":\"SaveTool\"},{\"id\":\"2125\",\"type\":\"ResetTool\"},{\"id\":\"2126\",\"type\":\"HelpTool\"}]},\"id\":\"2127\",\"type\":\"Toolbar\"},{\"attributes\":{},\"id\":\"2121\",\"type\":\"PanTool\"},{\"attributes\":{},\"id\":\"2122\",\"type\":\"WheelZoomTool\"},{\"attributes\":{\"overlay\":{\"id\":\"2129\",\"type\":\"BoxAnnotation\"}},\"id\":\"2123\",\"type\":\"BoxZoomTool\"},{\"attributes\":{\"plot\":null,\"text\":\"Magnitud vs recuento de fase de calidad utilizada\",\"text_font_size\":{\"value\":\"15pt\"}},\"id\":\"2100\",\"type\":\"Title\"},{\"attributes\":{\"callback\":null},\"id\":\"2105\",\"type\":\"DataRange1d\"},{\"attributes\":{},\"id\":\"2124\",\"type\":\"SaveTool\"},{\"attributes\":{},\"id\":\"2125\",\"type\":\"ResetTool\"},{\"attributes\":{},\"id\":\"2109\",\"type\":\"LinearScale\"},{\"attributes\":{},\"id\":\"2126\",\"type\":\"HelpTool\"},{\"attributes\":{\"callback\":null},\"id\":\"2103\",\"type\":\"DataRange1d\"},{\"attributes\":{},\"id\":\"2112\",\"type\":\"BasicTicker\"},{\"attributes\":{\"axis_label\":\"Magnitud\",\"formatter\":{\"id\":\"2222\",\"type\":\"BasicTickFormatter\"},\"plot\":{\"id\":\"2101\",\"subtype\":\"Figure\",\"type\":\"Plot\"},\"ticker\":{\"id\":\"2112\",\"type\":\"BasicTicker\"}},\"id\":\"2111\",\"type\":\"LinearAxis\"},{\"attributes\":{\"axis_label\":\"recuento de fase de calidad utilizada\",\"formatter\":{\"id\":\"2224\",\"type\":\"BasicTickFormatter\"},\"plot\":{\"id\":\"2101\",\"subtype\":\"Figure\",\"type\":\"Plot\"},\"ticker\":{\"id\":\"2117\",\"type\":\"BasicTicker\"}},\"id\":\"2116\",\"type\":\"LinearAxis\"},{\"attributes\":{\"bottom_units\":\"screen\",\"fill_alpha\":{\"value\":0.5},\"fill_color\":{\"value\":\"lightgrey\"},\"left_units\":\"screen\",\"level\":\"overlay\",\"line_alpha\":{\"value\":1.0},\"line_color\":{\"value\":\"black\"},\"line_dash\":[4,4],\"line_width\":{\"value\":2},\"plot\":null,\"render_mode\":\"css\",\"right_units\":\"screen\",\"top_units\":\"screen\"},\"id\":\"2129\",\"type\":\"BoxAnnotation\"},{\"attributes\":{},\"id\":\"2222\",\"type\":\"BasicTickFormatter\"},{\"attributes\":{\"dimension\":1,\"plot\":{\"id\":\"2101\",\"subtype\":\"Figure\",\"type\":\"Plot\"},\"ticker\":{\"id\":\"2117\",\"type\":\"BasicTicker\"}},\"id\":\"2120\",\"type\":\"Grid\"},{\"attributes\":{},\"id\":\"2224\",\"type\":\"BasicTickFormatter\"},{\"attributes\":{},\"id\":\"2227\",\"type\":\"Selection\"},{\"attributes\":{},\"id\":\"2117\",\"type\":\"BasicTicker\"},{\"attributes\":{\"fill_color\":{\"value\":\"#1f77b4\"},\"line_color\":{\"value\":\"#1f77b4\"},\"x\":{\"field\":\"x\"},\"y\":{\"field\":\"y\"}},\"id\":\"2137\",\"type\":\"Circle\"},{\"attributes\":{},\"id\":\"2226\",\"type\":\"UnionRenderers\"},{\"attributes\":{\"plot\":{\"id\":\"2101\",\"subtype\":\"Figure\",\"type\":\"Plot\"},\"ticker\":{\"id\":\"2112\",\"type\":\"BasicTicker\"}},\"id\":\"2115\",\"type\":\"Grid\"}],\"root_ids\":[\"2101\"]},\"title\":\"Bokeh Application\",\"version\":\"1.0.4\"}};\n",
       "  var render_items = [{\"docid\":\"3c01aaf4-cb87-4de2-84e0-76e9451dae50\",\"roots\":{\"2101\":\"6e4a5772-a259-4b03-926f-3be8375146ba\"}}];\n",
       "  root.Bokeh.embed.embed_items_notebook(docs_json, render_items);\n",
       "\n",
       "  }\n",
       "  if (root.Bokeh !== undefined) {\n",
       "    embed_document(root);\n",
       "  } else {\n",
       "    var attempts = 0;\n",
       "    var timer = setInterval(function(root) {\n",
       "      if (root.Bokeh !== undefined) {\n",
       "        embed_document(root);\n",
       "        clearInterval(timer);\n",
       "      }\n",
       "      attempts++;\n",
       "      if (attempts > 100) {\n",
       "        console.log(\"Bokeh: ERROR: Unable to run BokehJS code because BokehJS library is missing\");\n",
       "        clearInterval(timer);\n",
       "      }\n",
       "    }, 10, root)\n",
       "  }\n",
       "})(window);"
      ],
      "application/vnd.bokehjs_exec.v0+json": ""
     },
     "metadata": {
      "application/vnd.bokehjs_exec.v0+json": {
       "id": "2101"
      }
     },
     "output_type": "display_data"
    }
   ],
   "source": [
    "plot8 = figure(plot_width=1200, plot_height=600, x_axis_label='Magnitud', y_axis_label='recuento de fase de calidad utilizada', title='Magnitud vs recuento de fase de calidad utilizada')\n",
    "plot8.title.text_font_size = '15pt'\n",
    "plot8.circle(nuevo['magnitud'], nuevo['quality_usedPhaseCount'])\n",
    "show(plot8)"
   ]
  },
  {
   "cell_type": "code",
   "execution_count": 13,
   "metadata": {},
   "outputs": [
    {
     "data": {
      "text/html": [
       "\n",
       "\n",
       "\n",
       "\n",
       "\n",
       "\n",
       "  <div class=\"bk-root\" id=\"0a67a810-1885-4d73-8678-b9e6f6e76fc6\" data-root-id=\"2277\"></div>\n"
      ]
     },
     "metadata": {},
     "output_type": "display_data"
    },
    {
     "data": {
      "application/javascript": [
       "(function(root) {\n",
       "  function embed_document(root) {\n",
       "    \n",
       "  var docs_json = {\"8bf1f113-c405-46f1-9dd8-f4f8569ca763\":{\"roots\":{\"references\":[{\"attributes\":{\"below\":[{\"id\":\"2287\",\"type\":\"LinearAxis\"}],\"left\":[{\"id\":\"2292\",\"type\":\"LinearAxis\"}],\"plot_width\":1200,\"renderers\":[{\"id\":\"2287\",\"type\":\"LinearAxis\"},{\"id\":\"2291\",\"type\":\"Grid\"},{\"id\":\"2292\",\"type\":\"LinearAxis\"},{\"id\":\"2296\",\"type\":\"Grid\"},{\"id\":\"2305\",\"type\":\"BoxAnnotation\"},{\"id\":\"2315\",\"type\":\"GlyphRenderer\"}],\"title\":{\"id\":\"2276\",\"type\":\"Title\"},\"toolbar\":{\"id\":\"2303\",\"type\":\"Toolbar\"},\"x_range\":{\"id\":\"2279\",\"type\":\"DataRange1d\"},\"x_scale\":{\"id\":\"2283\",\"type\":\"LinearScale\"},\"y_range\":{\"id\":\"2281\",\"type\":\"DataRange1d\"},\"y_scale\":{\"id\":\"2285\",\"type\":\"LinearScale\"}},\"id\":\"2277\",\"subtype\":\"Figure\",\"type\":\"Plot\"},{\"attributes\":{\"bottom_units\":\"screen\",\"fill_alpha\":{\"value\":0.5},\"fill_color\":{\"value\":\"lightgrey\"},\"left_units\":\"screen\",\"level\":\"overlay\",\"line_alpha\":{\"value\":1.0},\"line_color\":{\"value\":\"black\"},\"line_dash\":[4,4],\"line_width\":{\"value\":2},\"plot\":null,\"render_mode\":\"css\",\"right_units\":\"screen\",\"top_units\":\"screen\"},\"id\":\"2305\",\"type\":\"BoxAnnotation\"},{\"attributes\":{\"active_drag\":\"auto\",\"active_inspect\":\"auto\",\"active_multi\":null,\"active_scroll\":\"auto\",\"active_tap\":\"auto\",\"tools\":[{\"id\":\"2297\",\"type\":\"PanTool\"},{\"id\":\"2298\",\"type\":\"WheelZoomTool\"},{\"id\":\"2299\",\"type\":\"BoxZoomTool\"},{\"id\":\"2300\",\"type\":\"SaveTool\"},{\"id\":\"2301\",\"type\":\"ResetTool\"},{\"id\":\"2302\",\"type\":\"HelpTool\"}]},\"id\":\"2303\",\"type\":\"Toolbar\"},{\"attributes\":{},\"id\":\"2300\",\"type\":\"SaveTool\"},{\"attributes\":{},\"id\":\"2410\",\"type\":\"UnionRenderers\"},{\"attributes\":{},\"id\":\"2406\",\"type\":\"BasicTickFormatter\"},{\"attributes\":{\"plot\":{\"id\":\"2277\",\"subtype\":\"Figure\",\"type\":\"Plot\"},\"ticker\":{\"id\":\"2288\",\"type\":\"BasicTicker\"}},\"id\":\"2291\",\"type\":\"Grid\"},{\"attributes\":{\"callback\":null},\"id\":\"2279\",\"type\":\"DataRange1d\"},{\"attributes\":{\"source\":{\"id\":\"2312\",\"type\":\"ColumnDataSource\"}},\"id\":\"2316\",\"type\":\"CDSView\"},{\"attributes\":{\"plot\":null,\"text\":\"Magnitud vs Numero de estaciones asociadas a la calidad\",\"text_font_size\":{\"value\":\"15pt\"}},\"id\":\"2276\",\"type\":\"Title\"},{\"attributes\":{\"axis_label\":\"Magnitud\",\"formatter\":{\"id\":\"2406\",\"type\":\"BasicTickFormatter\"},\"plot\":{\"id\":\"2277\",\"subtype\":\"Figure\",\"type\":\"Plot\"},\"ticker\":{\"id\":\"2288\",\"type\":\"BasicTicker\"}},\"id\":\"2287\",\"type\":\"LinearAxis\"},{\"attributes\":{},\"id\":\"2301\",\"type\":\"ResetTool\"},{\"attributes\":{},\"id\":\"2293\",\"type\":\"BasicTicker\"},{\"attributes\":{\"data_source\":{\"id\":\"2312\",\"type\":\"ColumnDataSource\"},\"glyph\":{\"id\":\"2313\",\"type\":\"Circle\"},\"hover_glyph\":null,\"muted_glyph\":null,\"nonselection_glyph\":{\"id\":\"2314\",\"type\":\"Circle\"},\"selection_glyph\":null,\"view\":{\"id\":\"2316\",\"type\":\"CDSView\"}},\"id\":\"2315\",\"type\":\"GlyphRenderer\"},{\"attributes\":{},\"id\":\"2298\",\"type\":\"WheelZoomTool\"},{\"attributes\":{},\"id\":\"2411\",\"type\":\"Selection\"},{\"attributes\":{\"callback\":null},\"id\":\"2281\",\"type\":\"DataRange1d\"},{\"attributes\":{},\"id\":\"2283\",\"type\":\"LinearScale\"},{\"attributes\":{\"dimension\":1,\"plot\":{\"id\":\"2277\",\"subtype\":\"Figure\",\"type\":\"Plot\"},\"ticker\":{\"id\":\"2293\",\"type\":\"BasicTicker\"}},\"id\":\"2296\",\"type\":\"Grid\"},{\"attributes\":{\"callback\":null,\"data\":{\"x\":{\"__ndarray__\":\"Z+CRwgY1D0A45cBhWEwTQMik0MMaOA1AoC2MmekTDUC1UHRVh7kOQGPVIMzt/hZAT05Z8h3hD0CXu+AdKtcMQKuOwS+a+g1AWQeblUgNDUDsBI/KqJ0OQOAKcmHuZA1AHVyVn68cEEAPiGsQQTAMQMTuO4bHjhJAl3vcEhRKDUDR2G7tCoYNQMGQ1a2euxBABzjOt0/4EUAwAENFi3oUQFi1/1yPHQ5AlAczt4ylDUC/O0OC8yMQQJEVsqmpGw1A4As48A8QEkD9u+O5Y6YPQJSKIZRSCw1AStro91gdEEAQ8otcgVIVQJZTTO8sSxFA2l+P7L6BEUBKUHBvhmgQQFyZCemdeA5ACX+OqLPbEkBA83uTjTwMQBqOhAnlrQ9ADywFrG6ADECgT+RJ0hETQBT9yhhZkQxAnrPDZwTWEEB8lXzsLjAMQPZZCu1BJQ1AvfMwWYHmD0ACXQN0whANQL90pERcthNAmAQcAHmYDUAXI7fLI8wPQLfOAXrIYQ1AnrkDTEsyE0ATIHUBUIkPQPIyN51sDBBAA3jqFT+DEkAxIWrLTi0TQGnPG9337g9AzkzV4vi+DEBWtHvqPzwRQHhTHbRP/g1AF0a8bY2ND0BETqHrqYYQQMrUTfd0tAxAGKfOYcbVEED8QVUzCBMQQCZ4O6nMSA1AaHtwTleNE0BA872vX44RQG/QA8TJSg5AebmhjGVQEEBiGTRXeq8QQGwgfnpDeBJAey4yhfcqDECC7tzFRY8SQD0jlVJlKg9AVNAn0RYwDEC8sPM+pwsMQIxqzzR6aAxADBP8JZjQFEAEuDA9J6YUQEBRVXgCDw1ApsQBNhiJDEDNcGZo+lwOQDKRkFBMiQ5AF0HnXvXiDEBo3ybtVwMNQL4raWIN+Q1AuaExrEUMEECNWy/6yAUOQPJZngd3Nw1APu9jWAdAEEAUziwRwWsPQEHK/GFTwA9ADnw11c3kE0BhwuyOWtsOQNvk6NjewgxAOEpenWO0EUDCv+cLStYPQNt6uKoNegxAHzcVDFthDUBcbrQMBmkNQIJ2RfgwHhJAF40QeSZPDEByaR3RFPQMQHkSQziHvwxArif8Ss4mEkBeTuh5YDUOQPwhkRGrshBATuh5YJW1FEAFIQ8z6nARQDOXCuAcIBJAeDod6YjjDUAZwISfciMPQIbOpZecGw1A+e2QB8c5DEB/B3GrQSwNQNyjs6OjGhBAzE3MYZSTDEBwqwdpGQsOQH7kc3oguhBAocuKl11WDEDw9XuDq4MMQJdMBGDyhQ5AbNaVpnMjD0AaRf+Ze98MQKAHDMzp4hFAL4LOvep5EUDOXksCsyYNQEG4Agr17AxATzezClnxEEB7WeqLSlMMQPlUZxjrNRJAn0ujjxp3DUB0pKeGBagPQFTSNyf+qQ1ATjp4wwkaEEBtKt4KWQQQQIqocKF+KQ5Ax1L739cBEUBiZ23HkikNQPOvQE9eDw5AnitjpmGmDUByVsAUUG4PQFm1c7OiuhJAK0y+XR+DFEBR9CPyG/oRQA==\",\"dtype\":\"float64\",\"shape\":[143]},\"y\":[29,57,34,28,29,39,32,31,32,36,33,32,38,28,31,23,32,27,35,51,38,38,36,30,42,54,31,44,49,41,41,40,30,50,26,49,29,28,18,50,41,34,23,20,85,46,27,41,28,36,55,68,49,36,9,59,44,42,19,12,52,41,38,24,25,20,40,46,56,38,37,59,7,21,38,53,41,21,23,44,34,18,32,49,48,56,43,53,41,45,66,40,28,49,24,29,17,38,49,35,29,39,58,53,48,63,33,52,41,21,27,43,46,21,22,40,35,16,32,23,20,29,48,44,43,29,23,25,38,16,57,27,56,46,30,56,40,22,45,44,56,66,54]},\"selected\":{\"id\":\"2411\",\"type\":\"Selection\"},\"selection_policy\":{\"id\":\"2410\",\"type\":\"UnionRenderers\"}},\"id\":\"2312\",\"type\":\"ColumnDataSource\"},{\"attributes\":{},\"id\":\"2302\",\"type\":\"HelpTool\"},{\"attributes\":{},\"id\":\"2288\",\"type\":\"BasicTicker\"},{\"attributes\":{\"overlay\":{\"id\":\"2305\",\"type\":\"BoxAnnotation\"}},\"id\":\"2299\",\"type\":\"BoxZoomTool\"},{\"attributes\":{},\"id\":\"2297\",\"type\":\"PanTool\"},{\"attributes\":{},\"id\":\"2408\",\"type\":\"BasicTickFormatter\"},{\"attributes\":{\"axis_label\":\"Numero de estaciones asociadas a la calidad\",\"formatter\":{\"id\":\"2408\",\"type\":\"BasicTickFormatter\"},\"plot\":{\"id\":\"2277\",\"subtype\":\"Figure\",\"type\":\"Plot\"},\"ticker\":{\"id\":\"2293\",\"type\":\"BasicTicker\"}},\"id\":\"2292\",\"type\":\"LinearAxis\"},{\"attributes\":{\"fill_alpha\":{\"value\":0.1},\"fill_color\":{\"value\":\"#1f77b4\"},\"line_alpha\":{\"value\":0.1},\"line_color\":{\"value\":\"#1f77b4\"},\"x\":{\"field\":\"x\"},\"y\":{\"field\":\"y\"}},\"id\":\"2314\",\"type\":\"Circle\"},{\"attributes\":{},\"id\":\"2285\",\"type\":\"LinearScale\"},{\"attributes\":{\"fill_color\":{\"value\":\"#1f77b4\"},\"line_color\":{\"value\":\"#1f77b4\"},\"x\":{\"field\":\"x\"},\"y\":{\"field\":\"y\"}},\"id\":\"2313\",\"type\":\"Circle\"}],\"root_ids\":[\"2277\"]},\"title\":\"Bokeh Application\",\"version\":\"1.0.4\"}};\n",
       "  var render_items = [{\"docid\":\"8bf1f113-c405-46f1-9dd8-f4f8569ca763\",\"roots\":{\"2277\":\"0a67a810-1885-4d73-8678-b9e6f6e76fc6\"}}];\n",
       "  root.Bokeh.embed.embed_items_notebook(docs_json, render_items);\n",
       "\n",
       "  }\n",
       "  if (root.Bokeh !== undefined) {\n",
       "    embed_document(root);\n",
       "  } else {\n",
       "    var attempts = 0;\n",
       "    var timer = setInterval(function(root) {\n",
       "      if (root.Bokeh !== undefined) {\n",
       "        embed_document(root);\n",
       "        clearInterval(timer);\n",
       "      }\n",
       "      attempts++;\n",
       "      if (attempts > 100) {\n",
       "        console.log(\"Bokeh: ERROR: Unable to run BokehJS code because BokehJS library is missing\");\n",
       "        clearInterval(timer);\n",
       "      }\n",
       "    }, 10, root)\n",
       "  }\n",
       "})(window);"
      ],
      "application/vnd.bokehjs_exec.v0+json": ""
     },
     "metadata": {
      "application/vnd.bokehjs_exec.v0+json": {
       "id": "2277"
      }
     },
     "output_type": "display_data"
    }
   ],
   "source": [
    "plot9 = figure(plot_width=1200, plot_height=600, x_axis_label='Magnitud', y_axis_label='Numero de estaciones asociadas a la calidad', title='Magnitud vs Numero de estaciones asociadas a la calidad')\n",
    "plot9.title.text_font_size = '15pt'\n",
    "plot9.circle(nuevo['magnitud'], nuevo['quality_associatedStationCount'])\n",
    "show(plot9)"
   ]
  },
  {
   "cell_type": "code",
   "execution_count": 14,
   "metadata": {},
   "outputs": [
    {
     "data": {
      "text/html": [
       "\n",
       "\n",
       "\n",
       "\n",
       "\n",
       "\n",
       "  <div class=\"bk-root\" id=\"348eeac6-cb1c-473d-ac02-ba97002803fd\" data-root-id=\"2461\"></div>\n"
      ]
     },
     "metadata": {},
     "output_type": "display_data"
    },
    {
     "data": {
      "application/javascript": [
       "(function(root) {\n",
       "  function embed_document(root) {\n",
       "    \n",
       "  var docs_json = {\"d306e20e-c2dc-4c74-af20-09522695b134\":{\"roots\":{\"references\":[{\"attributes\":{\"below\":[{\"id\":\"2471\",\"type\":\"LinearAxis\"}],\"left\":[{\"id\":\"2476\",\"type\":\"LinearAxis\"}],\"plot_width\":1200,\"renderers\":[{\"id\":\"2471\",\"type\":\"LinearAxis\"},{\"id\":\"2475\",\"type\":\"Grid\"},{\"id\":\"2476\",\"type\":\"LinearAxis\"},{\"id\":\"2480\",\"type\":\"Grid\"},{\"id\":\"2489\",\"type\":\"BoxAnnotation\"},{\"id\":\"2499\",\"type\":\"GlyphRenderer\"}],\"title\":{\"id\":\"2460\",\"type\":\"Title\"},\"toolbar\":{\"id\":\"2487\",\"type\":\"Toolbar\"},\"x_range\":{\"id\":\"2463\",\"type\":\"DataRange1d\"},\"x_scale\":{\"id\":\"2467\",\"type\":\"LinearScale\"},\"y_range\":{\"id\":\"2465\",\"type\":\"DataRange1d\"},\"y_scale\":{\"id\":\"2469\",\"type\":\"LinearScale\"}},\"id\":\"2461\",\"subtype\":\"Figure\",\"type\":\"Plot\"},{\"attributes\":{},\"id\":\"2602\",\"type\":\"UnionRenderers\"},{\"attributes\":{\"bottom_units\":\"screen\",\"fill_alpha\":{\"value\":0.5},\"fill_color\":{\"value\":\"lightgrey\"},\"left_units\":\"screen\",\"level\":\"overlay\",\"line_alpha\":{\"value\":1.0},\"line_color\":{\"value\":\"black\"},\"line_dash\":[4,4],\"line_width\":{\"value\":2},\"plot\":null,\"render_mode\":\"css\",\"right_units\":\"screen\",\"top_units\":\"screen\"},\"id\":\"2489\",\"type\":\"BoxAnnotation\"},{\"attributes\":{},\"id\":\"2600\",\"type\":\"BasicTickFormatter\"},{\"attributes\":{\"fill_alpha\":{\"value\":0.1},\"fill_color\":{\"value\":\"#1f77b4\"},\"line_alpha\":{\"value\":0.1},\"line_color\":{\"value\":\"#1f77b4\"},\"x\":{\"field\":\"x\"},\"y\":{\"field\":\"y\"}},\"id\":\"2498\",\"type\":\"Circle\"},{\"attributes\":{\"plot\":null,\"text\":\"Magnitud vs Cantidad de estaciones usadas de calidad\",\"text_font_size\":{\"value\":\"15pt\"}},\"id\":\"2460\",\"type\":\"Title\"},{\"attributes\":{\"fill_color\":{\"value\":\"#1f77b4\"},\"line_color\":{\"value\":\"#1f77b4\"},\"x\":{\"field\":\"x\"},\"y\":{\"field\":\"y\"}},\"id\":\"2497\",\"type\":\"Circle\"},{\"attributes\":{\"callback\":null},\"id\":\"2463\",\"type\":\"DataRange1d\"},{\"attributes\":{\"plot\":{\"id\":\"2461\",\"subtype\":\"Figure\",\"type\":\"Plot\"},\"ticker\":{\"id\":\"2472\",\"type\":\"BasicTicker\"}},\"id\":\"2475\",\"type\":\"Grid\"},{\"attributes\":{},\"id\":\"2467\",\"type\":\"LinearScale\"},{\"attributes\":{\"callback\":null},\"id\":\"2465\",\"type\":\"DataRange1d\"},{\"attributes\":{},\"id\":\"2469\",\"type\":\"LinearScale\"},{\"attributes\":{\"axis_label\":\"Magitud\",\"formatter\":{\"id\":\"2598\",\"type\":\"BasicTickFormatter\"},\"plot\":{\"id\":\"2461\",\"subtype\":\"Figure\",\"type\":\"Plot\"},\"ticker\":{\"id\":\"2472\",\"type\":\"BasicTicker\"}},\"id\":\"2471\",\"type\":\"LinearAxis\"},{\"attributes\":{},\"id\":\"2472\",\"type\":\"BasicTicker\"},{\"attributes\":{\"axis_label\":\"cantidad de estaciones usadas de calidad\",\"formatter\":{\"id\":\"2600\",\"type\":\"BasicTickFormatter\"},\"plot\":{\"id\":\"2461\",\"subtype\":\"Figure\",\"type\":\"Plot\"},\"ticker\":{\"id\":\"2477\",\"type\":\"BasicTicker\"}},\"id\":\"2476\",\"type\":\"LinearAxis\"},{\"attributes\":{\"dimension\":1,\"plot\":{\"id\":\"2461\",\"subtype\":\"Figure\",\"type\":\"Plot\"},\"ticker\":{\"id\":\"2477\",\"type\":\"BasicTicker\"}},\"id\":\"2480\",\"type\":\"Grid\"},{\"attributes\":{},\"id\":\"2477\",\"type\":\"BasicTicker\"},{\"attributes\":{\"source\":{\"id\":\"2496\",\"type\":\"ColumnDataSource\"}},\"id\":\"2500\",\"type\":\"CDSView\"},{\"attributes\":{\"active_drag\":\"auto\",\"active_inspect\":\"auto\",\"active_multi\":null,\"active_scroll\":\"auto\",\"active_tap\":\"auto\",\"tools\":[{\"id\":\"2481\",\"type\":\"PanTool\"},{\"id\":\"2482\",\"type\":\"WheelZoomTool\"},{\"id\":\"2483\",\"type\":\"BoxZoomTool\"},{\"id\":\"2484\",\"type\":\"SaveTool\"},{\"id\":\"2485\",\"type\":\"ResetTool\"},{\"id\":\"2486\",\"type\":\"HelpTool\"}]},\"id\":\"2487\",\"type\":\"Toolbar\"},{\"attributes\":{},\"id\":\"2481\",\"type\":\"PanTool\"},{\"attributes\":{},\"id\":\"2482\",\"type\":\"WheelZoomTool\"},{\"attributes\":{},\"id\":\"2603\",\"type\":\"Selection\"},{\"attributes\":{\"overlay\":{\"id\":\"2489\",\"type\":\"BoxAnnotation\"}},\"id\":\"2483\",\"type\":\"BoxZoomTool\"},{\"attributes\":{},\"id\":\"2484\",\"type\":\"SaveTool\"},{\"attributes\":{},\"id\":\"2485\",\"type\":\"ResetTool\"},{\"attributes\":{\"data_source\":{\"id\":\"2496\",\"type\":\"ColumnDataSource\"},\"glyph\":{\"id\":\"2497\",\"type\":\"Circle\"},\"hover_glyph\":null,\"muted_glyph\":null,\"nonselection_glyph\":{\"id\":\"2498\",\"type\":\"Circle\"},\"selection_glyph\":null,\"view\":{\"id\":\"2500\",\"type\":\"CDSView\"}},\"id\":\"2499\",\"type\":\"GlyphRenderer\"},{\"attributes\":{},\"id\":\"2486\",\"type\":\"HelpTool\"},{\"attributes\":{\"callback\":null,\"data\":{\"x\":{\"__ndarray__\":\"Z+CRwgY1D0A45cBhWEwTQMik0MMaOA1AoC2MmekTDUC1UHRVh7kOQGPVIMzt/hZAT05Z8h3hD0CXu+AdKtcMQKuOwS+a+g1AWQeblUgNDUDsBI/KqJ0OQOAKcmHuZA1AHVyVn68cEEAPiGsQQTAMQMTuO4bHjhJAl3vcEhRKDUDR2G7tCoYNQMGQ1a2euxBABzjOt0/4EUAwAENFi3oUQFi1/1yPHQ5AlAczt4ylDUC/O0OC8yMQQJEVsqmpGw1A4As48A8QEkD9u+O5Y6YPQJSKIZRSCw1AStro91gdEEAQ8otcgVIVQJZTTO8sSxFA2l+P7L6BEUBKUHBvhmgQQFyZCemdeA5ACX+OqLPbEkBA83uTjTwMQBqOhAnlrQ9ADywFrG6ADECgT+RJ0hETQBT9yhhZkQxAnrPDZwTWEEB8lXzsLjAMQPZZCu1BJQ1AvfMwWYHmD0ACXQN0whANQL90pERcthNAmAQcAHmYDUAXI7fLI8wPQLfOAXrIYQ1AnrkDTEsyE0ATIHUBUIkPQPIyN51sDBBAA3jqFT+DEkAxIWrLTi0TQGnPG9337g9AzkzV4vi+DEBWtHvqPzwRQHhTHbRP/g1AF0a8bY2ND0BETqHrqYYQQMrUTfd0tAxAGKfOYcbVEED8QVUzCBMQQCZ4O6nMSA1AaHtwTleNE0BA872vX44RQG/QA8TJSg5AebmhjGVQEEBiGTRXeq8QQGwgfnpDeBJAey4yhfcqDECC7tzFRY8SQD0jlVJlKg9AVNAn0RYwDEC8sPM+pwsMQIxqzzR6aAxADBP8JZjQFEAEuDA9J6YUQEBRVXgCDw1ApsQBNhiJDEDNcGZo+lwOQDKRkFBMiQ5AF0HnXvXiDEBo3ybtVwMNQL4raWIN+Q1AuaExrEUMEECNWy/6yAUOQPJZngd3Nw1APu9jWAdAEEAUziwRwWsPQEHK/GFTwA9ADnw11c3kE0BhwuyOWtsOQNvk6NjewgxAOEpenWO0EUDCv+cLStYPQNt6uKoNegxAHzcVDFthDUBcbrQMBmkNQIJ2RfgwHhJAF40QeSZPDEByaR3RFPQMQHkSQziHvwxArif8Ss4mEkBeTuh5YDUOQPwhkRGrshBATuh5YJW1FEAFIQ8z6nARQDOXCuAcIBJAeDod6YjjDUAZwISfciMPQIbOpZecGw1A+e2QB8c5DEB/B3GrQSwNQNyjs6OjGhBAzE3MYZSTDEBwqwdpGQsOQH7kc3oguhBAocuKl11WDEDw9XuDq4MMQJdMBGDyhQ5AbNaVpnMjD0AaRf+Ze98MQKAHDMzp4hFAL4LOvep5EUDOXksCsyYNQEG4Agr17AxATzezClnxEEB7WeqLSlMMQPlUZxjrNRJAn0ujjxp3DUB0pKeGBagPQFTSNyf+qQ1ATjp4wwkaEEBtKt4KWQQQQIqocKF+KQ5Ax1L739cBEUBiZ23HkikNQPOvQE9eDw5AnitjpmGmDUByVsAUUG4PQFm1c7OiuhJAK0y+XR+DFEBR9CPyG/oRQA==\",\"dtype\":\"float64\",\"shape\":[143]},\"y\":[29,54,31,28,25,35,28,31,30,29,26,32,32,28,30,21,32,26,30,51,29,33,36,29,42,54,28,40,46,36,37,36,27,41,26,49,29,25,10,42,40,32,19,19,83,42,26,33,28,31,50,67,24,36,9,51,44,39,13,8,47,37,34,24,24,12,40,40,54,37,33,53,7,20,36,52,37,21,21,43,31,18,31,42,41,56,32,42,40,45,47,30,28,47,18,27,16,37,46,29,25,32,44,49,48,63,26,50,40,21,25,33,39,14,15,35,33,15,31,21,19,22,45,44,40,29,19,24,37,14,57,23,56,45,28,38,37,19,44,34,48,55,36]},\"selected\":{\"id\":\"2603\",\"type\":\"Selection\"},\"selection_policy\":{\"id\":\"2602\",\"type\":\"UnionRenderers\"}},\"id\":\"2496\",\"type\":\"ColumnDataSource\"},{\"attributes\":{},\"id\":\"2598\",\"type\":\"BasicTickFormatter\"}],\"root_ids\":[\"2461\"]},\"title\":\"Bokeh Application\",\"version\":\"1.0.4\"}};\n",
       "  var render_items = [{\"docid\":\"d306e20e-c2dc-4c74-af20-09522695b134\",\"roots\":{\"2461\":\"348eeac6-cb1c-473d-ac02-ba97002803fd\"}}];\n",
       "  root.Bokeh.embed.embed_items_notebook(docs_json, render_items);\n",
       "\n",
       "  }\n",
       "  if (root.Bokeh !== undefined) {\n",
       "    embed_document(root);\n",
       "  } else {\n",
       "    var attempts = 0;\n",
       "    var timer = setInterval(function(root) {\n",
       "      if (root.Bokeh !== undefined) {\n",
       "        embed_document(root);\n",
       "        clearInterval(timer);\n",
       "      }\n",
       "      attempts++;\n",
       "      if (attempts > 100) {\n",
       "        console.log(\"Bokeh: ERROR: Unable to run BokehJS code because BokehJS library is missing\");\n",
       "        clearInterval(timer);\n",
       "      }\n",
       "    }, 10, root)\n",
       "  }\n",
       "})(window);"
      ],
      "application/vnd.bokehjs_exec.v0+json": ""
     },
     "metadata": {
      "application/vnd.bokehjs_exec.v0+json": {
       "id": "2461"
      }
     },
     "output_type": "display_data"
    }
   ],
   "source": [
    "plot10 = figure(plot_width=1200, plot_height=600, x_axis_label='Magitud', y_axis_label='cantidad de estaciones usadas de calidad', title='Magnitud vs Cantidad de estaciones usadas de calidad')\n",
    "plot10.title.text_font_size = '15pt'\n",
    "plot10.circle(nuevo['magnitud'], nuevo['quality_usedStationCount'])\n",
    "show(plot10)"
   ]
  },
  {
   "cell_type": "code",
   "execution_count": 15,
   "metadata": {},
   "outputs": [],
   "source": [
    "datos=pd.read_csv('datos1.csv', encoding = \"ISO-8859-1\")"
   ]
  },
  {
   "cell_type": "code",
   "execution_count": 16,
   "metadata": {},
   "outputs": [
    {
     "name": "stdout",
     "output_type": "stream",
     "text": [
      "0       Ecuador\n",
      "1       Ecuador\n",
      "2       Ecuador\n",
      "3       Ecuador\n",
      "4       Ecuador\n",
      "5       Ecuador\n",
      "6       Ecuador\n",
      "7      Colombia\n",
      "8       Ecuador\n",
      "9       Ecuador\n",
      "10      Ecuador\n",
      "11      Ecuador\n",
      "12      Ecuador\n",
      "13      Ecuador\n",
      "14      Ecuador\n",
      "15      Ecuador\n",
      "16      Ecuador\n",
      "17      Ecuador\n",
      "18      Ecuador\n",
      "19      Ecuador\n",
      "20      Ecuador\n",
      "21      Ecuador\n",
      "22      Ecuador\n",
      "23      Ecuador\n",
      "24      Ecuador\n",
      "25      Ecuador\n",
      "26      Ecuador\n",
      "27      Ecuador\n",
      "28      Ecuador\n",
      "29      Ecuador\n",
      "         ...   \n",
      "113     Ecuador\n",
      "114     Ecuador\n",
      "115     Ecuador\n",
      "116     Ecuador\n",
      "117        Peru\n",
      "118     Ecuador\n",
      "119     Ecuador\n",
      "120        Peru\n",
      "121     Ecuador\n",
      "122     Ecuador\n",
      "123     Ecuador\n",
      "124     Ecuador\n",
      "125     Ecuador\n",
      "126     Ecuador\n",
      "127     Ecuador\n",
      "128     Ecuador\n",
      "129        Peru\n",
      "130     Ecuador\n",
      "131     Ecuador\n",
      "132     Ecuador\n",
      "133     Ecuador\n",
      "134     Ecuador\n",
      "135     Ecuador\n",
      "136     Ecuador\n",
      "137     Ecuador\n",
      "138     Ecuador\n",
      "139     Ecuador\n",
      "140     Ecuador\n",
      "141     Ecuador\n",
      "142     Ecuador\n",
      "Name: pais, Length: 143, dtype: object\n"
     ]
    }
   ],
   "source": [
    "print(datos['pais'])"
   ]
  },
  {
   "cell_type": "code",
   "execution_count": null,
   "metadata": {},
   "outputs": [],
   "source": []
  },
  {
   "cell_type": "code",
   "execution_count": null,
   "metadata": {},
   "outputs": [],
   "source": []
  }
 ],
 "metadata": {
  "kernelspec": {
   "display_name": "Python 3",
   "language": "python",
   "name": "python3"
  },
  "language_info": {
   "codemirror_mode": {
    "name": "ipython",
    "version": 3
   },
   "file_extension": ".py",
   "mimetype": "text/x-python",
   "name": "python",
   "nbconvert_exporter": "python",
   "pygments_lexer": "ipython3",
   "version": "3.7.1"
  }
 },
 "nbformat": 4,
 "nbformat_minor": 2
}
